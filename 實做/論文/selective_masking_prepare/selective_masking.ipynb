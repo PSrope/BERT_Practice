{
 "cells": [
  {
   "attachments": {},
   "cell_type": "markdown",
   "metadata": {},
   "source": [
    "# Selective Masking 流程準備\n",
    "參考論文：[Train No Evil: Selective Masking for Task-Guided Pre-Training](https://arxiv.org/abs/2004.09733)"
   ]
  },
  {
   "attachments": {},
   "cell_type": "markdown",
   "metadata": {},
   "source": [
    "## 1. Fine-tune BERT"
   ]
  },
  {
   "cell_type": "code",
   "execution_count": 1,
   "metadata": {},
   "outputs": [
    {
     "data": {
      "text/html": [
       "<div>\n",
       "<style scoped>\n",
       "    .dataframe tbody tr th:only-of-type {\n",
       "        vertical-align: middle;\n",
       "    }\n",
       "\n",
       "    .dataframe tbody tr th {\n",
       "        vertical-align: top;\n",
       "    }\n",
       "\n",
       "    .dataframe thead th {\n",
       "        text-align: right;\n",
       "    }\n",
       "</style>\n",
       "<table border=\"1\" class=\"dataframe\">\n",
       "  <thead>\n",
       "    <tr style=\"text-align: right;\">\n",
       "      <th></th>\n",
       "      <th>category</th>\n",
       "      <th>text</th>\n",
       "    </tr>\n",
       "  </thead>\n",
       "  <tbody>\n",
       "    <tr>\n",
       "      <th>0</th>\n",
       "      <td>tech</td>\n",
       "      <td>tv future in the hands of viewers with home th...</td>\n",
       "    </tr>\n",
       "    <tr>\n",
       "      <th>1</th>\n",
       "      <td>business</td>\n",
       "      <td>worldcom boss  left books alone  former worldc...</td>\n",
       "    </tr>\n",
       "    <tr>\n",
       "      <th>2</th>\n",
       "      <td>sport</td>\n",
       "      <td>tigers wary of farrell  gamble  leicester say ...</td>\n",
       "    </tr>\n",
       "    <tr>\n",
       "      <th>3</th>\n",
       "      <td>sport</td>\n",
       "      <td>yeading face newcastle in fa cup premiership s...</td>\n",
       "    </tr>\n",
       "    <tr>\n",
       "      <th>4</th>\n",
       "      <td>entertainment</td>\n",
       "      <td>ocean s twelve raids box office ocean s twelve...</td>\n",
       "    </tr>\n",
       "  </tbody>\n",
       "</table>\n",
       "</div>"
      ],
      "text/plain": [
       "        category                                               text\n",
       "0           tech  tv future in the hands of viewers with home th...\n",
       "1       business  worldcom boss  left books alone  former worldc...\n",
       "2          sport  tigers wary of farrell  gamble  leicester say ...\n",
       "3          sport  yeading face newcastle in fa cup premiership s...\n",
       "4  entertainment  ocean s twelve raids box office ocean s twelve..."
      ]
     },
     "execution_count": 1,
     "metadata": {},
     "output_type": "execute_result"
    }
   ],
   "source": [
    "import pandas as pd\n",
    "import matplotlib.pyplot as plt\n",
    "\n",
    "datapath = '../bbc-text.csv'\n",
    "df = pd.read_csv(datapath)\n",
    "df.head()"
   ]
  },
  {
   "cell_type": "code",
   "execution_count": 2,
   "metadata": {},
   "outputs": [],
   "source": [
    "from transformers import BertTokenizer\n",
    "import torch\n",
    "import numpy as np\n",
    "from transformers import BertTokenizer\n",
    "\n",
    "# 決定 tokenizer 類型\n",
    "tokenizer = BertTokenizer.from_pretrained('bert-base-cased')\n",
    "# 決定資料集中各分類對應的 id\n",
    "labels = {'business':0,\n",
    "          'entertainment':1,\n",
    "          'sport':2,\n",
    "          'tech':3,\n",
    "          'politics':4\n",
    "          }\n",
    "\n",
    "# 資料集處理\n",
    "class Dataset(torch.utils.data.Dataset):\n",
    "\n",
    "    def __init__(self, df):\n",
    "        # 把每一筆資料的類別改成 id\n",
    "        self.labels = [labels[label] for label in df['category']]  \n",
    "        # 對每筆資料做 BERT tokenize\n",
    "        self.texts = [tokenizer(text, \n",
    "                               padding='max_length', max_length = 512, truncation=True,\n",
    "                                return_tensors=\"pt\") for text in df['text']]\n",
    "\n",
    "    # 回傳資料集各類別 (id)\n",
    "    def classes(self):\n",
    "        return self.labels\n",
    "\n",
    "    # 回傳該 label 的資料數\n",
    "    def __len__(self):\n",
    "        return len(self.labels)\n",
    "\n",
    "    # 取得當前資料的 label\n",
    "    def get_batch_labels(self, idx):\n",
    "        # Fetch a batch of labels\n",
    "        return np.array(self.labels[idx])\n",
    "\n",
    "    # 取得當前資料的 text\n",
    "    def get_batch_texts(self, idx):\n",
    "        # Fetch a batch of inputs\n",
    "        return self.texts[idx]\n",
    "\n",
    "    def __getitem__(self, idx):\n",
    "        batch_texts = self.get_batch_texts(idx)\n",
    "        batch_y = self.get_batch_labels(idx)\n",
    "\n",
    "        return batch_texts, batch_y"
   ]
  },
  {
   "cell_type": "code",
   "execution_count": 3,
   "metadata": {},
   "outputs": [
    {
     "name": "stdout",
     "output_type": "stream",
     "text": [
      "1780 222 223\n"
     ]
    }
   ],
   "source": [
    "np.random.seed(112)\n",
    "df_train, df_val, df_test = np.split(df.sample(frac=1, random_state=42), \n",
    "                                     [int(.8*len(df)), int(.9*len(df))])\n",
    "\n",
    "print(len(df_train),len(df_val), len(df_test))"
   ]
  },
  {
   "cell_type": "code",
   "execution_count": 4,
   "metadata": {},
   "outputs": [],
   "source": [
    "from torch import nn\n",
    "from transformers import BertForSequenceClassification\n",
    "from torch.optim import Adam\n",
    "from tqdm import tqdm\n",
    "import os\n",
    "\n",
    "def train(model, train_data, val_data, learning_rate, epochs, batch_size, model_name, save_path):\n",
    "    if os.path.isfile(\"fine_tune_record_epoch.csv\"):\n",
    "        rec = pd.read_csv(\"fine_tune_record_epoch.csv\")\n",
    "    else:\n",
    "        rec = pd.DataFrame({\"model_name\":[], \"train_acc\":[], \"train_loss\":[], \"val_acc\":[], \"val_loss\":[]})\n",
    "\n",
    "    # 把原本的資料經過 Dataset 類別包裝起來\n",
    "    train, val = Dataset(train_data), Dataset(val_data)\n",
    "\n",
    "    # 把訓練、驗證資料集丟進 Dataloader 定義取樣資訊 (ex: 設定 batch_size...等等)\n",
    "    train_dataloader = torch.utils.data.DataLoader(train, batch_size=batch_size, shuffle=True)\n",
    "    val_dataloader = torch.utils.data.DataLoader(val, batch_size=batch_size)\n",
    "\n",
    "    # 偵測有 GPU，有就用\n",
    "    use_cuda = torch.cuda.is_available()\n",
    "    device = torch.device(\"cuda\" if use_cuda else \"cpu\")\n",
    "\n",
    "    criterion = nn.CrossEntropyLoss()                       # Loss Function: Categorical cross entropy\n",
    "    optimizer = Adam(model.parameters(), lr= learning_rate) # Optimizer: Adam\n",
    "\n",
    "    if use_cuda:\n",
    "\n",
    "            model = model.cuda()\n",
    "            criterion = criterion.cuda()\n",
    "    \n",
    "    train_acc = []\n",
    "    train_loss = []\n",
    "    val_acc = []\n",
    "    val_loss = []\n",
    "    # 每次完整訓練 (每個 epoch) 要做的事\n",
    "    for epoch_num in range(epochs):\n",
    "\n",
    "            # ---------- 訓練的部分 ----------\n",
    "            total_acc_train = 0\n",
    "            total_loss_train = 0\n",
    "\n",
    "            # 這邊加上 tqdm 模組來顯示 dataloader 處理進度條\n",
    "            # 所以在程式意義上，可以直接把這行當作 for train_input, train_label in train_dataloader:\n",
    "            for train_input, train_label in tqdm(train_dataloader):\n",
    "                # .to(device): 把東西 (tensor) 丟到 GPU 的概念\n",
    "                train_label = train_label.type(torch.LongTensor).to(device)\n",
    "                mask = train_input['attention_mask'].squeeze(1).to(device)\n",
    "                input_id = train_input['input_ids'].squeeze(1).to(device)\n",
    "\n",
    "                # 把 data 丟進 BERT\n",
    "                output = model(input_ids=input_id, attention_mask=mask, labels=train_label)\n",
    "                \n",
    "                # 計算 Cross Entropy，以此計算 loss\n",
    "                batch_loss = output[0]\n",
    "                total_loss_train += batch_loss.item()               # .item(): tensor 轉 純量\n",
    "                \n",
    "                # 看 model output \"可能性最高\" 的 label 是不是和 data 一樣，是的話，acc + 1\n",
    "                logits = output[1]\n",
    "                pred_label = logits.argmax(dim=1)\n",
    "                acc = (pred_label == train_label).sum().item()\n",
    "                total_acc_train += acc\n",
    "\n",
    "                model.zero_grad()       # 清空前一次 Gradient\n",
    "                batch_loss.backward()   # 根據 lost 計算 back propagation\n",
    "                optimizer.step()        # 做 Gradient Decent\n",
    "            \n",
    "            # ---------- 驗證的部分 ----------\n",
    "            total_acc_val = 0\n",
    "            total_loss_val = 0\n",
    "\n",
    "            # 步驟和訓練時差不多，差在沒做 Gradient Decent\n",
    "            with torch.no_grad():\n",
    "\n",
    "                for val_input, val_label in val_dataloader:\n",
    "\n",
    "                    val_label = val_label.type(torch.LongTensor).to(device)\n",
    "                    mask = val_input['attention_mask'].to(device)\n",
    "                    input_id = val_input['input_ids'].squeeze(1).to(device)\n",
    "\n",
    "                    output = model(input_ids=input_id, attention_mask=mask, labels=val_label)\n",
    "\n",
    "                    batch_loss = output[0]\n",
    "                    total_loss_val += batch_loss.item()\n",
    "                    \n",
    "                    logits = output[1]\n",
    "                    pred_label = logits.argmax(dim=1)\n",
    "                    acc = (pred_label == val_label).sum().item()\n",
    "                    total_acc_val += acc\n",
    "            \n",
    "            train_loss.append(total_loss_train / len(train_data))\n",
    "            train_acc.append(total_acc_train / len(train_data))\n",
    "            val_loss.append(total_loss_val / len(val_data))\n",
    "            val_acc.append(total_acc_val / len(val_data))\n",
    "            print(\n",
    "                f'Epochs: {epoch_num + 1} | Train Loss: {total_loss_train / len(train_data): .3f} \\\n",
    "                | Train Accuracy: {total_acc_train / len(train_data): .3f} \\\n",
    "                | Val Loss: {total_loss_val / len(val_data): .3f} \\\n",
    "                | Val Accuracy: {total_acc_val / len(val_data): .3f}')\n",
    "    \n",
    "    new_rec = pd.concat([rec, pd.DataFrame(pd.DataFrame({'model_name': model_name, 'train_acc': [train_acc], 'train_loss': [train_loss], 'val_acc': [val_acc], 'val_loss': [val_loss]}))], ignore_index=True)\n",
    "    new_rec.to_csv(\"fine_tune_record_epoch.csv\", index = None)\n",
    "    model.save_pretrained(save_path)\n",
    "    model = None"
   ]
  },
  {
   "cell_type": "code",
   "execution_count": 5,
   "metadata": {},
   "outputs": [
    {
     "name": "stderr",
     "output_type": "stream",
     "text": [
      "Some weights of the model checkpoint at bert-base-cased were not used when initializing BertForSequenceClassification: ['cls.seq_relationship.bias', 'cls.predictions.bias', 'cls.predictions.transform.LayerNorm.bias', 'cls.predictions.transform.LayerNorm.weight', 'cls.seq_relationship.weight', 'cls.predictions.transform.dense.bias', 'cls.predictions.decoder.weight', 'cls.predictions.transform.dense.weight']\n",
      "- This IS expected if you are initializing BertForSequenceClassification from the checkpoint of a model trained on another task or with another architecture (e.g. initializing a BertForSequenceClassification model from a BertForPreTraining model).\n",
      "- This IS NOT expected if you are initializing BertForSequenceClassification from the checkpoint of a model that you expect to be exactly identical (initializing a BertForSequenceClassification model from a BertForSequenceClassification model).\n",
      "Some weights of BertForSequenceClassification were not initialized from the model checkpoint at bert-base-cased and are newly initialized: ['classifier.bias', 'classifier.weight']\n",
      "You should probably TRAIN this model on a down-stream task to be able to use it for predictions and inference.\n",
      "100%|██████████| 223/223 [01:19<00:00,  2.80it/s]\n"
     ]
    },
    {
     "name": "stdout",
     "output_type": "stream",
     "text": [
      "Epochs: 1 | Train Loss:  0.065                 | Train Accuracy:  0.842                 | Val Loss:  0.007                 | Val Accuracy:  0.986\n"
     ]
    },
    {
     "name": "stderr",
     "output_type": "stream",
     "text": [
      "100%|██████████| 223/223 [01:24<00:00,  2.63it/s]\n"
     ]
    },
    {
     "name": "stdout",
     "output_type": "stream",
     "text": [
      "Epochs: 2 | Train Loss:  0.008                 | Train Accuracy:  0.984                 | Val Loss:  0.006                 | Val Accuracy:  0.991\n"
     ]
    },
    {
     "name": "stderr",
     "output_type": "stream",
     "text": [
      "100%|██████████| 223/223 [01:24<00:00,  2.65it/s]\n"
     ]
    },
    {
     "name": "stdout",
     "output_type": "stream",
     "text": [
      "Epochs: 3 | Train Loss:  0.005                 | Train Accuracy:  0.990                 | Val Loss:  0.003                 | Val Accuracy:  0.986\n"
     ]
    },
    {
     "name": "stderr",
     "output_type": "stream",
     "text": [
      "100%|██████████| 223/223 [01:23<00:00,  2.66it/s]\n"
     ]
    },
    {
     "name": "stdout",
     "output_type": "stream",
     "text": [
      "Epochs: 4 | Train Loss:  0.003                 | Train Accuracy:  0.994                 | Val Loss:  0.012                 | Val Accuracy:  0.977\n"
     ]
    },
    {
     "name": "stderr",
     "output_type": "stream",
     "text": [
      "100%|██████████| 223/223 [01:23<00:00,  2.66it/s]\n"
     ]
    },
    {
     "name": "stdout",
     "output_type": "stream",
     "text": [
      "Epochs: 5 | Train Loss:  0.003                 | Train Accuracy:  0.993                 | Val Loss:  0.011                 | Val Accuracy:  0.977\n"
     ]
    },
    {
     "name": "stderr",
     "output_type": "stream",
     "text": [
      "100%|██████████| 223/223 [01:23<00:00,  2.68it/s]\n"
     ]
    },
    {
     "name": "stdout",
     "output_type": "stream",
     "text": [
      "Epochs: 6 | Train Loss:  0.001                 | Train Accuracy:  0.997                 | Val Loss:  0.007                 | Val Accuracy:  0.991\n"
     ]
    },
    {
     "name": "stderr",
     "output_type": "stream",
     "text": [
      "100%|██████████| 223/223 [01:22<00:00,  2.71it/s]\n"
     ]
    },
    {
     "name": "stdout",
     "output_type": "stream",
     "text": [
      "Epochs: 7 | Train Loss:  0.001                 | Train Accuracy:  0.998                 | Val Loss:  0.006                 | Val Accuracy:  0.991\n"
     ]
    },
    {
     "name": "stderr",
     "output_type": "stream",
     "text": [
      "100%|██████████| 223/223 [01:23<00:00,  2.67it/s]\n"
     ]
    },
    {
     "name": "stdout",
     "output_type": "stream",
     "text": [
      "Epochs: 8 | Train Loss:  0.004                 | Train Accuracy:  0.993                 | Val Loss:  0.011                 | Val Accuracy:  0.986\n"
     ]
    }
   ],
   "source": [
    "EPOCHS = 8\n",
    "LR = 2e-5\n",
    "batch_size = 8\n",
    "model = BertForSequenceClassification.from_pretrained('bert-base-cased', num_labels=5)     \n",
    "train(model, df_train, df_val, LR, EPOCHS, batch_size, \"Fine-tuned_BERT\", \"fine_tuned_bert\")"
   ]
  },
  {
   "attachments": {},
   "cell_type": "markdown",
   "metadata": {},
   "source": [
    "## 2. Downstream Mask"
   ]
  },
  {
   "cell_type": "code",
   "execution_count": 1,
   "metadata": {},
   "outputs": [],
   "source": [
    "import pandas as pd\n",
    "import matplotlib.pyplot as plt\n",
    "from transformers import BertTokenizer\n",
    "import torch\n",
    "import numpy as np\n",
    "from transformers import BertTokenizer\n",
    "import torch.nn.functional as F\n",
    "from torch import nn\n",
    "from transformers import BertForSequenceClassification"
   ]
  },
  {
   "cell_type": "code",
   "execution_count": 2,
   "metadata": {},
   "outputs": [
    {
     "data": {
      "text/html": [
       "<div>\n",
       "<style scoped>\n",
       "    .dataframe tbody tr th:only-of-type {\n",
       "        vertical-align: middle;\n",
       "    }\n",
       "\n",
       "    .dataframe tbody tr th {\n",
       "        vertical-align: top;\n",
       "    }\n",
       "\n",
       "    .dataframe thead th {\n",
       "        text-align: right;\n",
       "    }\n",
       "</style>\n",
       "<table border=\"1\" class=\"dataframe\">\n",
       "  <thead>\n",
       "    <tr style=\"text-align: right;\">\n",
       "      <th></th>\n",
       "      <th>category</th>\n",
       "      <th>text</th>\n",
       "    </tr>\n",
       "  </thead>\n",
       "  <tbody>\n",
       "    <tr>\n",
       "      <th>0</th>\n",
       "      <td>tech</td>\n",
       "      <td>tv future in the hands of viewers with home th...</td>\n",
       "    </tr>\n",
       "    <tr>\n",
       "      <th>1</th>\n",
       "      <td>business</td>\n",
       "      <td>worldcom boss  left books alone  former worldc...</td>\n",
       "    </tr>\n",
       "    <tr>\n",
       "      <th>2</th>\n",
       "      <td>sport</td>\n",
       "      <td>tigers wary of farrell  gamble  leicester say ...</td>\n",
       "    </tr>\n",
       "    <tr>\n",
       "      <th>3</th>\n",
       "      <td>sport</td>\n",
       "      <td>yeading face newcastle in fa cup premiership s...</td>\n",
       "    </tr>\n",
       "    <tr>\n",
       "      <th>4</th>\n",
       "      <td>entertainment</td>\n",
       "      <td>ocean s twelve raids box office ocean s twelve...</td>\n",
       "    </tr>\n",
       "  </tbody>\n",
       "</table>\n",
       "</div>"
      ],
      "text/plain": [
       "        category                                               text\n",
       "0           tech  tv future in the hands of viewers with home th...\n",
       "1       business  worldcom boss  left books alone  former worldc...\n",
       "2          sport  tigers wary of farrell  gamble  leicester say ...\n",
       "3          sport  yeading face newcastle in fa cup premiership s...\n",
       "4  entertainment  ocean s twelve raids box office ocean s twelve..."
      ]
     },
     "execution_count": 2,
     "metadata": {},
     "output_type": "execute_result"
    }
   ],
   "source": [
    "datapath = '../bbc-text.csv'\n",
    "df = pd.read_csv(datapath)\n",
    "df.head()"
   ]
  },
  {
   "cell_type": "code",
   "execution_count": 3,
   "metadata": {},
   "outputs": [],
   "source": [
    "sentences = []\n",
    "\n",
    "for i in range(len(df)):\n",
    "    sentences.append(df.iloc[i, 1])"
   ]
  },
  {
   "cell_type": "code",
   "execution_count": 4,
   "metadata": {},
   "outputs": [],
   "source": [
    "most_important = set()\n",
    "second_important = set()\n",
    "third_important = set()\n",
    "not_important = set()\n",
    "most_threshold = 0.05\n",
    "second_threshold = 0.07\n",
    "third_threshold = 0.10\n",
    "\n",
    "tokenizer = BertTokenizer.from_pretrained('bert-base-cased')\n",
    "model = BertForSequenceClassification.from_pretrained('fine_tuned_bert')"
   ]
  },
  {
   "cell_type": "code",
   "execution_count": 5,
   "metadata": {},
   "outputs": [],
   "source": [
    "def isIn(token, set_list, ifDel = False):\n",
    "    return_val = False\n",
    "    for s in set_list:\n",
    "        if token in s:\n",
    "            if ifDel:\n",
    "                s.remove(token)\n",
    "            return_val = True\n",
    "    return return_val\n",
    "\n",
    "device = torch.device(\"cuda\" if torch.cuda.is_available() else \"cpu\")\n",
    "for i in range(len(sentences)):\n",
    "    inputs_sentence = tokenizer(sentences[i], padding='max_length', \\\n",
    "                                max_length = 512, truncation=True, return_tensors=\"pt\")\n",
    "    \n",
    "    model.to(device)\n",
    "    inputs_sentence = inputs_sentence.to(device)\n",
    "    outputs_sentence = model(**inputs_sentence)\n",
    "\n",
    "    logits_sentence = outputs_sentence.logits\n",
    "    probs_sentence = F.softmax(logits_sentence, dim=-1)\n",
    "    pred_label_sentence = torch.argmax(probs_sentence, dim=-1).item()\n",
    "    confidence_sentence = probs_sentence[0][pred_label_sentence].item()\n",
    "\n",
    "    sentence2_idx = 0\n",
    "    sentence2_input = torch.full(inputs_sentence['input_ids'].shape, 0)\n",
    "    sentence2_tkn_type = torch.full(inputs_sentence['token_type_ids'].shape, 0)\n",
    "    sentence2_att_mast = torch.full(inputs_sentence['attention_mask'].shape, 0)\n",
    "\n",
    "    for j in range(512):\n",
    "        token_now = inputs_sentence['input_ids'][0][j]\n",
    "        token_now_int = token_now.item()\n",
    "        \n",
    "        sentence2_input[0][sentence2_idx] = token_now\n",
    "        sentence2_att_mast[0][sentence2_idx] = 1\n",
    "        sentence2_idx += 1\n",
    "        if token_now_int == 101:\n",
    "            continue\n",
    "        elif token_now_int == 102:\n",
    "            break\n",
    "        \n",
    "        sentence2_input = sentence2_input.to(device)\n",
    "        sentence2_tkn_type = sentence2_tkn_type.to(device)\n",
    "        sentence2_att_mast = sentence2_att_mast.to(device)\n",
    "        # print(tokenizer.decode(sentence2_input[0]))\n",
    "        outputs_sentence2 = model(input_ids=sentence2_input, attention_mask=sentence2_att_mast, token_type_ids=sentence2_tkn_type)\n",
    "\n",
    "        logits_sentence2 = outputs_sentence2.logits\n",
    "        probs_sentence2 = F.softmax(logits_sentence2, dim=-1)\n",
    "        pred_label_sentence2 = torch.argmax(probs_sentence2, dim=-1).item()\n",
    "        confidence_sentence2 = probs_sentence2[0][pred_label_sentence2].item()\n",
    "        \n",
    "        if pred_label_sentence != pred_label_sentence2:\n",
    "            if isIn(token_now_int, [most_important, second_important, third_important, not_important]) == False:\n",
    "                not_important.add(token_now_int)\n",
    "        else:\n",
    "            score = abs(confidence_sentence - confidence_sentence2)\n",
    "            if score <= most_threshold:\n",
    "                most_important.add(token_now_int)\n",
    "                isIn(token_now_int, [second_important, third_important, not_important], ifDel = True)\n",
    "                sentence2_input[0][sentence2_idx] = 0\n",
    "                sentence2_att_mast[0][sentence2_idx] = 0\n",
    "                sentence2_idx -= 1\n",
    "            elif score <= second_threshold and not isIn(token_now_int, [most_important]):\n",
    "                second_important.add(token_now_int)\n",
    "                isIn(token_now_int, [third_important, not_important], ifDel = True)\n",
    "                sentence2_input[0][sentence2_idx] = 0\n",
    "                sentence2_att_mast[0][sentence2_idx] = 0\n",
    "                sentence2_idx -= 1\n",
    "            elif score <= third_threshold and not isIn(token_now_int, [most_important, second_important]):\n",
    "                third_important.add(token_now_int)\n",
    "                isIn(token_now_int, [not_important], ifDel = True)\n",
    "                sentence2_input[0][sentence2_idx] = 0\n",
    "                sentence2_att_mast[0][sentence2_idx] = 0\n",
    "                sentence2_idx -= 1\n",
    "            elif not isIn(token_now_int, [most_important, second_important, third_important]):\n",
    "                not_important.add(token_now_int)\n",
    "    break\n",
    "# print(most_important)\n",
    "# print(second_important)\n",
    "# print(third_important)\n",
    "# print(not_important)"
   ]
  },
  {
   "cell_type": "code",
   "execution_count": 6,
   "metadata": {},
   "outputs": [
    {
     "name": "stdout",
     "output_type": "stream",
     "text": [
      "{1888, 15139, 2621, 12263, 2984, 1449, 6379, 1964, 5197, 8171, 7951, 11216, 26577, 18898, 3539, 2357, 2557, 2815}\n",
      "{13441, 5989, 2344, 4045, 2258, 1555, 5754, 3643, 1116, 189}\n",
      "{2443, 1292, 6412, 1169, 1176, 2086, 15403, 1197, 1977, 1211, 4159, 6984, 15435, 1103, 6095, 1105, 1106, 1104, 1234, 1499, 1383, 2538, 1132, 3438, 21359, 113, 1524, 1141, 119}\n",
      "{4097, 4609, 2052, 15370, 3094, 6678, 2595, 4644, 2084, 1575, 11305, 4653, 1605, 2120, 5710, 1107, 8276, 1110, 1111, 17496, 3673, 1114, 1115, 1112, 1118, 1119, 1120, 4193, 1122, 1121, 1126, 4711, 1129, 1133, 1134, 1647, 1136, 114, 3186, 116, 118, 1142, 1144, 6265, 1146, 2683, 1145, 27772, 2174, 1151, 1152, 1147, 1154, 12411, 1665, 131, 1158, 1159, 1671, 27271, 1162, 1163, 5260, 1164, 1165, 1167, 1168, 8844, 1172, 3223, 1175, 1177, 1690, 1179, 1178, 3741, 1184, 1185, 1696, 10915, 1190, 1193, 1194, 6827, 172, 173, 170, 1199, 13482, 1201, 1195, 179, 171, 175, 11955, 1207, 2232, 1209, 185, 12986, 3772, 188, 1721, 1208, 1217, 1218, 3265, 1228, 1236, 1763, 3818, 7407, 5871, 1777, 1267, 1780, 6388, 8440, 1272, 1277, 1279, 14598, 2824, 2312, 1293, 1808, 1303, 8473, 13081, 1313, 1826, 2851, 6437, 1830, 1319, 1321, 1328, 5936, 5940, 21820, 3901, 1344, 2371, 4934, 5962, 1870, 2898, 1662, 1366, 2394, 10075, 1372, 1896, 1897, 8557, 8050, 1395, 1396, 3958, 4472, 1412, 1421, 2960, 2682, 2451, 2452, 4501, 26006, 26519, 1434, 4506, 1437, 9122, 7588, 5029, 4518, 4517, 1204, 11183, 18865, 5042, 2486, 2490, 2492, 2495, 1472, 3012, 12741, 1992, 4041, 3016, 1487, 3026, 1493, 2520, 2521, 1500, 4060, 4063, 10209, 1505, 2020, 7143, 1513, 6640, 8178, 23028, 1525, 2551, 7675}\n"
     ]
    }
   ],
   "source": [
    "print(most_important)\n",
    "print(second_important)\n",
    "print(third_important)\n",
    "print(not_important)"
   ]
  },
  {
   "cell_type": "code",
   "execution_count": 7,
   "metadata": {},
   "outputs": [
    {
     "data": {
      "text/plain": [
       "'video portable allow providers store system networksv devices boxes technologies electronics broadband recorder digital personal companies technology'"
      ]
     },
     "execution_count": 7,
     "metadata": {},
     "output_type": "execute_result"
    }
   ],
   "source": [
    "text1 = tokenizer.decode(most_important)\n",
    "text1"
   ]
  },
  {
   "attachments": {},
   "cell_type": "markdown",
   "metadata": {},
   "source": [
    "### Rewrite"
   ]
  },
  {
   "cell_type": "code",
   "execution_count": 1,
   "metadata": {},
   "outputs": [],
   "source": [
    "import pandas as pd\n",
    "import matplotlib.pyplot as plt\n",
    "from transformers import BertTokenizer\n",
    "import torch\n",
    "import numpy as np\n",
    "from transformers import BertTokenizer\n",
    "import torch.nn.functional as F\n",
    "from torch import nn\n",
    "from transformers import BertForSequenceClassification"
   ]
  },
  {
   "cell_type": "code",
   "execution_count": 2,
   "metadata": {},
   "outputs": [
    {
     "data": {
      "text/html": [
       "<div>\n",
       "<style scoped>\n",
       "    .dataframe tbody tr th:only-of-type {\n",
       "        vertical-align: middle;\n",
       "    }\n",
       "\n",
       "    .dataframe tbody tr th {\n",
       "        vertical-align: top;\n",
       "    }\n",
       "\n",
       "    .dataframe thead th {\n",
       "        text-align: right;\n",
       "    }\n",
       "</style>\n",
       "<table border=\"1\" class=\"dataframe\">\n",
       "  <thead>\n",
       "    <tr style=\"text-align: right;\">\n",
       "      <th></th>\n",
       "      <th>category</th>\n",
       "      <th>text</th>\n",
       "      <th>important_labels</th>\n",
       "      <th>most_important</th>\n",
       "      <th>second_important</th>\n",
       "      <th>third_important</th>\n",
       "    </tr>\n",
       "  </thead>\n",
       "  <tbody>\n",
       "    <tr>\n",
       "      <th>0</th>\n",
       "      <td>tech</td>\n",
       "      <td>tv future in the hands of viewers with home th...</td>\n",
       "      <td></td>\n",
       "      <td></td>\n",
       "      <td></td>\n",
       "      <td></td>\n",
       "    </tr>\n",
       "    <tr>\n",
       "      <th>1</th>\n",
       "      <td>business</td>\n",
       "      <td>worldcom boss  left books alone  former worldc...</td>\n",
       "      <td></td>\n",
       "      <td></td>\n",
       "      <td></td>\n",
       "      <td></td>\n",
       "    </tr>\n",
       "    <tr>\n",
       "      <th>2</th>\n",
       "      <td>sport</td>\n",
       "      <td>tigers wary of farrell  gamble  leicester say ...</td>\n",
       "      <td></td>\n",
       "      <td></td>\n",
       "      <td></td>\n",
       "      <td></td>\n",
       "    </tr>\n",
       "    <tr>\n",
       "      <th>3</th>\n",
       "      <td>sport</td>\n",
       "      <td>yeading face newcastle in fa cup premiership s...</td>\n",
       "      <td></td>\n",
       "      <td></td>\n",
       "      <td></td>\n",
       "      <td></td>\n",
       "    </tr>\n",
       "    <tr>\n",
       "      <th>4</th>\n",
       "      <td>entertainment</td>\n",
       "      <td>ocean s twelve raids box office ocean s twelve...</td>\n",
       "      <td></td>\n",
       "      <td></td>\n",
       "      <td></td>\n",
       "      <td></td>\n",
       "    </tr>\n",
       "  </tbody>\n",
       "</table>\n",
       "</div>"
      ],
      "text/plain": [
       "        category                                               text  \\\n",
       "0           tech  tv future in the hands of viewers with home th...   \n",
       "1       business  worldcom boss  left books alone  former worldc...   \n",
       "2          sport  tigers wary of farrell  gamble  leicester say ...   \n",
       "3          sport  yeading face newcastle in fa cup premiership s...   \n",
       "4  entertainment  ocean s twelve raids box office ocean s twelve...   \n",
       "\n",
       "  important_labels most_important second_important third_important  \n",
       "0                                                                   \n",
       "1                                                                   \n",
       "2                                                                   \n",
       "3                                                                   \n",
       "4                                                                   "
      ]
     },
     "execution_count": 2,
     "metadata": {},
     "output_type": "execute_result"
    }
   ],
   "source": [
    "# datapath = '../bbc-text.csv'\n",
    "# df = pd.read_csv(datapath)\n",
    "# df.head()\n",
    "# df[\"important_labels\"] = [\" \" for _ in range(len(df.index))]\n",
    "# df[\"most_important\"] = [\" \" for _ in range(len(df.index))]\n",
    "# df[\"second_important\"] = [\" \" for _ in range(len(df.index))]\n",
    "# df[\"third_important\"] = [\" \" for _ in range(len(df.index))]\n",
    "# df.to_csv(\"bbc-text-with-important.csv\", index=None)\n",
    "# df.head()"
   ]
  },
  {
   "cell_type": "code",
   "execution_count": null,
   "metadata": {},
   "outputs": [],
   "source": [
    "datapath = 'bbc-text-with-important.csv'\n",
    "df = pd.read_csv(datapath)\n",
    "df[2202:]"
   ]
  },
  {
   "cell_type": "code",
   "execution_count": 3,
   "metadata": {},
   "outputs": [],
   "source": [
    "sentences = []\n",
    "\n",
    "for i in range(len(df)):\n",
    "    sentences.append(df.iloc[i, 1])"
   ]
  },
  {
   "cell_type": "code",
   "execution_count": 4,
   "metadata": {},
   "outputs": [],
   "source": [
    "most_threshold = 0.05\n",
    "second_threshold = 0.07\n",
    "third_threshold = 0.10\n",
    "\n",
    "tokenizer = BertTokenizer.from_pretrained('bert-base-cased')\n",
    "model = BertForSequenceClassification.from_pretrained('fine_tuned_bert')"
   ]
  },
  {
   "cell_type": "code",
   "execution_count": 5,
   "metadata": {},
   "outputs": [],
   "source": [
    "device = torch.device(\"cuda\" if torch.cuda.is_available() else \"cpu\")\n",
    "\n",
    "for i in range(len(sentences)):\n",
    "    inputs_sentence = tokenizer(sentences[i], padding='max_length', \\\n",
    "                                max_length = 512, truncation=True, return_tensors=\"pt\")\n",
    "    \n",
    "    model.to(device)\n",
    "    inputs_sentence = inputs_sentence.to(device)\n",
    "    outputs_sentence = model(**inputs_sentence)\n",
    "\n",
    "    logits_sentence = outputs_sentence.logits\n",
    "    probs_sentence = F.softmax(logits_sentence, dim=-1)\n",
    "    pred_label_sentence = torch.argmax(probs_sentence, dim=-1).item()\n",
    "    confidence_sentence = probs_sentence[0][pred_label_sentence].item()\n",
    "\n",
    "    sentence2_idx = 0\n",
    "    sentence2_input = torch.full(inputs_sentence['input_ids'].shape, 0)\n",
    "    sentence2_tkn_type = torch.full(inputs_sentence['token_type_ids'].shape, 0)\n",
    "    sentence2_att_mast = torch.full(inputs_sentence['attention_mask'].shape, 0)\n",
    "\n",
    "    for j in range(512):\n",
    "        token_now = inputs_sentence['input_ids'][0][j]\n",
    "        token_now_int = token_now.item()\n",
    "        \n",
    "        sentence2_input[0][sentence2_idx] = token_now\n",
    "        sentence2_att_mast[0][sentence2_idx] = 1\n",
    "        sentence2_idx += 1\n",
    "        if token_now_int == 101:\n",
    "            df.iloc[i, 2] += '0'\n",
    "            continue\n",
    "        elif token_now_int == 102:\n",
    "            df.iloc[i, 2] += \", 0\"\n",
    "            break\n",
    "        \n",
    "        sentence2_input = sentence2_input.to(device)\n",
    "        sentence2_tkn_type = sentence2_tkn_type.to(device)\n",
    "        sentence2_att_mast = sentence2_att_mast.to(device)\n",
    "        # print(tokenizer.decode(sentence2_input[0]))\n",
    "        outputs_sentence2 = model(input_ids=sentence2_input, attention_mask=sentence2_att_mast, token_type_ids=sentence2_tkn_type)\n",
    "\n",
    "        logits_sentence2 = outputs_sentence2.logits\n",
    "        probs_sentence2 = F.softmax(logits_sentence2, dim=-1)\n",
    "        pred_label_sentence2 = torch.argmax(probs_sentence2, dim=-1).item()\n",
    "        confidence_sentence2 = probs_sentence2[0][pred_label_sentence2].item()\n",
    "        \n",
    "        if pred_label_sentence != pred_label_sentence2:\n",
    "            df.iloc[i, 2] += \", 0\"\n",
    "        else:\n",
    "            score = abs(confidence_sentence - confidence_sentence2)\n",
    "            \n",
    "            if score <= most_threshold:\n",
    "                df.iloc[i, 2] += \", 3\"\n",
    "                df.iloc[i, 3] += \", \" + str(token_now_int)\n",
    "                sentence2_input[0][sentence2_idx] = 0\n",
    "                sentence2_att_mast[0][sentence2_idx] = 0\n",
    "                sentence2_idx -= 1\n",
    "            elif score <= second_threshold:\n",
    "                df.iloc[i, 2] += \", 2\"\n",
    "                df.iloc[i, 4] += \", \" + str(token_now_int)\n",
    "                sentence2_input[0][sentence2_idx] = 0\n",
    "                sentence2_att_mast[0][sentence2_idx] = 0\n",
    "                sentence2_idx -= 1\n",
    "            elif score <= third_threshold:\n",
    "                df.iloc[i, 2] += \", 1\"\n",
    "                df.iloc[i, 5] += \", \" + str(token_now_int)\n",
    "                sentence2_input[0][sentence2_idx] = 0\n",
    "                sentence2_att_mast[0][sentence2_idx] = 0\n",
    "                sentence2_idx -= 1\n",
    "            else:\n",
    "                df.iloc[i, 2] += \", 0\"\n",
    "df.to_csv(\"bbc-text-with-important.csv\", index=None)"
   ]
  },
  {
   "cell_type": "code",
   "execution_count": 12,
   "metadata": {},
   "outputs": [
    {
     "data": {
      "text/plain": [
       "category                                                entertainment\n",
       "text                label withdraws mcfadden s video the new video...\n",
       "important_labels     0, 3, 0, 0, 0, 0, 0, 0, 0, 3, 0, 0, 3, 0, 0, ...\n",
       "most_important       , 3107, 1888, 1888, 14430, 2483, 1461, 1888, ...\n",
       "second_important                                               , 3481\n",
       "third_important      , 1488, 1144, 5627, 7662, 1637, 20715, 14430,...\n",
       "Name: 1885, dtype: object"
      ]
     },
     "execution_count": 12,
     "metadata": {},
     "output_type": "execute_result"
    }
   ],
   "source": [
    "df.iloc[1885]"
   ]
  },
  {
   "cell_type": "code",
   "execution_count": 9,
   "metadata": {},
   "outputs": [
    {
     "data": {
      "text/plain": [
       "'label video videolife singer song video song lyrics performer label video television stations label pop star song solo album song autobiographical songs group solo single chart top band'"
      ]
     },
     "execution_count": 9,
     "metadata": {},
     "output_type": "execute_result"
    }
   ],
   "source": [
    "test = df.iloc[1885,3].split(', ')[1:]\n",
    "for k in range(len(test)):\n",
    "    test[k] = int(test[k])\n",
    "text1 = tokenizer.decode(test)\n",
    "text1"
   ]
  },
  {
   "cell_type": "code",
   "execution_count": 10,
   "metadata": {},
   "outputs": [
    {
     "data": {
      "text/plain": [
       "'chart'"
      ]
     },
     "execution_count": 10,
     "metadata": {},
     "output_type": "execute_result"
    }
   ],
   "source": [
    "test = df.iloc[1885,4].split(', ')[1:]\n",
    "for k in range(len(test)):\n",
    "    test[k] = int(test[k])\n",
    "text1 = tokenizer.decode(test)\n",
    "text1"
   ]
  },
  {
   "cell_type": "code",
   "execution_count": 11,
   "metadata": {},
   "outputs": [
    {
     "data": {
      "text/plain": [
       "'son has replacement topics written collaboratorlifepers boy'"
      ]
     },
     "execution_count": 11,
     "metadata": {},
     "output_type": "execute_result"
    }
   ],
   "source": [
    "test = df.iloc[1885,5].split(', ')[1:]\n",
    "for k in range(len(test)):\n",
    "    test[k] = int(test[k])\n",
    "text1 = tokenizer.decode(test)\n",
    "text1"
   ]
  },
  {
   "attachments": {},
   "cell_type": "markdown",
   "metadata": {},
   "source": [
    "## Rewrite-0.03"
   ]
  },
  {
   "cell_type": "code",
   "execution_count": 6,
   "metadata": {},
   "outputs": [],
   "source": [
    "import pandas as pd\n",
    "import matplotlib.pyplot as plt\n",
    "from transformers import BertTokenizer\n",
    "import torch\n",
    "import numpy as np\n",
    "from transformers import BertTokenizer\n",
    "import torch.nn.functional as F\n",
    "from torch import nn\n",
    "from transformers import BertForSequenceClassification"
   ]
  },
  {
   "cell_type": "code",
   "execution_count": 7,
   "metadata": {},
   "outputs": [
    {
     "data": {
      "text/html": [
       "<div>\n",
       "<style scoped>\n",
       "    .dataframe tbody tr th:only-of-type {\n",
       "        vertical-align: middle;\n",
       "    }\n",
       "\n",
       "    .dataframe tbody tr th {\n",
       "        vertical-align: top;\n",
       "    }\n",
       "\n",
       "    .dataframe thead th {\n",
       "        text-align: right;\n",
       "    }\n",
       "</style>\n",
       "<table border=\"1\" class=\"dataframe\">\n",
       "  <thead>\n",
       "    <tr style=\"text-align: right;\">\n",
       "      <th></th>\n",
       "      <th>category</th>\n",
       "      <th>text</th>\n",
       "      <th>important_labels</th>\n",
       "      <th>most_important</th>\n",
       "      <th>second_important</th>\n",
       "      <th>third_important</th>\n",
       "    </tr>\n",
       "  </thead>\n",
       "  <tbody>\n",
       "    <tr>\n",
       "      <th>0</th>\n",
       "      <td>tech</td>\n",
       "      <td>tv future in the hands of viewers with home th...</td>\n",
       "      <td></td>\n",
       "      <td></td>\n",
       "      <td></td>\n",
       "      <td></td>\n",
       "    </tr>\n",
       "    <tr>\n",
       "      <th>1</th>\n",
       "      <td>business</td>\n",
       "      <td>worldcom boss  left books alone  former worldc...</td>\n",
       "      <td></td>\n",
       "      <td></td>\n",
       "      <td></td>\n",
       "      <td></td>\n",
       "    </tr>\n",
       "    <tr>\n",
       "      <th>2</th>\n",
       "      <td>sport</td>\n",
       "      <td>tigers wary of farrell  gamble  leicester say ...</td>\n",
       "      <td></td>\n",
       "      <td></td>\n",
       "      <td></td>\n",
       "      <td></td>\n",
       "    </tr>\n",
       "    <tr>\n",
       "      <th>3</th>\n",
       "      <td>sport</td>\n",
       "      <td>yeading face newcastle in fa cup premiership s...</td>\n",
       "      <td></td>\n",
       "      <td></td>\n",
       "      <td></td>\n",
       "      <td></td>\n",
       "    </tr>\n",
       "    <tr>\n",
       "      <th>4</th>\n",
       "      <td>entertainment</td>\n",
       "      <td>ocean s twelve raids box office ocean s twelve...</td>\n",
       "      <td></td>\n",
       "      <td></td>\n",
       "      <td></td>\n",
       "      <td></td>\n",
       "    </tr>\n",
       "  </tbody>\n",
       "</table>\n",
       "</div>"
      ],
      "text/plain": [
       "        category                                               text  \\\n",
       "0           tech  tv future in the hands of viewers with home th...   \n",
       "1       business  worldcom boss  left books alone  former worldc...   \n",
       "2          sport  tigers wary of farrell  gamble  leicester say ...   \n",
       "3          sport  yeading face newcastle in fa cup premiership s...   \n",
       "4  entertainment  ocean s twelve raids box office ocean s twelve...   \n",
       "\n",
       "  important_labels most_important second_important third_important  \n",
       "0                                                                   \n",
       "1                                                                   \n",
       "2                                                                   \n",
       "3                                                                   \n",
       "4                                                                   "
      ]
     },
     "execution_count": 7,
     "metadata": {},
     "output_type": "execute_result"
    }
   ],
   "source": [
    "datapath = '../bbc-text.csv'\n",
    "df = pd.read_csv(datapath)\n",
    "\n",
    "df[\"important_labels\"] = [\" \" for _ in range(len(df.index))]\n",
    "df[\"most_important\"] = [\" \" for _ in range(len(df.index))]\n",
    "df[\"second_important\"] = [\" \" for _ in range(len(df.index))]\n",
    "df[\"third_important\"] = [\" \" for _ in range(len(df.index))]\n",
    "df.to_csv(\"bbc-text-with-important-003.csv\", index=None)\n",
    "df.head()"
   ]
  },
  {
   "cell_type": "code",
   "execution_count": 8,
   "metadata": {},
   "outputs": [],
   "source": [
    "sentences = []\n",
    "\n",
    "for i in range(len(df)):\n",
    "    sentences.append(df.iloc[i, 1])\n",
    "\n",
    "most_threshold = 0.03\n",
    "second_threshold = 0.05\n",
    "third_threshold = 0.07\n",
    "\n",
    "tokenizer = BertTokenizer.from_pretrained('bert-base-cased')\n",
    "model = BertForSequenceClassification.from_pretrained('fine_tuned_bert')"
   ]
  },
  {
   "cell_type": "code",
   "execution_count": 9,
   "metadata": {},
   "outputs": [],
   "source": [
    "device = torch.device(\"cuda\" if torch.cuda.is_available() else \"cpu\")\n",
    "\n",
    "for i in range(len(sentences)):\n",
    "    inputs_sentence = tokenizer(sentences[i], padding='max_length', \\\n",
    "                                max_length = 512, truncation=True, return_tensors=\"pt\")\n",
    "    \n",
    "    model.to(device)\n",
    "    inputs_sentence = inputs_sentence.to(device)\n",
    "    outputs_sentence = model(**inputs_sentence)\n",
    "\n",
    "    logits_sentence = outputs_sentence.logits\n",
    "    probs_sentence = F.softmax(logits_sentence, dim=-1)\n",
    "    pred_label_sentence = torch.argmax(probs_sentence, dim=-1).item()\n",
    "    confidence_sentence = probs_sentence[0][pred_label_sentence].item()\n",
    "\n",
    "    sentence2_idx = 0\n",
    "    sentence2_input = torch.full(inputs_sentence['input_ids'].shape, 0)\n",
    "    sentence2_tkn_type = torch.full(inputs_sentence['token_type_ids'].shape, 0)\n",
    "    sentence2_att_mast = torch.full(inputs_sentence['attention_mask'].shape, 0)\n",
    "\n",
    "    for j in range(512):\n",
    "        token_now = inputs_sentence['input_ids'][0][j]\n",
    "        token_now_int = token_now.item()\n",
    "        \n",
    "        sentence2_input[0][sentence2_idx] = token_now\n",
    "        sentence2_att_mast[0][sentence2_idx] = 1\n",
    "        sentence2_idx += 1\n",
    "        if token_now_int == 101:\n",
    "            df.iloc[i, 2] += '0'\n",
    "            continue\n",
    "        elif token_now_int == 102:\n",
    "            df.iloc[i, 2] += \", 0\"\n",
    "            break\n",
    "        \n",
    "        sentence2_input = sentence2_input.to(device)\n",
    "        sentence2_tkn_type = sentence2_tkn_type.to(device)\n",
    "        sentence2_att_mast = sentence2_att_mast.to(device)\n",
    "        # print(tokenizer.decode(sentence2_input[0]))\n",
    "        outputs_sentence2 = model(input_ids=sentence2_input, attention_mask=sentence2_att_mast, token_type_ids=sentence2_tkn_type)\n",
    "\n",
    "        logits_sentence2 = outputs_sentence2.logits\n",
    "        probs_sentence2 = F.softmax(logits_sentence2, dim=-1)\n",
    "        pred_label_sentence2 = torch.argmax(probs_sentence2, dim=-1).item()\n",
    "        confidence_sentence2 = probs_sentence2[0][pred_label_sentence2].item()\n",
    "        \n",
    "        if pred_label_sentence != pred_label_sentence2:\n",
    "            df.iloc[i, 2] += \", 0\"\n",
    "        else:\n",
    "            score = abs(confidence_sentence - confidence_sentence2)\n",
    "            \n",
    "            if score <= most_threshold:\n",
    "                df.iloc[i, 2] += \", 3\"\n",
    "                df.iloc[i, 3] += \", \" + str(token_now_int)\n",
    "                sentence2_input[0][sentence2_idx] = 0\n",
    "                sentence2_att_mast[0][sentence2_idx] = 0\n",
    "                sentence2_idx -= 1\n",
    "            elif score <= second_threshold:\n",
    "                df.iloc[i, 2] += \", 2\"\n",
    "                df.iloc[i, 4] += \", \" + str(token_now_int)\n",
    "                sentence2_input[0][sentence2_idx] = 0\n",
    "                sentence2_att_mast[0][sentence2_idx] = 0\n",
    "                sentence2_idx -= 1\n",
    "            elif score <= third_threshold:\n",
    "                df.iloc[i, 2] += \", 1\"\n",
    "                df.iloc[i, 5] += \", \" + str(token_now_int)\n",
    "                sentence2_input[0][sentence2_idx] = 0\n",
    "                sentence2_att_mast[0][sentence2_idx] = 0\n",
    "                sentence2_idx -= 1\n",
    "            else:\n",
    "                df.iloc[i, 2] += \", 0\"\n",
    "df.to_csv(\"bbc-text-with-important-003.csv\", index=None)"
   ]
  },
  {
   "attachments": {},
   "cell_type": "markdown",
   "metadata": {},
   "source": [
    "### --- test ---"
   ]
  },
  {
   "cell_type": "code",
   "execution_count": 23,
   "metadata": {},
   "outputs": [
    {
     "data": {
      "text/plain": [
       "tensor([[-1.6769, -1.3050,  4.5313, -1.6913, -0.7815]],\n",
       "       grad_fn=<AddmmBackward0>)"
      ]
     },
     "execution_count": 23,
     "metadata": {},
     "output_type": "execute_result"
    }
   ],
   "source": [
    "tokenizer = BertTokenizer.from_pretrained('bert-base-cased')\n",
    "model = BertForSequenceClassification.from_pretrained('fine_tuned_bert')\n",
    "inputs = tokenizer(sentences[2], padding='max_length', \\\n",
    "                   max_length = 512, truncation=True, return_tensors=\"pt\")\n",
    "outputs = model(**inputs)\n",
    "logits = outputs.logits\n",
    "pred_label = logits.argmax(dim=1)\n",
    "logits"
   ]
  },
  {
   "cell_type": "code",
   "execution_count": 28,
   "metadata": {},
   "outputs": [
    {
     "name": "stdout",
     "output_type": "stream",
     "text": [
      "tensor([2])\n",
      "2\n",
      "2\n",
      "0.9882943630218506\n"
     ]
    },
    {
     "data": {
      "text/plain": [
       "tensor([[0.0020, 0.0029, 0.9883, 0.0020, 0.0049]], grad_fn=<SoftmaxBackward0>)"
      ]
     },
     "execution_count": 28,
     "metadata": {},
     "output_type": "execute_result"
    }
   ],
   "source": [
    "probs = F.softmax(logits, dim=-1)\n",
    "\n",
    "# 获取分类结果和概率值\n",
    "label = torch.argmax(probs, dim=-1).item()\n",
    "confidence = probs[0][label].item()\n",
    "print(pred_label)\n",
    "print(pred_label.item())\n",
    "print(label)\n",
    "print(confidence)\n",
    "probs"
   ]
  }
 ],
 "metadata": {
  "kernelspec": {
   "display_name": "BERT_Practice",
   "language": "python",
   "name": "python3"
  },
  "language_info": {
   "codemirror_mode": {
    "name": "ipython",
    "version": 3
   },
   "file_extension": ".py",
   "mimetype": "text/x-python",
   "name": "python",
   "nbconvert_exporter": "python",
   "pygments_lexer": "ipython3",
   "version": "3.8.5"
  },
  "orig_nbformat": 4
 },
 "nbformat": 4,
 "nbformat_minor": 2
}

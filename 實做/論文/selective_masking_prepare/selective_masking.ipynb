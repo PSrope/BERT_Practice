{
 "cells": [
  {
   "attachments": {},
   "cell_type": "markdown",
   "metadata": {},
   "source": [
    "# Selective Masking 流程準備\n",
    "參考論文：[Train No Evil: Selective Masking for Task-Guided Pre-Training](https://arxiv.org/abs/2004.09733)"
   ]
  },
  {
   "attachments": {},
   "cell_type": "markdown",
   "metadata": {},
   "source": [
    "## 1. Fine-tune BERT"
   ]
  },
  {
   "cell_type": "code",
   "execution_count": 1,
   "metadata": {},
   "outputs": [
    {
     "data": {
      "text/html": [
       "<div>\n",
       "<style scoped>\n",
       "    .dataframe tbody tr th:only-of-type {\n",
       "        vertical-align: middle;\n",
       "    }\n",
       "\n",
       "    .dataframe tbody tr th {\n",
       "        vertical-align: top;\n",
       "    }\n",
       "\n",
       "    .dataframe thead th {\n",
       "        text-align: right;\n",
       "    }\n",
       "</style>\n",
       "<table border=\"1\" class=\"dataframe\">\n",
       "  <thead>\n",
       "    <tr style=\"text-align: right;\">\n",
       "      <th></th>\n",
       "      <th>category</th>\n",
       "      <th>text</th>\n",
       "    </tr>\n",
       "  </thead>\n",
       "  <tbody>\n",
       "    <tr>\n",
       "      <th>0</th>\n",
       "      <td>tech</td>\n",
       "      <td>tv future in the hands of viewers with home th...</td>\n",
       "    </tr>\n",
       "    <tr>\n",
       "      <th>1</th>\n",
       "      <td>business</td>\n",
       "      <td>worldcom boss  left books alone  former worldc...</td>\n",
       "    </tr>\n",
       "    <tr>\n",
       "      <th>2</th>\n",
       "      <td>sport</td>\n",
       "      <td>tigers wary of farrell  gamble  leicester say ...</td>\n",
       "    </tr>\n",
       "    <tr>\n",
       "      <th>3</th>\n",
       "      <td>sport</td>\n",
       "      <td>yeading face newcastle in fa cup premiership s...</td>\n",
       "    </tr>\n",
       "    <tr>\n",
       "      <th>4</th>\n",
       "      <td>entertainment</td>\n",
       "      <td>ocean s twelve raids box office ocean s twelve...</td>\n",
       "    </tr>\n",
       "  </tbody>\n",
       "</table>\n",
       "</div>"
      ],
      "text/plain": [
       "        category                                               text\n",
       "0           tech  tv future in the hands of viewers with home th...\n",
       "1       business  worldcom boss  left books alone  former worldc...\n",
       "2          sport  tigers wary of farrell  gamble  leicester say ...\n",
       "3          sport  yeading face newcastle in fa cup premiership s...\n",
       "4  entertainment  ocean s twelve raids box office ocean s twelve..."
      ]
     },
     "execution_count": 1,
     "metadata": {},
     "output_type": "execute_result"
    }
   ],
   "source": [
    "import pandas as pd\n",
    "import matplotlib.pyplot as plt\n",
    "\n",
    "datapath = '../bbc-text.csv'\n",
    "df = pd.read_csv(datapath)\n",
    "df.head()"
   ]
  },
  {
   "cell_type": "code",
   "execution_count": 2,
   "metadata": {},
   "outputs": [],
   "source": [
    "from transformers import BertTokenizer\n",
    "import torch\n",
    "import numpy as np\n",
    "from transformers import BertTokenizer\n",
    "\n",
    "# 決定 tokenizer 類型\n",
    "tokenizer = BertTokenizer.from_pretrained('bert-base-cased')\n",
    "# 決定資料集中各分類對應的 id\n",
    "labels = {'business':0,\n",
    "          'entertainment':1,\n",
    "          'sport':2,\n",
    "          'tech':3,\n",
    "          'politics':4\n",
    "          }\n",
    "\n",
    "# 資料集處理\n",
    "class Dataset(torch.utils.data.Dataset):\n",
    "\n",
    "    def __init__(self, df):\n",
    "        # 把每一筆資料的類別改成 id\n",
    "        self.labels = [labels[label] for label in df['category']]  \n",
    "        # 對每筆資料做 BERT tokenize\n",
    "        self.texts = [tokenizer(text, \n",
    "                               padding='max_length', max_length = 512, truncation=True,\n",
    "                                return_tensors=\"pt\") for text in df['text']]\n",
    "\n",
    "    # 回傳資料集各類別 (id)\n",
    "    def classes(self):\n",
    "        return self.labels\n",
    "\n",
    "    # 回傳該 label 的資料數\n",
    "    def __len__(self):\n",
    "        return len(self.labels)\n",
    "\n",
    "    # 取得當前資料的 label\n",
    "    def get_batch_labels(self, idx):\n",
    "        # Fetch a batch of labels\n",
    "        return np.array(self.labels[idx])\n",
    "\n",
    "    # 取得當前資料的 text\n",
    "    def get_batch_texts(self, idx):\n",
    "        # Fetch a batch of inputs\n",
    "        return self.texts[idx]\n",
    "\n",
    "    def __getitem__(self, idx):\n",
    "        batch_texts = self.get_batch_texts(idx)\n",
    "        batch_y = self.get_batch_labels(idx)\n",
    "\n",
    "        return batch_texts, batch_y"
   ]
  },
  {
   "cell_type": "code",
   "execution_count": 3,
   "metadata": {},
   "outputs": [
    {
     "name": "stdout",
     "output_type": "stream",
     "text": [
      "1780 222 223\n"
     ]
    }
   ],
   "source": [
    "np.random.seed(112)\n",
    "df_train, df_val, df_test = np.split(df.sample(frac=1, random_state=42), \n",
    "                                     [int(.8*len(df)), int(.9*len(df))])\n",
    "\n",
    "print(len(df_train),len(df_val), len(df_test))"
   ]
  },
  {
   "cell_type": "code",
   "execution_count": 4,
   "metadata": {},
   "outputs": [],
   "source": [
    "from torch import nn\n",
    "from transformers import BertForSequenceClassification\n",
    "from torch.optim import Adam\n",
    "from tqdm import tqdm\n",
    "import os\n",
    "\n",
    "def train(train_data, val_data, learning_rate, epochs, batch_size, model_name, save_path, model_path):\n",
    "    model = BertForSequenceClassification.from_pretrained(model_path, num_labels=5)\n",
    "    \n",
    "    if os.path.isfile(\"fine_tune_record_epoch.csv\"):\n",
    "        rec = pd.read_csv(\"fine_tune_record_epoch.csv\")\n",
    "    else:\n",
    "        rec = pd.DataFrame({\"model_name\":[], \"train_acc\":[], \"train_loss\":[], \"val_acc\":[], \"val_loss\":[]})\n",
    "\n",
    "    # 把原本的資料經過 Dataset 類別包裝起來\n",
    "    train, val = Dataset(train_data), Dataset(val_data)\n",
    "\n",
    "    # 把訓練、驗證資料集丟進 Dataloader 定義取樣資訊 (ex: 設定 batch_size...等等)\n",
    "    train_dataloader = torch.utils.data.DataLoader(train, batch_size=batch_size, shuffle=True)\n",
    "    val_dataloader = torch.utils.data.DataLoader(val, batch_size=batch_size)\n",
    "\n",
    "    # 偵測有 GPU，有就用\n",
    "    use_cuda = torch.cuda.is_available()\n",
    "    device = torch.device(\"cuda\" if use_cuda else \"cpu\")\n",
    "\n",
    "    criterion = nn.CrossEntropyLoss()                       # Loss Function: Categorical cross entropy\n",
    "    optimizer = Adam(model.parameters(), lr= learning_rate) # Optimizer: Adam\n",
    "\n",
    "    if use_cuda:\n",
    "\n",
    "            model = model.cuda()\n",
    "            criterion = criterion.cuda()\n",
    "    \n",
    "    train_acc = []\n",
    "    train_loss = []\n",
    "    val_acc = []\n",
    "    val_loss = []\n",
    "    # 每次完整訓練 (每個 epoch) 要做的事\n",
    "    for epoch_num in range(epochs):\n",
    "\n",
    "            # ---------- 訓練的部分 ----------\n",
    "            total_acc_train = 0\n",
    "            total_loss_train = 0\n",
    "\n",
    "            # 這邊加上 tqdm 模組來顯示 dataloader 處理進度條\n",
    "            # 所以在程式意義上，可以直接把這行當作 for train_input, train_label in train_dataloader:\n",
    "            for train_input, train_label in tqdm(train_dataloader):\n",
    "                # .to(device): 把東西 (tensor) 丟到 GPU 的概念\n",
    "                train_label = train_label.type(torch.LongTensor).to(device)\n",
    "                mask = train_input['attention_mask'].squeeze(1).to(device)\n",
    "                input_id = train_input['input_ids'].squeeze(1).to(device)\n",
    "\n",
    "                # 把 data 丟進 BERT\n",
    "                output = model(input_ids=input_id, attention_mask=mask, labels=train_label)\n",
    "                \n",
    "                # 計算 Cross Entropy，以此計算 loss\n",
    "                batch_loss = output[0]\n",
    "                total_loss_train += batch_loss.item()               # .item(): tensor 轉 純量\n",
    "                \n",
    "                # 看 model output \"可能性最高\" 的 label 是不是和 data 一樣，是的話，acc + 1\n",
    "                logits = output[1]\n",
    "                pred_label = logits.argmax(dim=1)\n",
    "                acc = (pred_label == train_label).sum().item()\n",
    "                total_acc_train += acc\n",
    "\n",
    "                model.zero_grad()       # 清空前一次 Gradient\n",
    "                batch_loss.backward()   # 根據 lost 計算 back propagation\n",
    "                optimizer.step()        # 做 Gradient Decent\n",
    "            \n",
    "            # ---------- 驗證的部分 ----------\n",
    "            total_acc_val = 0\n",
    "            total_loss_val = 0\n",
    "\n",
    "            # 步驟和訓練時差不多，差在沒做 Gradient Decent\n",
    "            with torch.no_grad():\n",
    "\n",
    "                for val_input, val_label in val_dataloader:\n",
    "\n",
    "                    val_label = val_label.type(torch.LongTensor).to(device)\n",
    "                    mask = val_input['attention_mask'].to(device)\n",
    "                    input_id = val_input['input_ids'].squeeze(1).to(device)\n",
    "\n",
    "                    output = model(input_ids=input_id, attention_mask=mask, labels=val_label)\n",
    "\n",
    "                    batch_loss = output[0]\n",
    "                    total_loss_val += batch_loss.item()\n",
    "                    \n",
    "                    logits = output[1]\n",
    "                    pred_label = logits.argmax(dim=1)\n",
    "                    acc = (pred_label == val_label).sum().item()\n",
    "                    total_acc_val += acc\n",
    "            \n",
    "            train_loss.append(total_loss_train / len(train_data))\n",
    "            train_acc.append(total_acc_train / len(train_data))\n",
    "            val_loss.append(total_loss_val / len(val_data))\n",
    "            val_acc.append(total_acc_val / len(val_data))\n",
    "            print(\n",
    "                f'Epochs: {epoch_num + 1} | Train Loss: {total_loss_train / len(train_data): .3f} \\\n",
    "                | Train Accuracy: {total_acc_train / len(train_data): .3f} \\\n",
    "                | Val Loss: {total_loss_val / len(val_data): .3f} \\\n",
    "                | Val Accuracy: {total_acc_val / len(val_data): .3f}')\n",
    "    \n",
    "    new_rec = pd.concat([rec, pd.DataFrame(pd.DataFrame({'model_name': model_name, 'train_acc': [train_acc], 'train_loss': [train_loss], 'val_acc': [val_acc], 'val_loss': [val_loss]}))], ignore_index=True)\n",
    "    new_rec.to_csv(\"fine_tune_record_epoch.csv\", index = None)\n",
    "    model.save_pretrained(save_path)\n",
    "    model = None"
   ]
  },
  {
   "cell_type": "code",
   "execution_count": 5,
   "metadata": {},
   "outputs": [
    {
     "name": "stderr",
     "output_type": "stream",
     "text": [
      "Some weights of the model checkpoint at bert-base-cased were not used when initializing BertForSequenceClassification: ['cls.predictions.bias', 'cls.predictions.decoder.weight', 'cls.predictions.transform.dense.weight', 'cls.predictions.transform.LayerNorm.bias', 'cls.seq_relationship.bias', 'cls.seq_relationship.weight', 'cls.predictions.transform.LayerNorm.weight', 'cls.predictions.transform.dense.bias']\n",
      "- This IS expected if you are initializing BertForSequenceClassification from the checkpoint of a model trained on another task or with another architecture (e.g. initializing a BertForSequenceClassification model from a BertForPreTraining model).\n",
      "- This IS NOT expected if you are initializing BertForSequenceClassification from the checkpoint of a model that you expect to be exactly identical (initializing a BertForSequenceClassification model from a BertForSequenceClassification model).\n",
      "Some weights of BertForSequenceClassification were not initialized from the model checkpoint at bert-base-cased and are newly initialized: ['classifier.weight', 'classifier.bias']\n",
      "You should probably TRAIN this model on a down-stream task to be able to use it for predictions and inference.\n",
      "100%|██████████| 223/223 [01:21<00:00,  2.74it/s]\n"
     ]
    },
    {
     "name": "stdout",
     "output_type": "stream",
     "text": [
      "Epochs: 1 | Train Loss:  0.046                 | Train Accuracy:  0.892                 | Val Loss:  0.008                 | Val Accuracy:  0.986\n"
     ]
    }
   ],
   "source": [
    "EPOCHS = 1\n",
    "LR = 2e-5\n",
    "batch_size = 8\n",
    "              \n",
    "train(df_train, df_val, LR, EPOCHS, batch_size, \"Fine-tune_BERT\", \"fine_tuned_bert\", 'bert-base-cased')"
   ]
  },
  {
   "attachments": {},
   "cell_type": "markdown",
   "metadata": {},
   "source": [
    "## 2. "
   ]
  }
 ],
 "metadata": {
  "kernelspec": {
   "display_name": "BERT_Practice",
   "language": "python",
   "name": "python3"
  },
  "language_info": {
   "codemirror_mode": {
    "name": "ipython",
    "version": 3
   },
   "file_extension": ".py",
   "mimetype": "text/x-python",
   "name": "python",
   "nbconvert_exporter": "python",
   "pygments_lexer": "ipython3",
   "version": "3.8.5"
  },
  "orig_nbformat": 4
 },
 "nbformat": 4,
 "nbformat_minor": 2
}

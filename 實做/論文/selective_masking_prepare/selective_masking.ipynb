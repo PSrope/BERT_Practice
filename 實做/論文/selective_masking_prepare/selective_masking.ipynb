{
 "cells": [
  {
   "attachments": {},
   "cell_type": "markdown",
   "metadata": {},
   "source": [
    "# Selective Masking 流程準備\n",
    "參考論文：[Train No Evil: Selective Masking for Task-Guided Pre-Training](https://arxiv.org/abs/2004.09733)"
   ]
  },
  {
   "attachments": {},
   "cell_type": "markdown",
   "metadata": {},
   "source": [
    "## 1. Fine-tune BERT"
   ]
  },
  {
   "cell_type": "code",
   "execution_count": 1,
   "metadata": {},
   "outputs": [
    {
     "data": {
      "text/html": [
       "<div>\n",
       "<style scoped>\n",
       "    .dataframe tbody tr th:only-of-type {\n",
       "        vertical-align: middle;\n",
       "    }\n",
       "\n",
       "    .dataframe tbody tr th {\n",
       "        vertical-align: top;\n",
       "    }\n",
       "\n",
       "    .dataframe thead th {\n",
       "        text-align: right;\n",
       "    }\n",
       "</style>\n",
       "<table border=\"1\" class=\"dataframe\">\n",
       "  <thead>\n",
       "    <tr style=\"text-align: right;\">\n",
       "      <th></th>\n",
       "      <th>category</th>\n",
       "      <th>text</th>\n",
       "    </tr>\n",
       "  </thead>\n",
       "  <tbody>\n",
       "    <tr>\n",
       "      <th>0</th>\n",
       "      <td>tech</td>\n",
       "      <td>tv future in the hands of viewers with home th...</td>\n",
       "    </tr>\n",
       "    <tr>\n",
       "      <th>1</th>\n",
       "      <td>business</td>\n",
       "      <td>worldcom boss  left books alone  former worldc...</td>\n",
       "    </tr>\n",
       "    <tr>\n",
       "      <th>2</th>\n",
       "      <td>sport</td>\n",
       "      <td>tigers wary of farrell  gamble  leicester say ...</td>\n",
       "    </tr>\n",
       "    <tr>\n",
       "      <th>3</th>\n",
       "      <td>sport</td>\n",
       "      <td>yeading face newcastle in fa cup premiership s...</td>\n",
       "    </tr>\n",
       "    <tr>\n",
       "      <th>4</th>\n",
       "      <td>entertainment</td>\n",
       "      <td>ocean s twelve raids box office ocean s twelve...</td>\n",
       "    </tr>\n",
       "  </tbody>\n",
       "</table>\n",
       "</div>"
      ],
      "text/plain": [
       "        category                                               text\n",
       "0           tech  tv future in the hands of viewers with home th...\n",
       "1       business  worldcom boss  left books alone  former worldc...\n",
       "2          sport  tigers wary of farrell  gamble  leicester say ...\n",
       "3          sport  yeading face newcastle in fa cup premiership s...\n",
       "4  entertainment  ocean s twelve raids box office ocean s twelve..."
      ]
     },
     "execution_count": 1,
     "metadata": {},
     "output_type": "execute_result"
    }
   ],
   "source": [
    "import pandas as pd\n",
    "import matplotlib.pyplot as plt\n",
    "\n",
    "datapath = '../bbc-text.csv'\n",
    "df = pd.read_csv(datapath)\n",
    "df.head()"
   ]
  },
  {
   "cell_type": "code",
   "execution_count": 2,
   "metadata": {},
   "outputs": [],
   "source": [
    "from transformers import BertTokenizer\n",
    "import torch\n",
    "import numpy as np\n",
    "from transformers import BertTokenizer\n",
    "\n",
    "# 決定 tokenizer 類型\n",
    "tokenizer = BertTokenizer.from_pretrained('bert-base-cased')\n",
    "# 決定資料集中各分類對應的 id\n",
    "labels = {'business':0,\n",
    "          'entertainment':1,\n",
    "          'sport':2,\n",
    "          'tech':3,\n",
    "          'politics':4\n",
    "          }\n",
    "\n",
    "# 資料集處理\n",
    "class Dataset(torch.utils.data.Dataset):\n",
    "\n",
    "    def __init__(self, df):\n",
    "        # 把每一筆資料的類別改成 id\n",
    "        self.labels = [labels[label] for label in df['category']]  \n",
    "        # 對每筆資料做 BERT tokenize\n",
    "        self.texts = [tokenizer(text, \n",
    "                               padding='max_length', max_length = 512, truncation=True,\n",
    "                                return_tensors=\"pt\") for text in df['text']]\n",
    "\n",
    "    # 回傳資料集各類別 (id)\n",
    "    def classes(self):\n",
    "        return self.labels\n",
    "\n",
    "    # 回傳該 label 的資料數\n",
    "    def __len__(self):\n",
    "        return len(self.labels)\n",
    "\n",
    "    # 取得當前資料的 label\n",
    "    def get_batch_labels(self, idx):\n",
    "        # Fetch a batch of labels\n",
    "        return np.array(self.labels[idx])\n",
    "\n",
    "    # 取得當前資料的 text\n",
    "    def get_batch_texts(self, idx):\n",
    "        # Fetch a batch of inputs\n",
    "        return self.texts[idx]\n",
    "\n",
    "    def __getitem__(self, idx):\n",
    "        batch_texts = self.get_batch_texts(idx)\n",
    "        batch_y = self.get_batch_labels(idx)\n",
    "\n",
    "        return batch_texts, batch_y"
   ]
  },
  {
   "cell_type": "code",
   "execution_count": 3,
   "metadata": {},
   "outputs": [
    {
     "name": "stdout",
     "output_type": "stream",
     "text": [
      "1780 222 223\n"
     ]
    }
   ],
   "source": [
    "np.random.seed(112)\n",
    "df_train, df_val, df_test = np.split(df.sample(frac=1, random_state=42), \n",
    "                                     [int(.8*len(df)), int(.9*len(df))])\n",
    "\n",
    "print(len(df_train),len(df_val), len(df_test))"
   ]
  },
  {
   "cell_type": "code",
   "execution_count": 4,
   "metadata": {},
   "outputs": [],
   "source": [
    "from torch import nn\n",
    "from transformers import BertForSequenceClassification\n",
    "from torch.optim import Adam\n",
    "from tqdm import tqdm\n",
    "import os\n",
    "\n",
    "def train(model, train_data, val_data, learning_rate, epochs, batch_size, model_name, save_path):\n",
    "    if os.path.isfile(\"fine_tune_record_epoch.csv\"):\n",
    "        rec = pd.read_csv(\"fine_tune_record_epoch.csv\")\n",
    "    else:\n",
    "        rec = pd.DataFrame({\"model_name\":[], \"train_acc\":[], \"train_loss\":[], \"val_acc\":[], \"val_loss\":[]})\n",
    "\n",
    "    # 把原本的資料經過 Dataset 類別包裝起來\n",
    "    train, val = Dataset(train_data), Dataset(val_data)\n",
    "\n",
    "    # 把訓練、驗證資料集丟進 Dataloader 定義取樣資訊 (ex: 設定 batch_size...等等)\n",
    "    train_dataloader = torch.utils.data.DataLoader(train, batch_size=batch_size, shuffle=True)\n",
    "    val_dataloader = torch.utils.data.DataLoader(val, batch_size=batch_size)\n",
    "\n",
    "    # 偵測有 GPU，有就用\n",
    "    use_cuda = torch.cuda.is_available()\n",
    "    device = torch.device(\"cuda\" if use_cuda else \"cpu\")\n",
    "\n",
    "    criterion = nn.CrossEntropyLoss()                       # Loss Function: Categorical cross entropy\n",
    "    optimizer = Adam(model.parameters(), lr= learning_rate) # Optimizer: Adam\n",
    "\n",
    "    if use_cuda:\n",
    "\n",
    "            model = model.cuda()\n",
    "            criterion = criterion.cuda()\n",
    "    \n",
    "    train_acc = []\n",
    "    train_loss = []\n",
    "    val_acc = []\n",
    "    val_loss = []\n",
    "    # 每次完整訓練 (每個 epoch) 要做的事\n",
    "    for epoch_num in range(epochs):\n",
    "\n",
    "            # ---------- 訓練的部分 ----------\n",
    "            total_acc_train = 0\n",
    "            total_loss_train = 0\n",
    "\n",
    "            # 這邊加上 tqdm 模組來顯示 dataloader 處理進度條\n",
    "            # 所以在程式意義上，可以直接把這行當作 for train_input, train_label in train_dataloader:\n",
    "            for train_input, train_label in tqdm(train_dataloader):\n",
    "                # .to(device): 把東西 (tensor) 丟到 GPU 的概念\n",
    "                train_label = train_label.type(torch.LongTensor).to(device)\n",
    "                mask = train_input['attention_mask'].squeeze(1).to(device)\n",
    "                input_id = train_input['input_ids'].squeeze(1).to(device)\n",
    "\n",
    "                # 把 data 丟進 BERT\n",
    "                output = model(input_ids=input_id, attention_mask=mask, labels=train_label)\n",
    "                \n",
    "                # 計算 Cross Entropy，以此計算 loss\n",
    "                batch_loss = output[0]\n",
    "                total_loss_train += batch_loss.item()               # .item(): tensor 轉 純量\n",
    "                \n",
    "                # 看 model output \"可能性最高\" 的 label 是不是和 data 一樣，是的話，acc + 1\n",
    "                logits = output[1]\n",
    "                pred_label = logits.argmax(dim=1)\n",
    "                acc = (pred_label == train_label).sum().item()\n",
    "                total_acc_train += acc\n",
    "\n",
    "                model.zero_grad()       # 清空前一次 Gradient\n",
    "                batch_loss.backward()   # 根據 lost 計算 back propagation\n",
    "                optimizer.step()        # 做 Gradient Decent\n",
    "            \n",
    "            # ---------- 驗證的部分 ----------\n",
    "            total_acc_val = 0\n",
    "            total_loss_val = 0\n",
    "\n",
    "            # 步驟和訓練時差不多，差在沒做 Gradient Decent\n",
    "            with torch.no_grad():\n",
    "\n",
    "                for val_input, val_label in val_dataloader:\n",
    "\n",
    "                    val_label = val_label.type(torch.LongTensor).to(device)\n",
    "                    mask = val_input['attention_mask'].to(device)\n",
    "                    input_id = val_input['input_ids'].squeeze(1).to(device)\n",
    "\n",
    "                    output = model(input_ids=input_id, attention_mask=mask, labels=val_label)\n",
    "\n",
    "                    batch_loss = output[0]\n",
    "                    total_loss_val += batch_loss.item()\n",
    "                    \n",
    "                    logits = output[1]\n",
    "                    pred_label = logits.argmax(dim=1)\n",
    "                    acc = (pred_label == val_label).sum().item()\n",
    "                    total_acc_val += acc\n",
    "            \n",
    "            train_loss.append(total_loss_train / len(train_data))\n",
    "            train_acc.append(total_acc_train / len(train_data))\n",
    "            val_loss.append(total_loss_val / len(val_data))\n",
    "            val_acc.append(total_acc_val / len(val_data))\n",
    "            print(\n",
    "                f'Epochs: {epoch_num + 1} | Train Loss: {total_loss_train / len(train_data): .3f} \\\n",
    "                | Train Accuracy: {total_acc_train / len(train_data): .3f} \\\n",
    "                | Val Loss: {total_loss_val / len(val_data): .3f} \\\n",
    "                | Val Accuracy: {total_acc_val / len(val_data): .3f}')\n",
    "    \n",
    "    new_rec = pd.concat([rec, pd.DataFrame(pd.DataFrame({'model_name': model_name, 'train_acc': [train_acc], 'train_loss': [train_loss], 'val_acc': [val_acc], 'val_loss': [val_loss]}))], ignore_index=True)\n",
    "    new_rec.to_csv(\"fine_tune_record_epoch.csv\", index = None)\n",
    "    model.save_pretrained(save_path)\n",
    "    model = None"
   ]
  },
  {
   "cell_type": "code",
   "execution_count": 5,
   "metadata": {},
   "outputs": [
    {
     "name": "stderr",
     "output_type": "stream",
     "text": [
      "Some weights of the model checkpoint at bert-base-cased were not used when initializing BertForSequenceClassification: ['cls.seq_relationship.bias', 'cls.predictions.bias', 'cls.predictions.transform.LayerNorm.bias', 'cls.predictions.transform.LayerNorm.weight', 'cls.seq_relationship.weight', 'cls.predictions.transform.dense.bias', 'cls.predictions.decoder.weight', 'cls.predictions.transform.dense.weight']\n",
      "- This IS expected if you are initializing BertForSequenceClassification from the checkpoint of a model trained on another task or with another architecture (e.g. initializing a BertForSequenceClassification model from a BertForPreTraining model).\n",
      "- This IS NOT expected if you are initializing BertForSequenceClassification from the checkpoint of a model that you expect to be exactly identical (initializing a BertForSequenceClassification model from a BertForSequenceClassification model).\n",
      "Some weights of BertForSequenceClassification were not initialized from the model checkpoint at bert-base-cased and are newly initialized: ['classifier.bias', 'classifier.weight']\n",
      "You should probably TRAIN this model on a down-stream task to be able to use it for predictions and inference.\n",
      "100%|██████████| 223/223 [01:19<00:00,  2.80it/s]\n"
     ]
    },
    {
     "name": "stdout",
     "output_type": "stream",
     "text": [
      "Epochs: 1 | Train Loss:  0.065                 | Train Accuracy:  0.842                 | Val Loss:  0.007                 | Val Accuracy:  0.986\n"
     ]
    },
    {
     "name": "stderr",
     "output_type": "stream",
     "text": [
      "100%|██████████| 223/223 [01:24<00:00,  2.63it/s]\n"
     ]
    },
    {
     "name": "stdout",
     "output_type": "stream",
     "text": [
      "Epochs: 2 | Train Loss:  0.008                 | Train Accuracy:  0.984                 | Val Loss:  0.006                 | Val Accuracy:  0.991\n"
     ]
    },
    {
     "name": "stderr",
     "output_type": "stream",
     "text": [
      "100%|██████████| 223/223 [01:24<00:00,  2.65it/s]\n"
     ]
    },
    {
     "name": "stdout",
     "output_type": "stream",
     "text": [
      "Epochs: 3 | Train Loss:  0.005                 | Train Accuracy:  0.990                 | Val Loss:  0.003                 | Val Accuracy:  0.986\n"
     ]
    },
    {
     "name": "stderr",
     "output_type": "stream",
     "text": [
      "100%|██████████| 223/223 [01:23<00:00,  2.66it/s]\n"
     ]
    },
    {
     "name": "stdout",
     "output_type": "stream",
     "text": [
      "Epochs: 4 | Train Loss:  0.003                 | Train Accuracy:  0.994                 | Val Loss:  0.012                 | Val Accuracy:  0.977\n"
     ]
    },
    {
     "name": "stderr",
     "output_type": "stream",
     "text": [
      "100%|██████████| 223/223 [01:23<00:00,  2.66it/s]\n"
     ]
    },
    {
     "name": "stdout",
     "output_type": "stream",
     "text": [
      "Epochs: 5 | Train Loss:  0.003                 | Train Accuracy:  0.993                 | Val Loss:  0.011                 | Val Accuracy:  0.977\n"
     ]
    },
    {
     "name": "stderr",
     "output_type": "stream",
     "text": [
      "100%|██████████| 223/223 [01:23<00:00,  2.68it/s]\n"
     ]
    },
    {
     "name": "stdout",
     "output_type": "stream",
     "text": [
      "Epochs: 6 | Train Loss:  0.001                 | Train Accuracy:  0.997                 | Val Loss:  0.007                 | Val Accuracy:  0.991\n"
     ]
    },
    {
     "name": "stderr",
     "output_type": "stream",
     "text": [
      "100%|██████████| 223/223 [01:22<00:00,  2.71it/s]\n"
     ]
    },
    {
     "name": "stdout",
     "output_type": "stream",
     "text": [
      "Epochs: 7 | Train Loss:  0.001                 | Train Accuracy:  0.998                 | Val Loss:  0.006                 | Val Accuracy:  0.991\n"
     ]
    },
    {
     "name": "stderr",
     "output_type": "stream",
     "text": [
      "100%|██████████| 223/223 [01:23<00:00,  2.67it/s]\n"
     ]
    },
    {
     "name": "stdout",
     "output_type": "stream",
     "text": [
      "Epochs: 8 | Train Loss:  0.004                 | Train Accuracy:  0.993                 | Val Loss:  0.011                 | Val Accuracy:  0.986\n"
     ]
    }
   ],
   "source": [
    "EPOCHS = 8\n",
    "LR = 2e-5\n",
    "batch_size = 8\n",
    "model = BertForSequenceClassification.from_pretrained('bert-base-cased', num_labels=5)     \n",
    "train(model, df_train, df_val, LR, EPOCHS, batch_size, \"Fine-tuned_BERT\", \"fine_tuned_bert\")"
   ]
  },
  {
   "attachments": {},
   "cell_type": "markdown",
   "metadata": {},
   "source": [
    "## 2. Downstream Mask"
   ]
  },
  {
   "cell_type": "code",
   "execution_count": 5,
   "metadata": {},
   "outputs": [],
   "source": [
    "import torch.nn.functional as F"
   ]
  },
  {
   "cell_type": "code",
   "execution_count": 6,
   "metadata": {},
   "outputs": [
    {
     "data": {
      "text/html": [
       "<div>\n",
       "<style scoped>\n",
       "    .dataframe tbody tr th:only-of-type {\n",
       "        vertical-align: middle;\n",
       "    }\n",
       "\n",
       "    .dataframe tbody tr th {\n",
       "        vertical-align: top;\n",
       "    }\n",
       "\n",
       "    .dataframe thead th {\n",
       "        text-align: right;\n",
       "    }\n",
       "</style>\n",
       "<table border=\"1\" class=\"dataframe\">\n",
       "  <thead>\n",
       "    <tr style=\"text-align: right;\">\n",
       "      <th></th>\n",
       "      <th>category</th>\n",
       "      <th>text</th>\n",
       "    </tr>\n",
       "  </thead>\n",
       "  <tbody>\n",
       "    <tr>\n",
       "      <th>0</th>\n",
       "      <td>tech</td>\n",
       "      <td>tv future in the hands of viewers with home th...</td>\n",
       "    </tr>\n",
       "    <tr>\n",
       "      <th>1</th>\n",
       "      <td>business</td>\n",
       "      <td>worldcom boss  left books alone  former worldc...</td>\n",
       "    </tr>\n",
       "    <tr>\n",
       "      <th>2</th>\n",
       "      <td>sport</td>\n",
       "      <td>tigers wary of farrell  gamble  leicester say ...</td>\n",
       "    </tr>\n",
       "    <tr>\n",
       "      <th>3</th>\n",
       "      <td>sport</td>\n",
       "      <td>yeading face newcastle in fa cup premiership s...</td>\n",
       "    </tr>\n",
       "    <tr>\n",
       "      <th>4</th>\n",
       "      <td>entertainment</td>\n",
       "      <td>ocean s twelve raids box office ocean s twelve...</td>\n",
       "    </tr>\n",
       "  </tbody>\n",
       "</table>\n",
       "</div>"
      ],
      "text/plain": [
       "        category                                               text\n",
       "0           tech  tv future in the hands of viewers with home th...\n",
       "1       business  worldcom boss  left books alone  former worldc...\n",
       "2          sport  tigers wary of farrell  gamble  leicester say ...\n",
       "3          sport  yeading face newcastle in fa cup premiership s...\n",
       "4  entertainment  ocean s twelve raids box office ocean s twelve..."
      ]
     },
     "execution_count": 6,
     "metadata": {},
     "output_type": "execute_result"
    }
   ],
   "source": [
    "datapath = '../bbc-text.csv'\n",
    "df = pd.read_csv(datapath)\n",
    "df.head()"
   ]
  },
  {
   "cell_type": "code",
   "execution_count": 7,
   "metadata": {},
   "outputs": [],
   "source": [
    "sentences = []\n",
    "tokens = []\n",
    "\n",
    "for i in range(len(df)):\n",
    "    sentences.append(df.iloc[i, 1])\n",
    "    token = [x for x in df.iloc[i, 1].split(\" \") if x]\n",
    "    tokens.append(token)"
   ]
  },
  {
   "cell_type": "code",
   "execution_count": 8,
   "metadata": {},
   "outputs": [],
   "source": [
    "most_important = set()\n",
    "second_important = set()\n",
    "third_important = set()\n",
    "not_important = set()\n",
    "most_threshold = 0.05\n",
    "second_threshold = 0.07\n",
    "third_threshold = 0.10\n",
    "\n",
    "tokenizer = BertTokenizer.from_pretrained('bert-base-cased')\n",
    "model = BertForSequenceClassification.from_pretrained('fine_tuned_bert')"
   ]
  },
  {
   "cell_type": "code",
   "execution_count": 29,
   "metadata": {},
   "outputs": [
    {
     "name": "stdout",
     "output_type": "stream",
     "text": [
      "tensor([[  101,   189,  1964,  2174,  1107,  1103,  1493,  1104,  6827,  1114,\n",
      "          1313,  4041,  2344, 13441,  1344,   118,  5754,   189,  1964,  1116,\n",
      "          1105,  3539,  1888, 18898,  1116,  2232,  1154,  1103,  1690,  1395,\n",
      "          1103,  1236,  1234,  2824,   189,  1964,  1209,  1129,  8276,  1193,\n",
      "          1472,  1107,  1421,  1201,  1159,   119,  1115,  1110,  2452,  1106,\n",
      "          1126,  6640,  5962,  1134,  5260,  1120,  1103,  2683,  8440, 11216,\n",
      "          1437,  1107, 17496,  1396, 11305,  1106,  6265,  1293,  1292,  1207,\n",
      "          7951,  1209,  3772,  1141,  1104,  1412,  9122,  1763, 15370,   119,\n",
      "          1114,  1103,  1366,  2020,  1103, 10209,  8473,  1105,  1168,  3438,\n",
      "          1209,  1129,  4653,  1106,  6827,  2258,  1313,  6379,  1194,  6095,\n",
      "          5989, 21359,  1513,  8178,  1116,  2557,  1105, 26577,  1555, 12263,\n",
      "          1106,  1524,  4045,  1105, 15139,  5197,   119,  1141,  1104,  1103,\n",
      "          1211,  5029,   118,  1164,  7951,  1104,   172,  1279,  1144,  1151,\n",
      "          3539,  1105,  2357,  1888, 18898,  1116,   113,   173,  1964,  1197,\n",
      "          1105,   185,  1964,  1197,   114,   119,  1292,  1383,   118,  1499,\n",
      "          8171,  1176,  1103,  1366,   188,   189, 15435,  1105,  1103, 26006,\n",
      "           188,  3901,   116,  1449,  2621,  1234,  1106,  1647,  2984,  1505,\n",
      "          8557,  1105,  1977,  3223,   189,  1964,  8473,  1165,  1152,  1328,\n",
      "           119,  7588,  1103,  2815,  3643,  1111,  1277,  1167,  2357,  3673,\n",
      "           189,  1964,   119,  1152,  1132,  1145,  1217,  1434,   118,  1107,\n",
      "          1106,  1344,   118,  5754,   189,  1964,  3741,  1134,  1132,  1992,\n",
      "          1671,  1107,   179, 26519,  1179,  1105,  1103,  1366,  1133, 12741,\n",
      "          1106,  1321,  1228,  1107, 27772,  3186,  1272,  1104,  1103,  2960,\n",
      "          1104,  1344,   118,  5754,  4159,   119,  1136,  1178,  1169,  1234,\n",
      "          1977,  3223,  1194,  8050, 12986,  1116,  1152,  1169,  1145,  5042,\n",
      "          1164,   170, 14598,  1158,  1118,  2443,  1105,  3094, 23028,  4518,\n",
      "          1487,  1147,  1319,   170,   118,  2495,   118, 12411,  1162,  5936,\n",
      "           119,  1133,  1199,  1366,  6379,  1105,  6095,  1105,  5989,  2557,\n",
      "          1132,  4472,  1164,  1184,  1122,  2086,  1111,  1172,  1107,  2538,\n",
      "          1104,  6437, 13081,  1112,  1218,  1112,  4097,  4193,  1105, 15403,\n",
      "         10075,  1106,  6412,   119,  1780,  1103,  1366,  4501,  1107,  1142,\n",
      "          2815,  1120,  1103,  1721,  1122,  1110,  1145,   170,  4517,  1115,\n",
      "          1110,  1217,  2120,  1107, 27772,  3186,  2521,  1114,  1103,  2898,\n",
      "          1146, 13482,  1104,  1826,  1176,  3901,   116,   119,  1184,  5940,\n",
      "          1303,  2052,  1195,  1209,  1267,  1107,  2551,  1808,  1106,   170,\n",
      "          1201,  1159,  1107,  1103, 26006,  8050,  2312, 21820,  1162,  1103,\n",
      "           171,  1830,  1665,  3012,   188,   175,  3818, 11955,  8844,  1500,\n",
      "          1103,   171,  1830,  1665,  2371,  3265,   119,  1111,  1103,  7407,\n",
      "          1104,  1103,   171,  1830,  1665,  1175,  1132,  1185,  2492,  1104,\n",
      "          1575,  6437,  7143,  1870,   119,  1122,  1110,   170,  1167,  7675,\n",
      "          2486,  1120,  1103,  1721,  1111,  2595, 26006, 27271,  1133,  4097,\n",
      "         10075,  1110,  1696,  1111,  2490,   119,  1195,  1209,  1129,  2520,\n",
      "          1167,  1164,  3438, 10915,  1897,  1190,  2443, 10915,  1163,   189,\n",
      "          4060,  5871,  1179,  4934,  1121,  4097,  6678,  3016,  2851,  8178,\n",
      "          2394,  5710,  1204,   119,  1103,  3958,  1110,  1115,  1114, 26577,\n",
      "          6984, 11183,  1169,  1129,  1103,  2451,  1104,  3438,   119,  1119,\n",
      "          1896,   131,  1103,  4506,  1208,  1110,  1115,  1122,  1110,  1662,\n",
      "          1106,  4609,   170,  4644,  1114,  1177,  1277,  3026,   119,  1184,\n",
      "          1142,  2086,  1163,   188,  1777, 18865,   179,  4063,  1605,  2682,\n",
      "          4711,  2084,  1104,   189,  1964,  6388,   189,  1964,  1372,  1110,\n",
      "          1115,  1103,  1236,  1234,  1525,  1103,  3438,  1152,  1328,  1106,\n",
      "          2824,   102]])\n",
      "torch.Size([1, 512])\n",
      "tensor([[False, False, False, False, False, False, False, False, False, False,\n",
      "         False, False, False, False, False, False, False, False, False, False,\n",
      "         False, False, False, False, False, False, False, False, False, False,\n",
      "         False, False, False, False, False, False, False, False, False, False,\n",
      "         False, False, False, False, False, False, False, False, False, False,\n",
      "         False, False, False, False, False, False, False, False, False, False,\n",
      "         False, False, False, False, False, False, False, False, False, False,\n",
      "         False, False, False, False, False, False, False, False, False, False,\n",
      "         False, False, False, False, False, False, False, False, False, False,\n",
      "         False, False, False, False, False, False, False, False, False, False,\n",
      "         False, False, False, False, False, False, False, False, False, False,\n",
      "         False, False, False, False, False, False, False, False, False, False,\n",
      "         False, False, False, False, False, False, False, False, False, False,\n",
      "         False, False, False, False, False, False, False, False, False, False,\n",
      "         False, False, False, False, False, False, False, False, False, False,\n",
      "         False, False, False, False, False, False, False, False, False, False,\n",
      "         False, False, False, False, False, False, False, False, False, False,\n",
      "         False, False, False, False, False, False, False, False, False, False,\n",
      "         False, False, False, False, False, False, False, False, False, False,\n",
      "         False, False, False, False, False, False, False, False, False, False,\n",
      "         False, False, False, False, False, False, False, False, False, False,\n",
      "         False, False, False, False, False, False, False, False, False, False,\n",
      "         False, False, False, False, False, False, False, False, False, False,\n",
      "         False, False, False, False, False, False, False, False, False, False,\n",
      "         False, False, False, False, False, False, False, False, False, False,\n",
      "         False, False, False, False, False, False, False, False, False, False,\n",
      "         False, False, False, False, False, False, False, False, False, False,\n",
      "         False, False, False, False, False, False, False, False, False, False,\n",
      "         False, False, False, False, False, False, False, False, False, False,\n",
      "         False, False, False, False, False, False, False, False, False, False,\n",
      "         False, False, False, False, False, False, False, False, False, False,\n",
      "         False, False, False, False, False, False, False, False, False, False,\n",
      "         False, False, False, False, False, False, False, False, False, False,\n",
      "         False, False, False, False, False, False, False, False, False, False,\n",
      "         False, False, False, False, False, False, False, False, False, False,\n",
      "         False, False, False, False, False, False, False, False, False, False,\n",
      "         False, False, False, False, False, False, False, False, False, False,\n",
      "         False, False, False, False, False, False, False, False, False, False,\n",
      "         False, False, False, False, False, False, False, False, False, False,\n",
      "         False, False, False, False, False, False, False, False, False, False,\n",
      "         False, False, False, False, False, False, False, False, False, False,\n",
      "         False, False, False, False, False, False, False, False, False, False,\n",
      "         False, False, False, False, False, False, False, False, False, False,\n",
      "         False, False, False, False, False, False, False, False, False, False,\n",
      "         False, False, False, False, False, False, False, False, False, False,\n",
      "         False, False, False, False, False, False, False, False, False, False,\n",
      "         False, False, False, False, False, False, False, False, False, False,\n",
      "         False, False, False, False, False, False, False, False, False, False,\n",
      "         False, False, False, False, False, False, False, False, False, False,\n",
      "         False, False, False, False, False, False, False, False, False, False,\n",
      "         False, False, False, False, False, False, False, False, False, False,\n",
      "         False, False]])\n"
     ]
    }
   ],
   "source": [
    "def isIn(token, set_list, ifDel = False):\n",
    "    return_val = False\n",
    "    for s in set_list:\n",
    "        if token in s:\n",
    "            if ifDel:\n",
    "                s.remove(token)\n",
    "            return_val = True\n",
    "    return return_val\n",
    "\n",
    "device = torch.device(\"cuda\" if torch.cuda.is_available() else \"cpu\")\n",
    "for i in range(len(sentences)):\n",
    "    sentence_token = \"\"\n",
    "    inputs_sentence = tokenizer(sentences[i], padding='max_length', \\\n",
    "                                max_length = 512, truncation=True, return_tensors=\"pt\")\n",
    "    print(inputs_sentence['input_ids'])\n",
    "    print(inputs_sentence['input_ids'].shape)\n",
    "    mask_arr = torch.full(inputs_sentence['input_ids'].shape, False)\n",
    "    print(mask_arr)\n",
    "    \n",
    "    model.to(device)\n",
    "    inputs_sentence = inputs_sentence.to(device)\n",
    "    outputs_sentence = model(**inputs_sentence)\n",
    "\n",
    "    logits_sentence = outputs_sentence.logits\n",
    "    probs_sentence = F.softmax(logits_sentence, dim=-1)\n",
    "    pred_label_sentence = torch.argmax(probs_sentence, dim=-1).item()\n",
    "    confidence_sentence = probs_sentence[0][pred_label_sentence].item()\n",
    "\n",
    "    for j in range(len(tokens[i])):\n",
    "        if j > 512:\n",
    "            break\n",
    "        token_now = tokens[i][j]\n",
    "        \n",
    "        sentence_token = sentence_token + \" \" + token_now\n",
    "        print(sentence_token)\n",
    "        inputs_sentence2 = tokenizer(sentence_token, padding='max_length', \\\n",
    "                                max_length = 512, truncation=True, return_tensors=\"pt\")\n",
    "        print(\"111111\", inputs_sentence2['attention_mask'][0][-1])\n",
    "        \n",
    "        model.to(device)\n",
    "        inputs_sentence2 = inputs_sentence2.to(device)\n",
    "        \n",
    "        outputs_sentence2 = model(**inputs_sentence2)\n",
    "\n",
    "        logits_sentence2 = outputs_sentence2.logits\n",
    "        probs_sentence2 = F.softmax(logits_sentence2, dim=-1)\n",
    "        pred_label_sentence2 = torch.argmax(probs_sentence2, dim=-1).item()\n",
    "        confidence_sentence2 = probs_sentence[0][pred_label_sentence2].item()\n",
    "        \n",
    "        if pred_label_sentence != pred_label_sentence2:\n",
    "            if isIn(token_now, [most_important, second_important, third_important, not_important]) == False:\n",
    "                not_important.add(token_now)\n",
    "        else:\n",
    "            score = abs(confidence_sentence - confidence_sentence2)\n",
    "            if score <= most_threshold:\n",
    "                most_important.add(token_now)\n",
    "        # 如果超過 tokenizer 的 max_length，就不再看此輸入句\n",
    "        if inputs_sentence2['attention_mask'][0][-1].item() == 1:\n",
    "            break\n",
    "    \n",
    "    break\n",
    "        "
   ]
  },
  {
   "attachments": {},
   "cell_type": "markdown",
   "metadata": {},
   "source": [
    "### --- test ---"
   ]
  },
  {
   "cell_type": "code",
   "execution_count": 23,
   "metadata": {},
   "outputs": [
    {
     "data": {
      "text/plain": [
       "tensor([[-1.6769, -1.3050,  4.5313, -1.6913, -0.7815]],\n",
       "       grad_fn=<AddmmBackward0>)"
      ]
     },
     "execution_count": 23,
     "metadata": {},
     "output_type": "execute_result"
    }
   ],
   "source": [
    "tokenizer = BertTokenizer.from_pretrained('bert-base-cased')\n",
    "model = BertForSequenceClassification.from_pretrained('fine_tuned_bert')\n",
    "inputs = tokenizer(sentences[2], padding='max_length', \\\n",
    "                   max_length = 512, truncation=True, return_tensors=\"pt\")\n",
    "outputs = model(**inputs)\n",
    "logits = outputs.logits\n",
    "pred_label = logits.argmax(dim=1)\n",
    "logits"
   ]
  },
  {
   "cell_type": "code",
   "execution_count": 28,
   "metadata": {},
   "outputs": [
    {
     "name": "stdout",
     "output_type": "stream",
     "text": [
      "tensor([2])\n",
      "2\n",
      "2\n",
      "0.9882943630218506\n"
     ]
    },
    {
     "data": {
      "text/plain": [
       "tensor([[0.0020, 0.0029, 0.9883, 0.0020, 0.0049]], grad_fn=<SoftmaxBackward0>)"
      ]
     },
     "execution_count": 28,
     "metadata": {},
     "output_type": "execute_result"
    }
   ],
   "source": [
    "probs = F.softmax(logits, dim=-1)\n",
    "\n",
    "# 获取分类结果和概率值\n",
    "label = torch.argmax(probs, dim=-1).item()\n",
    "confidence = probs[0][label].item()\n",
    "print(pred_label)\n",
    "print(pred_label.item())\n",
    "print(label)\n",
    "print(confidence)\n",
    "probs"
   ]
  }
 ],
 "metadata": {
  "kernelspec": {
   "display_name": "BERT_Practice",
   "language": "python",
   "name": "python3"
  },
  "language_info": {
   "codemirror_mode": {
    "name": "ipython",
    "version": 3
   },
   "file_extension": ".py",
   "mimetype": "text/x-python",
   "name": "python",
   "nbconvert_exporter": "python",
   "pygments_lexer": "ipython3",
   "version": "3.8.5"
  },
  "orig_nbformat": 4
 },
 "nbformat": 4,
 "nbformat_minor": 2
}

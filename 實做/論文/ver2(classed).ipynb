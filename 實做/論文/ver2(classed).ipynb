{
 "cells": [
  {
   "cell_type": "markdown",
   "metadata": {},
   "source": [
    "# 決定 Tokenizer 與使用 BertForPretraining 來做 BERT 預訓練"
   ]
  },
  {
   "cell_type": "code",
   "execution_count": 1,
   "metadata": {},
   "outputs": [],
   "source": [
    "from transformers import BertTokenizer, BertForPreTraining, AdamW\n",
    "from transformers.models.bert.modeling_bert import BertForPreTrainingOutput, BertPreTrainingHeads, BertConfig, BERT_INPUTS_DOCSTRING, _CONFIG_FOR_DOC\n",
    "from transformers.models.albert.modeling_albert import AlbertSOPHead\n",
    "from torch.nn import CrossEntropyLoss\n",
    "from typing import List, Optional, Tuple, Union\n",
    "from tqdm import tqdm\n",
    "import pandas as pd\n",
    "import torch\n",
    "import random\n",
    "import copy\n",
    "import os"
   ]
  },
  {
   "cell_type": "code",
   "execution_count": 2,
   "metadata": {},
   "outputs": [],
   "source": [
    "class MyBertForPreTrainingOutput(BertForPreTrainingOutput):\n",
    "    def __init__(self, loss=None, prediction_logits=None, seq_relationship_logits=None, hidden_states=None, attentions=None, mlm_loss=None, nsp_loss=None):\n",
    "        super().__init__(loss=loss, prediction_logits=prediction_logits, seq_relationship_logits=seq_relationship_logits, hidden_states=hidden_states, attentions=attentions)\n",
    "        self.mlm_loss = mlm_loss\n",
    "        self.nsp_loss = nsp_loss"
   ]
  },
  {
   "cell_type": "code",
   "execution_count": 3,
   "metadata": {},
   "outputs": [],
   "source": [
    "class MyAlbertSOPHead(torch.nn.Module):\n",
    "    def __init__(self, config: BertConfig):\n",
    "        super().__init__()  \n",
    "\n",
    "        self.dropout = torch.nn.Dropout(config.hidden_dropout_prob)\n",
    "        self.classifier = torch.nn.Linear(config.hidden_size , config.num_labels)\n",
    "\n",
    "    def forward(self, pooled_output: torch.Tensor) -> torch.Tensor:\n",
    "        dropout_pooled_output = self.dropout(pooled_output)\n",
    "        logits = self.classifier(dropout_pooled_output)\n",
    "        return logits"
   ]
  },
  {
   "cell_type": "code",
   "execution_count": 4,
   "metadata": {},
   "outputs": [],
   "source": [
    "class BertPretrainingHeadsWithSOP(BertPreTrainingHeads):\n",
    "    def __init__(self, config):\n",
    "        super().__init__(config)\n",
    "        self.seq_relationship = MyAlbertSOPHead(config)"
   ]
  },
  {
   "cell_type": "code",
   "execution_count": 5,
   "metadata": {},
   "outputs": [],
   "source": [
    "class MyBertForPreTraining(BertForPreTraining):\n",
    "    def __init__(self, config, nspTask = \"NSP\"):\n",
    "        super().__init__(config)\n",
    "        if nspTask == \"SOP\":\n",
    "            self.cls = BertPretrainingHeadsWithSOP(config)\n",
    "            \n",
    "    # @add_start_docstrings_to_model_forward(BERT_INPUTS_DOCSTRING.format(\"batch_size, sequence_length\"))\n",
    "    # @replace_return_docstrings(output_type=MyBertForPreTrainingOutput, config_class=_CONFIG_FOR_DOC)\n",
    "    def forward(\n",
    "        self,\n",
    "        input_ids: Optional[torch.Tensor] = None,\n",
    "        attention_mask: Optional[torch.Tensor] = None,\n",
    "        token_type_ids: Optional[torch.Tensor] = None,\n",
    "        position_ids: Optional[torch.Tensor] = None,\n",
    "        head_mask: Optional[torch.Tensor] = None,\n",
    "        inputs_embeds: Optional[torch.Tensor] = None,\n",
    "        labels: Optional[torch.Tensor] = None,\n",
    "        next_sentence_label: Optional[torch.Tensor] = None,\n",
    "        output_attentions: Optional[bool] = None,\n",
    "        output_hidden_states: Optional[bool] = None,\n",
    "        return_dict: Optional[bool] = None,\n",
    "    ) -> Union[Tuple[torch.Tensor], MyBertForPreTrainingOutput]:\n",
    "        r\"\"\"\n",
    "            labels (`torch.LongTensor` of shape `(batch_size, sequence_length)`, *optional*):\n",
    "                Labels for computing the masked language modeling loss. Indices should be in `[-100, 0, ...,\n",
    "                config.vocab_size]` (see `input_ids` docstring) Tokens with indices set to `-100` are ignored (masked),\n",
    "                the loss is only computed for the tokens with labels in `[0, ..., config.vocab_size]`\n",
    "            next_sentence_label (`torch.LongTensor` of shape `(batch_size,)`, *optional*):\n",
    "                Labels for computing the next sequence prediction (classification) loss. Input should be a sequence\n",
    "                pair (see `input_ids` docstring) Indices should be in `[0, 1]`:\n",
    "                - 0 indicates sequence B is a continuation of sequence A,\n",
    "                - 1 indicates sequence B is a random sequence.\n",
    "            kwargs (`Dict[str, any]`, optional, defaults to *{}*):\n",
    "                Used to hide legacy arguments that have been deprecated.\n",
    "        Returns:\n",
    "        Example:\n",
    "        ```python\n",
    "        >>> from transformers import AutoTokenizer, BertForPreTraining\n",
    "        >>> import torch\n",
    "        >>> tokenizer = AutoTokenizer.from_pretrained(\"bert-base-uncased\")\n",
    "        >>> model = BertForPreTraining.from_pretrained(\"bert-base-uncased\")\n",
    "        >>> inputs = tokenizer(\"Hello, my dog is cute\", return_tensors=\"pt\")\n",
    "        >>> outputs = model(**inputs)\n",
    "        >>> prediction_logits = outputs.prediction_logits\n",
    "        >>> seq_relationship_logits = outputs.seq_relationship_logits\n",
    "        ```\n",
    "        \"\"\"\n",
    "        return_dict = return_dict if return_dict is not None else self.config.use_return_dict\n",
    "\n",
    "        outputs = self.bert(\n",
    "            input_ids,\n",
    "            attention_mask=attention_mask,\n",
    "            token_type_ids=token_type_ids,\n",
    "            position_ids=position_ids,\n",
    "            head_mask=head_mask,\n",
    "            inputs_embeds=inputs_embeds,\n",
    "            output_attentions=output_attentions,\n",
    "            output_hidden_states=output_hidden_states,\n",
    "            return_dict=return_dict,\n",
    "        )\n",
    "\n",
    "        sequence_output, pooled_output = outputs[:2]\n",
    "        prediction_scores, seq_relationship_score = self.cls(sequence_output, pooled_output)\n",
    "\n",
    "        total_loss = None\n",
    "        if labels is not None and next_sentence_label is not None:\n",
    "            loss_fct = CrossEntropyLoss()\n",
    "            masked_lm_loss = loss_fct(prediction_scores.view(-1, self.config.vocab_size), labels.view(-1))\n",
    "            next_sentence_loss = loss_fct(seq_relationship_score.view(-1, 2), next_sentence_label.view(-1))\n",
    "            total_loss = masked_lm_loss + next_sentence_loss\n",
    "\n",
    "        if not return_dict:\n",
    "            output = (prediction_scores, seq_relationship_score) + outputs[2:]\n",
    "            return ((total_loss,) + output) if total_loss is not None else output\n",
    "\n",
    "        return MyBertForPreTrainingOutput(\n",
    "            loss=total_loss,\n",
    "            prediction_logits=prediction_scores,\n",
    "            seq_relationship_logits=seq_relationship_score,\n",
    "            hidden_states=outputs.hidden_states,\n",
    "            attentions=outputs.attentions,\n",
    "            mlm_loss = masked_lm_loss,\n",
    "            nsp_loss = next_sentence_loss,\n",
    "        )"
   ]
  },
  {
   "attachments": {},
   "cell_type": "markdown",
   "metadata": {},
   "source": [
    "# 取出資料集"
   ]
  },
  {
   "cell_type": "code",
   "execution_count": 6,
   "metadata": {},
   "outputs": [],
   "source": [
    "class getData():\n",
    "    def __init__(self, modelType, datapath, maskPercent, nspTask = \"NSP\"):\n",
    "        self.datapath = datapath\n",
    "        self.tokenizer = BertTokenizer.from_pretrained(modelType)\n",
    "        self.maskPercent = maskPercent\n",
    "        self.nspTask = nspTask\n",
    "        self.text = self.toText()\n",
    "        self.inputs = None\n",
    "        self.nspPrepare()\n",
    "        self.mlmPrepare()\n",
    "    \n",
    "    def toText(self):\n",
    "        df = pd.read_csv(self.datapath)\n",
    "        text = []\n",
    "        for review in df[\"text\"]:\n",
    "            text.append(review)\n",
    "        \n",
    "        return text\n",
    "    \n",
    "    def nspPrepare(self):\n",
    "        bag = [item for sentence in self.text for item in sentence.split('.') if item != '']\n",
    "        bag_size = len(bag)\n",
    "\n",
    "        if self.nspTask == \"NSP\":\n",
    "            (sentence_a, sentence_b, label) = self.nspData(bag, bag_size)\n",
    "        elif self.nspTask == \"SOP\":\n",
    "            (sentence_a, sentence_b, label) = self.sopData()\n",
    "\n",
    "        self.inputs = self.tokenizer(sentence_a, sentence_b, return_tensors='pt',\n",
    "                   max_length=512, truncation=True, padding='max_length')\n",
    "        self.inputs['next_sentence_label'] = torch.LongTensor([label]).T\n",
    "    \n",
    "    def nspData(self, bag, bag_size):\n",
    "        sentence_a = []\n",
    "        sentence_b = []\n",
    "        label = []\n",
    "        for paragraph in self.text:\n",
    "            sentences = [\n",
    "                sentence for sentence in paragraph.split('.') if sentence != ''\n",
    "            ]\n",
    "            num_sentences = len(sentences)\n",
    "            if num_sentences > 1:\n",
    "                start = random.randint(0, num_sentences-2)\n",
    "                # 50/50 whether is IsNextSentence or NotNextSentence\n",
    "                if random.random() >= 0.5:\n",
    "                    # this is IsNextSentence\n",
    "                    sentence_a.append(sentences[start])\n",
    "                    sentence_b.append(sentences[start+1])\n",
    "                    label.append(0)\n",
    "                else:\n",
    "                    index = random.randint(0, bag_size-1)\n",
    "                    # this is NotNextSentence\n",
    "                    sentence_a.append(sentences[start])\n",
    "                    sentence_b.append(bag[index])\n",
    "                    label.append(1)\n",
    "        \n",
    "        return (sentence_a, sentence_b, label)\n",
    "    \n",
    "    def sopData(self):\n",
    "        sentence_a = []\n",
    "        sentence_b = []\n",
    "        label = []\n",
    "        for paragraph in self.text:\n",
    "            sentences = [\n",
    "                sentence for sentence in paragraph.split('.') if sentence != ''\n",
    "            ]\n",
    "            num_sentences = len(sentences)\n",
    "            if num_sentences > 1:\n",
    "                start = random.randint(0, num_sentences-2)\n",
    "                # 50/50 whether is IsNextSentence or NotNextSentence\n",
    "                if random.random() >= 0.5:\n",
    "                    # this is IsNextSentence\n",
    "                    sentence_a.append(sentences[start])\n",
    "                    sentence_b.append(sentences[start+1])\n",
    "                    label.append(0)\n",
    "                else:\n",
    "                    # this is NotNextSentence\n",
    "                    sentence_a.append(sentences[start+1])\n",
    "                    sentence_b.append(sentences[start])\n",
    "                    label.append(1)\n",
    "        \n",
    "        return (sentence_a, sentence_b, label)\n",
    "\n",
    "    def mlmPrepare(self):\n",
    "        self.inputs['labels'] = self.inputs.input_ids.detach().clone()\n",
    "        rand = torch.rand(self.inputs.input_ids.shape)\n",
    "        # create mask array\n",
    "        mask_arr = (rand < self.maskPercent * 0.01) * (self.inputs.input_ids != 101) * \\\n",
    "                (self.inputs.input_ids != 102) * (self.inputs.input_ids != 0)\n",
    "        self.inputs['mask_arr'] = mask_arr\n",
    "        \n",
    "        selection = []\n",
    "\n",
    "        for i in range(self.inputs.input_ids.shape[0]):\n",
    "            selection.append(\n",
    "                torch.flatten(mask_arr[i].nonzero()).tolist()\n",
    "            )\n",
    "\n",
    "        rand_mask_type = copy.deepcopy(selection)\n",
    "\n",
    "        for row in range(len(rand_mask_type)):\n",
    "            for col in range(len(rand_mask_type[row])):\n",
    "                rand_mask_type[row][col] = random.random()\n",
    "\n",
    "        vocab_size = len(self.tokenizer.vocab)\n",
    "        vocab = self.tokenizer.get_vocab()\n",
    "        special_tokens = [vocab['[CLS]'], vocab['[SEP]'], vocab['[MASK]'], vocab['[UNK]'],  vocab['[PAD]']]\n",
    "\n",
    "        for i in range(self.inputs.input_ids.shape[0]):\n",
    "            for j in range(len(selection[i])):\n",
    "                if rand_mask_type[i][j] < 0.10:\n",
    "                    continue\n",
    "                elif rand_mask_type[i][j] < 0.20:\n",
    "                    rand_num = vocab['[CLS]']\n",
    "                    while rand_num in special_tokens:\n",
    "                        rand_num = random.randint(1, vocab_size)\n",
    "                    self.inputs.input_ids[i, selection[i][j]] = rand_num\n",
    "                else:\n",
    "                    self.inputs.input_ids[i, selection[i][j]] = 103\n",
    "    \n",
    "    def returnInput(self):\n",
    "        return self.inputs"
   ]
  },
  {
   "cell_type": "code",
   "execution_count": 7,
   "metadata": {},
   "outputs": [],
   "source": [
    "class OurDataset(torch.utils.data.Dataset):\n",
    "    def __init__(self, encodings):\n",
    "        self.encodings = encodings\n",
    "    def __getitem__(self, idx):\n",
    "        return {key: torch.tensor(val[idx]) for key, val in self.encodings.items()}\n",
    "    def __len__(self):\n",
    "        return len(self.encodings.input_ids)"
   ]
  },
  {
   "cell_type": "code",
   "execution_count": 8,
   "metadata": {},
   "outputs": [],
   "source": [
    "class trainModel():\n",
    "    def __init__(self, modelType, inputs, batch_size, epoch, maskPercent, saveModelName, saveCSV = True, nspTask = \"NSP\"):\n",
    "        config = BertConfig.from_pretrained(modelType)\n",
    "        self.model = MyBertForPreTraining.from_pretrained(modelType)\n",
    "        self.tokenizer = BertTokenizer.from_pretrained(modelType)\n",
    "        self.inputs = inputs\n",
    "        self.batch_size = batch_size\n",
    "        self.epoch = epoch\n",
    "        self.maskPercent = maskPercent\n",
    "        self.saveModelName = saveModelName\n",
    "        self.saveCSV = saveCSV\n",
    "        self.loader = torch.utils.data.DataLoader(OurDataset(self.inputs), \\\n",
    "                                             batch_size=self.batch_size, shuffle=True)\n",
    "        self.device = torch.device('cuda') if torch.cuda.is_available() else torch.device('cpu')\n",
    "        self.model.to(self.device)\n",
    "        self.model.train()\n",
    "        self.optim = AdamW(self.model.parameters(), lr = 5e-5)\n",
    "        self.record = {\"mask_percent\": None,\n",
    "                  \"mlm_acc_each_epoch\": [], \n",
    "                  \"mlm_loss_each_epoch\": []}\n",
    "        \n",
    "        if os.path.isfile(\"record.csv\"):\n",
    "            self.rec = pd.read_csv(\"record.csv\")\n",
    "        else:\n",
    "            self.rec = pd.DataFrame()\n",
    "            \n",
    "        self.training()\n",
    "        self.save_model(self.saveModelName)\n",
    "    \n",
    "    def training(self):\n",
    "        acc_each_epoch = []\n",
    "        loss_each_epoch = []\n",
    "        for epoch in range(self.epoch):\n",
    "            # setup loop with TQDM and dataloader\n",
    "            mask_nums = 0\n",
    "            mlm_correct = 0\n",
    "            nsp_nums = 0\n",
    "            nsp_correct = 0\n",
    "            loop = tqdm(self.loader, leave=True)\n",
    "            for batch in loop:\n",
    "                # initialize calculated gradients (from prev step)\n",
    "                self.optim.zero_grad()\n",
    "                # pull all tensor batches required for training\n",
    "                input_ids = batch['input_ids'].to(self.device)\n",
    "                token_type_ids = batch['token_type_ids'].to(self.device)\n",
    "                attention_mask = batch['attention_mask'].to(self.device)\n",
    "                next_sentence_label = batch['next_sentence_label'].to(self.device)\n",
    "                labels = batch['labels'].to(self.device)\n",
    "                mask_arr = batch['mask_arr'].to(self.device)\n",
    "                # process\n",
    "                outputs = self.model(input_ids, attention_mask=attention_mask,\n",
    "                                token_type_ids=token_type_ids,\n",
    "                                next_sentence_label=next_sentence_label,\n",
    "                                labels=labels)\n",
    "                \n",
    "                prediction_logits = outputs.prediction_logits[mask_arr]\n",
    "                predicted_ids = prediction_logits.argmax(-1)\n",
    "                \n",
    "                seq_relationship_logits = outputs.seq_relationship_logits\n",
    "                predicted_labels = torch.argmax(seq_relationship_logits, dim=1)\n",
    "                predicted_label = predicted_labels\n",
    "\n",
    "                mask_nums += len(predicted_ids)\n",
    "                mlm_correct += torch.eq(predicted_ids, labels[mask_arr]).sum().item()\n",
    "                nsp_nums += len(predicted_label)\n",
    "                nsp_correct += predicted_label.eq(torch.squeeze(next_sentence_label)).sum().item()\n",
    "                \n",
    "                # extract loss\n",
    "                loss = outputs.loss\n",
    "                mlm_loss = outputs.mlm_loss.item()\n",
    "                nsp_loss = outputs.nsp_loss.item()\n",
    "                mlm_acc = mlm_correct / mask_nums\n",
    "                nsp_acc = nsp_correct / nsp_nums\n",
    "                # calculate loss for every parameter that needs grad update\n",
    "                loss.backward()\n",
    "                # update parameters\n",
    "                self.optim.step()\n",
    "                # print relevant info to progress bar\n",
    "                loop.set_description(f'Epoch {epoch}')\n",
    "                loop.set_postfix(Total_loss='{:.4f}'.format(loss.item()), MLM_Accuracy='{:.4f}'.format(mlm_acc), NSP_Accuracy='{:.4f}'.format(nsp_acc), \\\n",
    "                                MLM_loss='{:.4f}'.format(mlm_loss), NSP_loss='{:.4f}'.format(nsp_loss))\n",
    "            acc_each_epoch.append(mlm_acc)\n",
    "            loss_each_epoch.append(mlm_loss)\n",
    "\n",
    "        if self.saveCSV:\n",
    "            self.record[\"mask_percent\"] = self.maskPercent\n",
    "            self.record[\"mlm_acc_each_epoch\"].append(acc_each_epoch)\n",
    "            self.record[\"mlm_loss_each_epoch\"].append(loss_each_epoch)\n",
    "            new_rec = self.rec.append(self.record, ignore_index=True)\n",
    "            new_rec.to_csv(\"record.csv\", index = None)\n",
    "        torch.cuda.empty_cache()\n",
    "    \n",
    "    def save_model(self, maskPercent):\n",
    "        self.model.save_pretrained(maskPercent)"
   ]
  },
  {
   "cell_type": "code",
   "execution_count": 9,
   "metadata": {},
   "outputs": [],
   "source": [
    "datapath = 'bbc-text.csv'\n",
    "modelType = 'bert-base-cased'\n",
    "epoch = 10\n",
    "batch_size = 6"
   ]
  },
  {
   "cell_type": "code",
   "execution_count": 10,
   "metadata": {},
   "outputs": [
    {
     "name": "stderr",
     "output_type": "stream",
     "text": [
      "Some weights of MyBertForPreTraining were not initialized from the model checkpoint at bert-base-cased and are newly initialized: ['cls.predictions.decoder.bias']\n",
      "You should probably TRAIN this model on a down-stream task to be able to use it for predictions and inference.\n",
      "c:\\Users\\pauls\\anaconda3\\envs\\BERT_Practice\\lib\\site-packages\\transformers\\optimization.py:306: FutureWarning: This implementation of AdamW is deprecated and will be removed in a future version. Use the PyTorch implementation torch.optim.AdamW instead, or set `no_deprecation_warning=True` to disable this warning\n",
      "  warnings.warn(\n",
      "  0%|          | 0/371 [00:00<?, ?it/s]C:\\Users\\pauls\\AppData\\Local\\Temp\\ipykernel_30008\\541448751.py:5: UserWarning: To copy construct from a tensor, it is recommended to use sourceTensor.clone().detach() or sourceTensor.clone().detach().requires_grad_(True), rather than torch.tensor(sourceTensor).\n",
      "  return {key: torch.tensor(val[idx]) for key, val in self.encodings.items()}\n",
      "Epoch 0: 100%|██████████| 371/371 [02:10<00:00,  2.85it/s, MLM_Accuracy=0.3193, MLM_loss=0.0858, NSP_Accuracy=0.8081, NSP_loss=0.1899, Total_loss=0.2757]\n",
      "Epoch 1: 100%|██████████| 371/371 [02:08<00:00,  2.89it/s, MLM_Accuracy=0.4036, MLM_loss=0.0608, NSP_Accuracy=0.9443, NSP_loss=0.1908, Total_loss=0.2516]\n",
      "Epoch 2:  51%|█████     | 189/371 [01:05<01:03,  2.87it/s, MLM_Accuracy=0.4206, MLM_loss=0.0587, NSP_Accuracy=0.9788, NSP_loss=0.0057, Total_loss=0.0644]\n"
     ]
    },
    {
     "ename": "KeyboardInterrupt",
     "evalue": "",
     "output_type": "error",
     "traceback": [
      "\u001b[1;31m---------------------------------------------------------------------------\u001b[0m",
      "\u001b[1;31mKeyboardInterrupt\u001b[0m                         Traceback (most recent call last)",
      "\u001b[1;32md:\\NCHU\\Group Meeting\\我啦\\畢業論文相關\\BERT_Practice\\實做\\論文\\BERT_Pretrain copy.ipynb Cell 12\u001b[0m in \u001b[0;36m2\n\u001b[0;32m      <a href='vscode-notebook-cell:/d%3A/NCHU/Group%20Meeting/%E6%88%91%E5%95%A6/%E7%95%A2%E6%A5%AD%E8%AB%96%E6%96%87%E7%9B%B8%E9%97%9C/BERT_Practice/%E5%AF%A6%E5%81%9A/%E8%AB%96%E6%96%87/BERT_Pretrain%20copy.ipynb#X14sZmlsZQ%3D%3D?line=0'>1</a>\u001b[0m mask15_input \u001b[39m=\u001b[39m getData(modelType \u001b[39m=\u001b[39m modelType, datapath \u001b[39m=\u001b[39m datapath, maskPercent \u001b[39m=\u001b[39m \u001b[39m15\u001b[39m, nspTask \u001b[39m=\u001b[39m \u001b[39m\"\u001b[39m\u001b[39mNSP\u001b[39m\u001b[39m\"\u001b[39m)\n\u001b[1;32m----> <a href='vscode-notebook-cell:/d%3A/NCHU/Group%20Meeting/%E6%88%91%E5%95%A6/%E7%95%A2%E6%A5%AD%E8%AB%96%E6%96%87%E7%9B%B8%E9%97%9C/BERT_Practice/%E5%AF%A6%E5%81%9A/%E8%AB%96%E6%96%87/BERT_Pretrain%20copy.ipynb#X14sZmlsZQ%3D%3D?line=1'>2</a>\u001b[0m mask15 \u001b[39m=\u001b[39m trainModel(modelType \u001b[39m=\u001b[39;49m modelType, inputs \u001b[39m=\u001b[39;49m mask15_input\u001b[39m.\u001b[39;49mreturnInput(), batch_size \u001b[39m=\u001b[39;49m batch_size, epoch \u001b[39m=\u001b[39;49m epoch, maskPercent \u001b[39m=\u001b[39;49m \u001b[39m15\u001b[39;49m, saveModelName \u001b[39m=\u001b[39;49m \u001b[39m\"\u001b[39;49m\u001b[39msaved_model_mask15\u001b[39;49m\u001b[39m\"\u001b[39;49m)\n\u001b[0;32m      <a href='vscode-notebook-cell:/d%3A/NCHU/Group%20Meeting/%E6%88%91%E5%95%A6/%E7%95%A2%E6%A5%AD%E8%AB%96%E6%96%87%E7%9B%B8%E9%97%9C/BERT_Practice/%E5%AF%A6%E5%81%9A/%E8%AB%96%E6%96%87/BERT_Pretrain%20copy.ipynb#X14sZmlsZQ%3D%3D?line=2'>3</a>\u001b[0m mask15_input \u001b[39m=\u001b[39m \u001b[39mNone\u001b[39;00m\n\u001b[0;32m      <a href='vscode-notebook-cell:/d%3A/NCHU/Group%20Meeting/%E6%88%91%E5%95%A6/%E7%95%A2%E6%A5%AD%E8%AB%96%E6%96%87%E7%9B%B8%E9%97%9C/BERT_Practice/%E5%AF%A6%E5%81%9A/%E8%AB%96%E6%96%87/BERT_Pretrain%20copy.ipynb#X14sZmlsZQ%3D%3D?line=3'>4</a>\u001b[0m mask15 \u001b[39m=\u001b[39m \u001b[39mNone\u001b[39;00m\n",
      "\u001b[1;32md:\\NCHU\\Group Meeting\\我啦\\畢業論文相關\\BERT_Practice\\實做\\論文\\BERT_Pretrain copy.ipynb Cell 12\u001b[0m in \u001b[0;36m2\n\u001b[0;32m     <a href='vscode-notebook-cell:/d%3A/NCHU/Group%20Meeting/%E6%88%91%E5%95%A6/%E7%95%A2%E6%A5%AD%E8%AB%96%E6%96%87%E7%9B%B8%E9%97%9C/BERT_Practice/%E5%AF%A6%E5%81%9A/%E8%AB%96%E6%96%87/BERT_Pretrain%20copy.ipynb#X14sZmlsZQ%3D%3D?line=23'>24</a>\u001b[0m \u001b[39melse\u001b[39;00m:\n\u001b[0;32m     <a href='vscode-notebook-cell:/d%3A/NCHU/Group%20Meeting/%E6%88%91%E5%95%A6/%E7%95%A2%E6%A5%AD%E8%AB%96%E6%96%87%E7%9B%B8%E9%97%9C/BERT_Practice/%E5%AF%A6%E5%81%9A/%E8%AB%96%E6%96%87/BERT_Pretrain%20copy.ipynb#X14sZmlsZQ%3D%3D?line=24'>25</a>\u001b[0m     \u001b[39mself\u001b[39m\u001b[39m.\u001b[39mrec \u001b[39m=\u001b[39m pd\u001b[39m.\u001b[39mDataFrame()\n\u001b[1;32m---> <a href='vscode-notebook-cell:/d%3A/NCHU/Group%20Meeting/%E6%88%91%E5%95%A6/%E7%95%A2%E6%A5%AD%E8%AB%96%E6%96%87%E7%9B%B8%E9%97%9C/BERT_Practice/%E5%AF%A6%E5%81%9A/%E8%AB%96%E6%96%87/BERT_Pretrain%20copy.ipynb#X14sZmlsZQ%3D%3D?line=26'>27</a>\u001b[0m \u001b[39mself\u001b[39;49m\u001b[39m.\u001b[39;49mtraining()\n\u001b[0;32m     <a href='vscode-notebook-cell:/d%3A/NCHU/Group%20Meeting/%E6%88%91%E5%95%A6/%E7%95%A2%E6%A5%AD%E8%AB%96%E6%96%87%E7%9B%B8%E9%97%9C/BERT_Practice/%E5%AF%A6%E5%81%9A/%E8%AB%96%E6%96%87/BERT_Pretrain%20copy.ipynb#X14sZmlsZQ%3D%3D?line=27'>28</a>\u001b[0m \u001b[39mself\u001b[39m\u001b[39m.\u001b[39msave_model(\u001b[39mself\u001b[39m\u001b[39m.\u001b[39msaveModelName)\n",
      "\u001b[1;32md:\\NCHU\\Group Meeting\\我啦\\畢業論文相關\\BERT_Practice\\實做\\論文\\BERT_Pretrain copy.ipynb Cell 12\u001b[0m in \u001b[0;36m5\n\u001b[0;32m     <a href='vscode-notebook-cell:/d%3A/NCHU/Group%20Meeting/%E6%88%91%E5%95%A6/%E7%95%A2%E6%A5%AD%E8%AB%96%E6%96%87%E7%9B%B8%E9%97%9C/BERT_Practice/%E5%AF%A6%E5%81%9A/%E8%AB%96%E6%96%87/BERT_Pretrain%20copy.ipynb#X14sZmlsZQ%3D%3D?line=48'>49</a>\u001b[0m mask_arr \u001b[39m=\u001b[39m batch[\u001b[39m'\u001b[39m\u001b[39mmask_arr\u001b[39m\u001b[39m'\u001b[39m]\u001b[39m.\u001b[39mto(\u001b[39mself\u001b[39m\u001b[39m.\u001b[39mdevice)\n\u001b[0;32m     <a href='vscode-notebook-cell:/d%3A/NCHU/Group%20Meeting/%E6%88%91%E5%95%A6/%E7%95%A2%E6%A5%AD%E8%AB%96%E6%96%87%E7%9B%B8%E9%97%9C/BERT_Practice/%E5%AF%A6%E5%81%9A/%E8%AB%96%E6%96%87/BERT_Pretrain%20copy.ipynb#X14sZmlsZQ%3D%3D?line=49'>50</a>\u001b[0m \u001b[39m# process\u001b[39;00m\n\u001b[1;32m---> <a href='vscode-notebook-cell:/d%3A/NCHU/Group%20Meeting/%E6%88%91%E5%95%A6/%E7%95%A2%E6%A5%AD%E8%AB%96%E6%96%87%E7%9B%B8%E9%97%9C/BERT_Practice/%E5%AF%A6%E5%81%9A/%E8%AB%96%E6%96%87/BERT_Pretrain%20copy.ipynb#X14sZmlsZQ%3D%3D?line=50'>51</a>\u001b[0m outputs \u001b[39m=\u001b[39m \u001b[39mself\u001b[39;49m\u001b[39m.\u001b[39;49mmodel(input_ids, attention_mask\u001b[39m=\u001b[39;49mattention_mask,\n\u001b[0;32m     <a href='vscode-notebook-cell:/d%3A/NCHU/Group%20Meeting/%E6%88%91%E5%95%A6/%E7%95%A2%E6%A5%AD%E8%AB%96%E6%96%87%E7%9B%B8%E9%97%9C/BERT_Practice/%E5%AF%A6%E5%81%9A/%E8%AB%96%E6%96%87/BERT_Pretrain%20copy.ipynb#X14sZmlsZQ%3D%3D?line=51'>52</a>\u001b[0m                 token_type_ids\u001b[39m=\u001b[39;49mtoken_type_ids,\n\u001b[0;32m     <a href='vscode-notebook-cell:/d%3A/NCHU/Group%20Meeting/%E6%88%91%E5%95%A6/%E7%95%A2%E6%A5%AD%E8%AB%96%E6%96%87%E7%9B%B8%E9%97%9C/BERT_Practice/%E5%AF%A6%E5%81%9A/%E8%AB%96%E6%96%87/BERT_Pretrain%20copy.ipynb#X14sZmlsZQ%3D%3D?line=52'>53</a>\u001b[0m                 next_sentence_label\u001b[39m=\u001b[39;49mnext_sentence_label,\n\u001b[0;32m     <a href='vscode-notebook-cell:/d%3A/NCHU/Group%20Meeting/%E6%88%91%E5%95%A6/%E7%95%A2%E6%A5%AD%E8%AB%96%E6%96%87%E7%9B%B8%E9%97%9C/BERT_Practice/%E5%AF%A6%E5%81%9A/%E8%AB%96%E6%96%87/BERT_Pretrain%20copy.ipynb#X14sZmlsZQ%3D%3D?line=53'>54</a>\u001b[0m                 labels\u001b[39m=\u001b[39;49mlabels)\n\u001b[0;32m     <a href='vscode-notebook-cell:/d%3A/NCHU/Group%20Meeting/%E6%88%91%E5%95%A6/%E7%95%A2%E6%A5%AD%E8%AB%96%E6%96%87%E7%9B%B8%E9%97%9C/BERT_Practice/%E5%AF%A6%E5%81%9A/%E8%AB%96%E6%96%87/BERT_Pretrain%20copy.ipynb#X14sZmlsZQ%3D%3D?line=55'>56</a>\u001b[0m prediction_logits \u001b[39m=\u001b[39m outputs\u001b[39m.\u001b[39mprediction_logits[mask_arr]\n\u001b[0;32m     <a href='vscode-notebook-cell:/d%3A/NCHU/Group%20Meeting/%E6%88%91%E5%95%A6/%E7%95%A2%E6%A5%AD%E8%AB%96%E6%96%87%E7%9B%B8%E9%97%9C/BERT_Practice/%E5%AF%A6%E5%81%9A/%E8%AB%96%E6%96%87/BERT_Pretrain%20copy.ipynb#X14sZmlsZQ%3D%3D?line=56'>57</a>\u001b[0m predicted_ids \u001b[39m=\u001b[39m prediction_logits\u001b[39m.\u001b[39margmax(\u001b[39m-\u001b[39m\u001b[39m1\u001b[39m)\n",
      "File \u001b[1;32mc:\\Users\\pauls\\anaconda3\\envs\\BERT_Practice\\lib\\site-packages\\torch\\nn\\modules\\module.py:1190\u001b[0m, in \u001b[0;36mModule._call_impl\u001b[1;34m(self, *input, **kwargs)\u001b[0m\n\u001b[0;32m   1186\u001b[0m \u001b[39m# If we don't have any hooks, we want to skip the rest of the logic in\u001b[39;00m\n\u001b[0;32m   1187\u001b[0m \u001b[39m# this function, and just call forward.\u001b[39;00m\n\u001b[0;32m   1188\u001b[0m \u001b[39mif\u001b[39;00m \u001b[39mnot\u001b[39;00m (\u001b[39mself\u001b[39m\u001b[39m.\u001b[39m_backward_hooks \u001b[39mor\u001b[39;00m \u001b[39mself\u001b[39m\u001b[39m.\u001b[39m_forward_hooks \u001b[39mor\u001b[39;00m \u001b[39mself\u001b[39m\u001b[39m.\u001b[39m_forward_pre_hooks \u001b[39mor\u001b[39;00m _global_backward_hooks\n\u001b[0;32m   1189\u001b[0m         \u001b[39mor\u001b[39;00m _global_forward_hooks \u001b[39mor\u001b[39;00m _global_forward_pre_hooks):\n\u001b[1;32m-> 1190\u001b[0m     \u001b[39mreturn\u001b[39;00m forward_call(\u001b[39m*\u001b[39;49m\u001b[39minput\u001b[39;49m, \u001b[39m*\u001b[39;49m\u001b[39m*\u001b[39;49mkwargs)\n\u001b[0;32m   1191\u001b[0m \u001b[39m# Do not call functions when jit is used\u001b[39;00m\n\u001b[0;32m   1192\u001b[0m full_backward_hooks, non_full_backward_hooks \u001b[39m=\u001b[39m [], []\n",
      "\u001b[1;32md:\\NCHU\\Group Meeting\\我啦\\畢業論文相關\\BERT_Practice\\實做\\論文\\BERT_Pretrain copy.ipynb Cell 12\u001b[0m in \u001b[0;36m5\n\u001b[0;32m     <a href='vscode-notebook-cell:/d%3A/NCHU/Group%20Meeting/%E6%88%91%E5%95%A6/%E7%95%A2%E6%A5%AD%E8%AB%96%E6%96%87%E7%9B%B8%E9%97%9C/BERT_Practice/%E5%AF%A6%E5%81%9A/%E8%AB%96%E6%96%87/BERT_Pretrain%20copy.ipynb#X14sZmlsZQ%3D%3D?line=22'>23</a>\u001b[0m \u001b[39mr\u001b[39m\u001b[39m\"\"\"\u001b[39;00m\n\u001b[0;32m     <a href='vscode-notebook-cell:/d%3A/NCHU/Group%20Meeting/%E6%88%91%E5%95%A6/%E7%95%A2%E6%A5%AD%E8%AB%96%E6%96%87%E7%9B%B8%E9%97%9C/BERT_Practice/%E5%AF%A6%E5%81%9A/%E8%AB%96%E6%96%87/BERT_Pretrain%20copy.ipynb#X14sZmlsZQ%3D%3D?line=23'>24</a>\u001b[0m \u001b[39m    labels (`torch.LongTensor` of shape `(batch_size, sequence_length)`, *optional*):\u001b[39;00m\n\u001b[0;32m     <a href='vscode-notebook-cell:/d%3A/NCHU/Group%20Meeting/%E6%88%91%E5%95%A6/%E7%95%A2%E6%A5%AD%E8%AB%96%E6%96%87%E7%9B%B8%E9%97%9C/BERT_Practice/%E5%AF%A6%E5%81%9A/%E8%AB%96%E6%96%87/BERT_Pretrain%20copy.ipynb#X14sZmlsZQ%3D%3D?line=24'>25</a>\u001b[0m \u001b[39m        Labels for computing the masked language modeling loss. Indices should be in `[-100, 0, ...,\u001b[39;00m\n\u001b[1;32m   (...)\u001b[0m\n\u001b[0;32m     <a href='vscode-notebook-cell:/d%3A/NCHU/Group%20Meeting/%E6%88%91%E5%95%A6/%E7%95%A2%E6%A5%AD%E8%AB%96%E6%96%87%E7%9B%B8%E9%97%9C/BERT_Practice/%E5%AF%A6%E5%81%9A/%E8%AB%96%E6%96%87/BERT_Pretrain%20copy.ipynb#X14sZmlsZQ%3D%3D?line=45'>46</a>\u001b[0m \u001b[39m```\u001b[39;00m\n\u001b[0;32m     <a href='vscode-notebook-cell:/d%3A/NCHU/Group%20Meeting/%E6%88%91%E5%95%A6/%E7%95%A2%E6%A5%AD%E8%AB%96%E6%96%87%E7%9B%B8%E9%97%9C/BERT_Practice/%E5%AF%A6%E5%81%9A/%E8%AB%96%E6%96%87/BERT_Pretrain%20copy.ipynb#X14sZmlsZQ%3D%3D?line=46'>47</a>\u001b[0m \u001b[39m\"\"\"\u001b[39;00m\n\u001b[0;32m     <a href='vscode-notebook-cell:/d%3A/NCHU/Group%20Meeting/%E6%88%91%E5%95%A6/%E7%95%A2%E6%A5%AD%E8%AB%96%E6%96%87%E7%9B%B8%E9%97%9C/BERT_Practice/%E5%AF%A6%E5%81%9A/%E8%AB%96%E6%96%87/BERT_Pretrain%20copy.ipynb#X14sZmlsZQ%3D%3D?line=47'>48</a>\u001b[0m return_dict \u001b[39m=\u001b[39m return_dict \u001b[39mif\u001b[39;00m return_dict \u001b[39mis\u001b[39;00m \u001b[39mnot\u001b[39;00m \u001b[39mNone\u001b[39;00m \u001b[39melse\u001b[39;00m \u001b[39mself\u001b[39m\u001b[39m.\u001b[39mconfig\u001b[39m.\u001b[39muse_return_dict\n\u001b[1;32m---> <a href='vscode-notebook-cell:/d%3A/NCHU/Group%20Meeting/%E6%88%91%E5%95%A6/%E7%95%A2%E6%A5%AD%E8%AB%96%E6%96%87%E7%9B%B8%E9%97%9C/BERT_Practice/%E5%AF%A6%E5%81%9A/%E8%AB%96%E6%96%87/BERT_Pretrain%20copy.ipynb#X14sZmlsZQ%3D%3D?line=49'>50</a>\u001b[0m outputs \u001b[39m=\u001b[39m \u001b[39mself\u001b[39;49m\u001b[39m.\u001b[39;49mbert(\n\u001b[0;32m     <a href='vscode-notebook-cell:/d%3A/NCHU/Group%20Meeting/%E6%88%91%E5%95%A6/%E7%95%A2%E6%A5%AD%E8%AB%96%E6%96%87%E7%9B%B8%E9%97%9C/BERT_Practice/%E5%AF%A6%E5%81%9A/%E8%AB%96%E6%96%87/BERT_Pretrain%20copy.ipynb#X14sZmlsZQ%3D%3D?line=50'>51</a>\u001b[0m     input_ids,\n\u001b[0;32m     <a href='vscode-notebook-cell:/d%3A/NCHU/Group%20Meeting/%E6%88%91%E5%95%A6/%E7%95%A2%E6%A5%AD%E8%AB%96%E6%96%87%E7%9B%B8%E9%97%9C/BERT_Practice/%E5%AF%A6%E5%81%9A/%E8%AB%96%E6%96%87/BERT_Pretrain%20copy.ipynb#X14sZmlsZQ%3D%3D?line=51'>52</a>\u001b[0m     attention_mask\u001b[39m=\u001b[39;49mattention_mask,\n\u001b[0;32m     <a href='vscode-notebook-cell:/d%3A/NCHU/Group%20Meeting/%E6%88%91%E5%95%A6/%E7%95%A2%E6%A5%AD%E8%AB%96%E6%96%87%E7%9B%B8%E9%97%9C/BERT_Practice/%E5%AF%A6%E5%81%9A/%E8%AB%96%E6%96%87/BERT_Pretrain%20copy.ipynb#X14sZmlsZQ%3D%3D?line=52'>53</a>\u001b[0m     token_type_ids\u001b[39m=\u001b[39;49mtoken_type_ids,\n\u001b[0;32m     <a href='vscode-notebook-cell:/d%3A/NCHU/Group%20Meeting/%E6%88%91%E5%95%A6/%E7%95%A2%E6%A5%AD%E8%AB%96%E6%96%87%E7%9B%B8%E9%97%9C/BERT_Practice/%E5%AF%A6%E5%81%9A/%E8%AB%96%E6%96%87/BERT_Pretrain%20copy.ipynb#X14sZmlsZQ%3D%3D?line=53'>54</a>\u001b[0m     position_ids\u001b[39m=\u001b[39;49mposition_ids,\n\u001b[0;32m     <a href='vscode-notebook-cell:/d%3A/NCHU/Group%20Meeting/%E6%88%91%E5%95%A6/%E7%95%A2%E6%A5%AD%E8%AB%96%E6%96%87%E7%9B%B8%E9%97%9C/BERT_Practice/%E5%AF%A6%E5%81%9A/%E8%AB%96%E6%96%87/BERT_Pretrain%20copy.ipynb#X14sZmlsZQ%3D%3D?line=54'>55</a>\u001b[0m     head_mask\u001b[39m=\u001b[39;49mhead_mask,\n\u001b[0;32m     <a href='vscode-notebook-cell:/d%3A/NCHU/Group%20Meeting/%E6%88%91%E5%95%A6/%E7%95%A2%E6%A5%AD%E8%AB%96%E6%96%87%E7%9B%B8%E9%97%9C/BERT_Practice/%E5%AF%A6%E5%81%9A/%E8%AB%96%E6%96%87/BERT_Pretrain%20copy.ipynb#X14sZmlsZQ%3D%3D?line=55'>56</a>\u001b[0m     inputs_embeds\u001b[39m=\u001b[39;49minputs_embeds,\n\u001b[0;32m     <a href='vscode-notebook-cell:/d%3A/NCHU/Group%20Meeting/%E6%88%91%E5%95%A6/%E7%95%A2%E6%A5%AD%E8%AB%96%E6%96%87%E7%9B%B8%E9%97%9C/BERT_Practice/%E5%AF%A6%E5%81%9A/%E8%AB%96%E6%96%87/BERT_Pretrain%20copy.ipynb#X14sZmlsZQ%3D%3D?line=56'>57</a>\u001b[0m     output_attentions\u001b[39m=\u001b[39;49moutput_attentions,\n\u001b[0;32m     <a href='vscode-notebook-cell:/d%3A/NCHU/Group%20Meeting/%E6%88%91%E5%95%A6/%E7%95%A2%E6%A5%AD%E8%AB%96%E6%96%87%E7%9B%B8%E9%97%9C/BERT_Practice/%E5%AF%A6%E5%81%9A/%E8%AB%96%E6%96%87/BERT_Pretrain%20copy.ipynb#X14sZmlsZQ%3D%3D?line=57'>58</a>\u001b[0m     output_hidden_states\u001b[39m=\u001b[39;49moutput_hidden_states,\n\u001b[0;32m     <a href='vscode-notebook-cell:/d%3A/NCHU/Group%20Meeting/%E6%88%91%E5%95%A6/%E7%95%A2%E6%A5%AD%E8%AB%96%E6%96%87%E7%9B%B8%E9%97%9C/BERT_Practice/%E5%AF%A6%E5%81%9A/%E8%AB%96%E6%96%87/BERT_Pretrain%20copy.ipynb#X14sZmlsZQ%3D%3D?line=58'>59</a>\u001b[0m     return_dict\u001b[39m=\u001b[39;49mreturn_dict,\n\u001b[0;32m     <a href='vscode-notebook-cell:/d%3A/NCHU/Group%20Meeting/%E6%88%91%E5%95%A6/%E7%95%A2%E6%A5%AD%E8%AB%96%E6%96%87%E7%9B%B8%E9%97%9C/BERT_Practice/%E5%AF%A6%E5%81%9A/%E8%AB%96%E6%96%87/BERT_Pretrain%20copy.ipynb#X14sZmlsZQ%3D%3D?line=59'>60</a>\u001b[0m )\n\u001b[0;32m     <a href='vscode-notebook-cell:/d%3A/NCHU/Group%20Meeting/%E6%88%91%E5%95%A6/%E7%95%A2%E6%A5%AD%E8%AB%96%E6%96%87%E7%9B%B8%E9%97%9C/BERT_Practice/%E5%AF%A6%E5%81%9A/%E8%AB%96%E6%96%87/BERT_Pretrain%20copy.ipynb#X14sZmlsZQ%3D%3D?line=61'>62</a>\u001b[0m sequence_output, pooled_output \u001b[39m=\u001b[39m outputs[:\u001b[39m2\u001b[39m]\n\u001b[0;32m     <a href='vscode-notebook-cell:/d%3A/NCHU/Group%20Meeting/%E6%88%91%E5%95%A6/%E7%95%A2%E6%A5%AD%E8%AB%96%E6%96%87%E7%9B%B8%E9%97%9C/BERT_Practice/%E5%AF%A6%E5%81%9A/%E8%AB%96%E6%96%87/BERT_Pretrain%20copy.ipynb#X14sZmlsZQ%3D%3D?line=62'>63</a>\u001b[0m prediction_scores, seq_relationship_score \u001b[39m=\u001b[39m \u001b[39mself\u001b[39m\u001b[39m.\u001b[39mcls(sequence_output, pooled_output)\n",
      "File \u001b[1;32mc:\\Users\\pauls\\anaconda3\\envs\\BERT_Practice\\lib\\site-packages\\torch\\nn\\modules\\module.py:1190\u001b[0m, in \u001b[0;36mModule._call_impl\u001b[1;34m(self, *input, **kwargs)\u001b[0m\n\u001b[0;32m   1186\u001b[0m \u001b[39m# If we don't have any hooks, we want to skip the rest of the logic in\u001b[39;00m\n\u001b[0;32m   1187\u001b[0m \u001b[39m# this function, and just call forward.\u001b[39;00m\n\u001b[0;32m   1188\u001b[0m \u001b[39mif\u001b[39;00m \u001b[39mnot\u001b[39;00m (\u001b[39mself\u001b[39m\u001b[39m.\u001b[39m_backward_hooks \u001b[39mor\u001b[39;00m \u001b[39mself\u001b[39m\u001b[39m.\u001b[39m_forward_hooks \u001b[39mor\u001b[39;00m \u001b[39mself\u001b[39m\u001b[39m.\u001b[39m_forward_pre_hooks \u001b[39mor\u001b[39;00m _global_backward_hooks\n\u001b[0;32m   1189\u001b[0m         \u001b[39mor\u001b[39;00m _global_forward_hooks \u001b[39mor\u001b[39;00m _global_forward_pre_hooks):\n\u001b[1;32m-> 1190\u001b[0m     \u001b[39mreturn\u001b[39;00m forward_call(\u001b[39m*\u001b[39;49m\u001b[39minput\u001b[39;49m, \u001b[39m*\u001b[39;49m\u001b[39m*\u001b[39;49mkwargs)\n\u001b[0;32m   1191\u001b[0m \u001b[39m# Do not call functions when jit is used\u001b[39;00m\n\u001b[0;32m   1192\u001b[0m full_backward_hooks, non_full_backward_hooks \u001b[39m=\u001b[39m [], []\n",
      "File \u001b[1;32mc:\\Users\\pauls\\anaconda3\\envs\\BERT_Practice\\lib\\site-packages\\transformers\\models\\bert\\modeling_bert.py:1014\u001b[0m, in \u001b[0;36mBertModel.forward\u001b[1;34m(self, input_ids, attention_mask, token_type_ids, position_ids, head_mask, inputs_embeds, encoder_hidden_states, encoder_attention_mask, past_key_values, use_cache, output_attentions, output_hidden_states, return_dict)\u001b[0m\n\u001b[0;32m   1005\u001b[0m head_mask \u001b[39m=\u001b[39m \u001b[39mself\u001b[39m\u001b[39m.\u001b[39mget_head_mask(head_mask, \u001b[39mself\u001b[39m\u001b[39m.\u001b[39mconfig\u001b[39m.\u001b[39mnum_hidden_layers)\n\u001b[0;32m   1007\u001b[0m embedding_output \u001b[39m=\u001b[39m \u001b[39mself\u001b[39m\u001b[39m.\u001b[39membeddings(\n\u001b[0;32m   1008\u001b[0m     input_ids\u001b[39m=\u001b[39minput_ids,\n\u001b[0;32m   1009\u001b[0m     position_ids\u001b[39m=\u001b[39mposition_ids,\n\u001b[1;32m   (...)\u001b[0m\n\u001b[0;32m   1012\u001b[0m     past_key_values_length\u001b[39m=\u001b[39mpast_key_values_length,\n\u001b[0;32m   1013\u001b[0m )\n\u001b[1;32m-> 1014\u001b[0m encoder_outputs \u001b[39m=\u001b[39m \u001b[39mself\u001b[39;49m\u001b[39m.\u001b[39;49mencoder(\n\u001b[0;32m   1015\u001b[0m     embedding_output,\n\u001b[0;32m   1016\u001b[0m     attention_mask\u001b[39m=\u001b[39;49mextended_attention_mask,\n\u001b[0;32m   1017\u001b[0m     head_mask\u001b[39m=\u001b[39;49mhead_mask,\n\u001b[0;32m   1018\u001b[0m     encoder_hidden_states\u001b[39m=\u001b[39;49mencoder_hidden_states,\n\u001b[0;32m   1019\u001b[0m     encoder_attention_mask\u001b[39m=\u001b[39;49mencoder_extended_attention_mask,\n\u001b[0;32m   1020\u001b[0m     past_key_values\u001b[39m=\u001b[39;49mpast_key_values,\n\u001b[0;32m   1021\u001b[0m     use_cache\u001b[39m=\u001b[39;49muse_cache,\n\u001b[0;32m   1022\u001b[0m     output_attentions\u001b[39m=\u001b[39;49moutput_attentions,\n\u001b[0;32m   1023\u001b[0m     output_hidden_states\u001b[39m=\u001b[39;49moutput_hidden_states,\n\u001b[0;32m   1024\u001b[0m     return_dict\u001b[39m=\u001b[39;49mreturn_dict,\n\u001b[0;32m   1025\u001b[0m )\n\u001b[0;32m   1026\u001b[0m sequence_output \u001b[39m=\u001b[39m encoder_outputs[\u001b[39m0\u001b[39m]\n\u001b[0;32m   1027\u001b[0m pooled_output \u001b[39m=\u001b[39m \u001b[39mself\u001b[39m\u001b[39m.\u001b[39mpooler(sequence_output) \u001b[39mif\u001b[39;00m \u001b[39mself\u001b[39m\u001b[39m.\u001b[39mpooler \u001b[39mis\u001b[39;00m \u001b[39mnot\u001b[39;00m \u001b[39mNone\u001b[39;00m \u001b[39melse\u001b[39;00m \u001b[39mNone\u001b[39;00m\n",
      "File \u001b[1;32mc:\\Users\\pauls\\anaconda3\\envs\\BERT_Practice\\lib\\site-packages\\torch\\nn\\modules\\module.py:1190\u001b[0m, in \u001b[0;36mModule._call_impl\u001b[1;34m(self, *input, **kwargs)\u001b[0m\n\u001b[0;32m   1186\u001b[0m \u001b[39m# If we don't have any hooks, we want to skip the rest of the logic in\u001b[39;00m\n\u001b[0;32m   1187\u001b[0m \u001b[39m# this function, and just call forward.\u001b[39;00m\n\u001b[0;32m   1188\u001b[0m \u001b[39mif\u001b[39;00m \u001b[39mnot\u001b[39;00m (\u001b[39mself\u001b[39m\u001b[39m.\u001b[39m_backward_hooks \u001b[39mor\u001b[39;00m \u001b[39mself\u001b[39m\u001b[39m.\u001b[39m_forward_hooks \u001b[39mor\u001b[39;00m \u001b[39mself\u001b[39m\u001b[39m.\u001b[39m_forward_pre_hooks \u001b[39mor\u001b[39;00m _global_backward_hooks\n\u001b[0;32m   1189\u001b[0m         \u001b[39mor\u001b[39;00m _global_forward_hooks \u001b[39mor\u001b[39;00m _global_forward_pre_hooks):\n\u001b[1;32m-> 1190\u001b[0m     \u001b[39mreturn\u001b[39;00m forward_call(\u001b[39m*\u001b[39;49m\u001b[39minput\u001b[39;49m, \u001b[39m*\u001b[39;49m\u001b[39m*\u001b[39;49mkwargs)\n\u001b[0;32m   1191\u001b[0m \u001b[39m# Do not call functions when jit is used\u001b[39;00m\n\u001b[0;32m   1192\u001b[0m full_backward_hooks, non_full_backward_hooks \u001b[39m=\u001b[39m [], []\n",
      "File \u001b[1;32mc:\\Users\\pauls\\anaconda3\\envs\\BERT_Practice\\lib\\site-packages\\transformers\\models\\bert\\modeling_bert.py:603\u001b[0m, in \u001b[0;36mBertEncoder.forward\u001b[1;34m(self, hidden_states, attention_mask, head_mask, encoder_hidden_states, encoder_attention_mask, past_key_values, use_cache, output_attentions, output_hidden_states, return_dict)\u001b[0m\n\u001b[0;32m    594\u001b[0m     layer_outputs \u001b[39m=\u001b[39m torch\u001b[39m.\u001b[39mutils\u001b[39m.\u001b[39mcheckpoint\u001b[39m.\u001b[39mcheckpoint(\n\u001b[0;32m    595\u001b[0m         create_custom_forward(layer_module),\n\u001b[0;32m    596\u001b[0m         hidden_states,\n\u001b[1;32m   (...)\u001b[0m\n\u001b[0;32m    600\u001b[0m         encoder_attention_mask,\n\u001b[0;32m    601\u001b[0m     )\n\u001b[0;32m    602\u001b[0m \u001b[39melse\u001b[39;00m:\n\u001b[1;32m--> 603\u001b[0m     layer_outputs \u001b[39m=\u001b[39m layer_module(\n\u001b[0;32m    604\u001b[0m         hidden_states,\n\u001b[0;32m    605\u001b[0m         attention_mask,\n\u001b[0;32m    606\u001b[0m         layer_head_mask,\n\u001b[0;32m    607\u001b[0m         encoder_hidden_states,\n\u001b[0;32m    608\u001b[0m         encoder_attention_mask,\n\u001b[0;32m    609\u001b[0m         past_key_value,\n\u001b[0;32m    610\u001b[0m         output_attentions,\n\u001b[0;32m    611\u001b[0m     )\n\u001b[0;32m    613\u001b[0m hidden_states \u001b[39m=\u001b[39m layer_outputs[\u001b[39m0\u001b[39m]\n\u001b[0;32m    614\u001b[0m \u001b[39mif\u001b[39;00m use_cache:\n",
      "File \u001b[1;32mc:\\Users\\pauls\\anaconda3\\envs\\BERT_Practice\\lib\\site-packages\\torch\\nn\\modules\\module.py:1190\u001b[0m, in \u001b[0;36mModule._call_impl\u001b[1;34m(self, *input, **kwargs)\u001b[0m\n\u001b[0;32m   1186\u001b[0m \u001b[39m# If we don't have any hooks, we want to skip the rest of the logic in\u001b[39;00m\n\u001b[0;32m   1187\u001b[0m \u001b[39m# this function, and just call forward.\u001b[39;00m\n\u001b[0;32m   1188\u001b[0m \u001b[39mif\u001b[39;00m \u001b[39mnot\u001b[39;00m (\u001b[39mself\u001b[39m\u001b[39m.\u001b[39m_backward_hooks \u001b[39mor\u001b[39;00m \u001b[39mself\u001b[39m\u001b[39m.\u001b[39m_forward_hooks \u001b[39mor\u001b[39;00m \u001b[39mself\u001b[39m\u001b[39m.\u001b[39m_forward_pre_hooks \u001b[39mor\u001b[39;00m _global_backward_hooks\n\u001b[0;32m   1189\u001b[0m         \u001b[39mor\u001b[39;00m _global_forward_hooks \u001b[39mor\u001b[39;00m _global_forward_pre_hooks):\n\u001b[1;32m-> 1190\u001b[0m     \u001b[39mreturn\u001b[39;00m forward_call(\u001b[39m*\u001b[39;49m\u001b[39minput\u001b[39;49m, \u001b[39m*\u001b[39;49m\u001b[39m*\u001b[39;49mkwargs)\n\u001b[0;32m   1191\u001b[0m \u001b[39m# Do not call functions when jit is used\u001b[39;00m\n\u001b[0;32m   1192\u001b[0m full_backward_hooks, non_full_backward_hooks \u001b[39m=\u001b[39m [], []\n",
      "File \u001b[1;32mc:\\Users\\pauls\\anaconda3\\envs\\BERT_Practice\\lib\\site-packages\\transformers\\models\\bert\\modeling_bert.py:531\u001b[0m, in \u001b[0;36mBertLayer.forward\u001b[1;34m(self, hidden_states, attention_mask, head_mask, encoder_hidden_states, encoder_attention_mask, past_key_value, output_attentions)\u001b[0m\n\u001b[0;32m    528\u001b[0m     cross_attn_present_key_value \u001b[39m=\u001b[39m cross_attention_outputs[\u001b[39m-\u001b[39m\u001b[39m1\u001b[39m]\n\u001b[0;32m    529\u001b[0m     present_key_value \u001b[39m=\u001b[39m present_key_value \u001b[39m+\u001b[39m cross_attn_present_key_value\n\u001b[1;32m--> 531\u001b[0m layer_output \u001b[39m=\u001b[39m apply_chunking_to_forward(\n\u001b[0;32m    532\u001b[0m     \u001b[39mself\u001b[39;49m\u001b[39m.\u001b[39;49mfeed_forward_chunk, \u001b[39mself\u001b[39;49m\u001b[39m.\u001b[39;49mchunk_size_feed_forward, \u001b[39mself\u001b[39;49m\u001b[39m.\u001b[39;49mseq_len_dim, attention_output\n\u001b[0;32m    533\u001b[0m )\n\u001b[0;32m    534\u001b[0m outputs \u001b[39m=\u001b[39m (layer_output,) \u001b[39m+\u001b[39m outputs\n\u001b[0;32m    536\u001b[0m \u001b[39m# if decoder, return the attn key/values as the last output\u001b[39;00m\n",
      "File \u001b[1;32mc:\\Users\\pauls\\anaconda3\\envs\\BERT_Practice\\lib\\site-packages\\transformers\\pytorch_utils.py:246\u001b[0m, in \u001b[0;36mapply_chunking_to_forward\u001b[1;34m(forward_fn, chunk_size, chunk_dim, *input_tensors)\u001b[0m\n\u001b[0;32m    243\u001b[0m     \u001b[39m# concatenate output at same dimension\u001b[39;00m\n\u001b[0;32m    244\u001b[0m     \u001b[39mreturn\u001b[39;00m torch\u001b[39m.\u001b[39mcat(output_chunks, dim\u001b[39m=\u001b[39mchunk_dim)\n\u001b[1;32m--> 246\u001b[0m \u001b[39mreturn\u001b[39;00m forward_fn(\u001b[39m*\u001b[39;49minput_tensors)\n",
      "File \u001b[1;32mc:\\Users\\pauls\\anaconda3\\envs\\BERT_Practice\\lib\\site-packages\\transformers\\models\\bert\\modeling_bert.py:544\u001b[0m, in \u001b[0;36mBertLayer.feed_forward_chunk\u001b[1;34m(self, attention_output)\u001b[0m\n\u001b[0;32m    542\u001b[0m \u001b[39mdef\u001b[39;00m \u001b[39mfeed_forward_chunk\u001b[39m(\u001b[39mself\u001b[39m, attention_output):\n\u001b[0;32m    543\u001b[0m     intermediate_output \u001b[39m=\u001b[39m \u001b[39mself\u001b[39m\u001b[39m.\u001b[39mintermediate(attention_output)\n\u001b[1;32m--> 544\u001b[0m     layer_output \u001b[39m=\u001b[39m \u001b[39mself\u001b[39;49m\u001b[39m.\u001b[39;49moutput(intermediate_output, attention_output)\n\u001b[0;32m    545\u001b[0m     \u001b[39mreturn\u001b[39;00m layer_output\n",
      "File \u001b[1;32mc:\\Users\\pauls\\anaconda3\\envs\\BERT_Practice\\lib\\site-packages\\torch\\nn\\modules\\module.py:1190\u001b[0m, in \u001b[0;36mModule._call_impl\u001b[1;34m(self, *input, **kwargs)\u001b[0m\n\u001b[0;32m   1186\u001b[0m \u001b[39m# If we don't have any hooks, we want to skip the rest of the logic in\u001b[39;00m\n\u001b[0;32m   1187\u001b[0m \u001b[39m# this function, and just call forward.\u001b[39;00m\n\u001b[0;32m   1188\u001b[0m \u001b[39mif\u001b[39;00m \u001b[39mnot\u001b[39;00m (\u001b[39mself\u001b[39m\u001b[39m.\u001b[39m_backward_hooks \u001b[39mor\u001b[39;00m \u001b[39mself\u001b[39m\u001b[39m.\u001b[39m_forward_hooks \u001b[39mor\u001b[39;00m \u001b[39mself\u001b[39m\u001b[39m.\u001b[39m_forward_pre_hooks \u001b[39mor\u001b[39;00m _global_backward_hooks\n\u001b[0;32m   1189\u001b[0m         \u001b[39mor\u001b[39;00m _global_forward_hooks \u001b[39mor\u001b[39;00m _global_forward_pre_hooks):\n\u001b[1;32m-> 1190\u001b[0m     \u001b[39mreturn\u001b[39;00m forward_call(\u001b[39m*\u001b[39;49m\u001b[39minput\u001b[39;49m, \u001b[39m*\u001b[39;49m\u001b[39m*\u001b[39;49mkwargs)\n\u001b[0;32m   1191\u001b[0m \u001b[39m# Do not call functions when jit is used\u001b[39;00m\n\u001b[0;32m   1192\u001b[0m full_backward_hooks, non_full_backward_hooks \u001b[39m=\u001b[39m [], []\n",
      "File \u001b[1;32mc:\\Users\\pauls\\anaconda3\\envs\\BERT_Practice\\lib\\site-packages\\transformers\\models\\bert\\modeling_bert.py:457\u001b[0m, in \u001b[0;36mBertOutput.forward\u001b[1;34m(self, hidden_states, input_tensor)\u001b[0m\n\u001b[0;32m    455\u001b[0m \u001b[39mdef\u001b[39;00m \u001b[39mforward\u001b[39m(\u001b[39mself\u001b[39m, hidden_states: torch\u001b[39m.\u001b[39mTensor, input_tensor: torch\u001b[39m.\u001b[39mTensor) \u001b[39m-\u001b[39m\u001b[39m>\u001b[39m torch\u001b[39m.\u001b[39mTensor:\n\u001b[0;32m    456\u001b[0m     hidden_states \u001b[39m=\u001b[39m \u001b[39mself\u001b[39m\u001b[39m.\u001b[39mdense(hidden_states)\n\u001b[1;32m--> 457\u001b[0m     hidden_states \u001b[39m=\u001b[39m \u001b[39mself\u001b[39;49m\u001b[39m.\u001b[39;49mdropout(hidden_states)\n\u001b[0;32m    458\u001b[0m     hidden_states \u001b[39m=\u001b[39m \u001b[39mself\u001b[39m\u001b[39m.\u001b[39mLayerNorm(hidden_states \u001b[39m+\u001b[39m input_tensor)\n\u001b[0;32m    459\u001b[0m     \u001b[39mreturn\u001b[39;00m hidden_states\n",
      "File \u001b[1;32mc:\\Users\\pauls\\anaconda3\\envs\\BERT_Practice\\lib\\site-packages\\torch\\nn\\modules\\module.py:1190\u001b[0m, in \u001b[0;36mModule._call_impl\u001b[1;34m(self, *input, **kwargs)\u001b[0m\n\u001b[0;32m   1186\u001b[0m \u001b[39m# If we don't have any hooks, we want to skip the rest of the logic in\u001b[39;00m\n\u001b[0;32m   1187\u001b[0m \u001b[39m# this function, and just call forward.\u001b[39;00m\n\u001b[0;32m   1188\u001b[0m \u001b[39mif\u001b[39;00m \u001b[39mnot\u001b[39;00m (\u001b[39mself\u001b[39m\u001b[39m.\u001b[39m_backward_hooks \u001b[39mor\u001b[39;00m \u001b[39mself\u001b[39m\u001b[39m.\u001b[39m_forward_hooks \u001b[39mor\u001b[39;00m \u001b[39mself\u001b[39m\u001b[39m.\u001b[39m_forward_pre_hooks \u001b[39mor\u001b[39;00m _global_backward_hooks\n\u001b[0;32m   1189\u001b[0m         \u001b[39mor\u001b[39;00m _global_forward_hooks \u001b[39mor\u001b[39;00m _global_forward_pre_hooks):\n\u001b[1;32m-> 1190\u001b[0m     \u001b[39mreturn\u001b[39;00m forward_call(\u001b[39m*\u001b[39;49m\u001b[39minput\u001b[39;49m, \u001b[39m*\u001b[39;49m\u001b[39m*\u001b[39;49mkwargs)\n\u001b[0;32m   1191\u001b[0m \u001b[39m# Do not call functions when jit is used\u001b[39;00m\n\u001b[0;32m   1192\u001b[0m full_backward_hooks, non_full_backward_hooks \u001b[39m=\u001b[39m [], []\n",
      "File \u001b[1;32mc:\\Users\\pauls\\anaconda3\\envs\\BERT_Practice\\lib\\site-packages\\torch\\nn\\modules\\dropout.py:59\u001b[0m, in \u001b[0;36mDropout.forward\u001b[1;34m(self, input)\u001b[0m\n\u001b[0;32m     58\u001b[0m \u001b[39mdef\u001b[39;00m \u001b[39mforward\u001b[39m(\u001b[39mself\u001b[39m, \u001b[39minput\u001b[39m: Tensor) \u001b[39m-\u001b[39m\u001b[39m>\u001b[39m Tensor:\n\u001b[1;32m---> 59\u001b[0m     \u001b[39mreturn\u001b[39;00m F\u001b[39m.\u001b[39;49mdropout(\u001b[39minput\u001b[39;49m, \u001b[39mself\u001b[39;49m\u001b[39m.\u001b[39;49mp, \u001b[39mself\u001b[39;49m\u001b[39m.\u001b[39;49mtraining, \u001b[39mself\u001b[39;49m\u001b[39m.\u001b[39;49minplace)\n",
      "File \u001b[1;32mc:\\Users\\pauls\\anaconda3\\envs\\BERT_Practice\\lib\\site-packages\\torch\\nn\\functional.py:1252\u001b[0m, in \u001b[0;36mdropout\u001b[1;34m(input, p, training, inplace)\u001b[0m\n\u001b[0;32m   1250\u001b[0m \u001b[39mif\u001b[39;00m p \u001b[39m<\u001b[39m \u001b[39m0.0\u001b[39m \u001b[39mor\u001b[39;00m p \u001b[39m>\u001b[39m \u001b[39m1.0\u001b[39m:\n\u001b[0;32m   1251\u001b[0m     \u001b[39mraise\u001b[39;00m \u001b[39mValueError\u001b[39;00m(\u001b[39m\"\u001b[39m\u001b[39mdropout probability has to be between 0 and 1, \u001b[39m\u001b[39m\"\u001b[39m \u001b[39m\"\u001b[39m\u001b[39mbut got \u001b[39m\u001b[39m{}\u001b[39;00m\u001b[39m\"\u001b[39m\u001b[39m.\u001b[39mformat(p))\n\u001b[1;32m-> 1252\u001b[0m \u001b[39mreturn\u001b[39;00m _VF\u001b[39m.\u001b[39mdropout_(\u001b[39minput\u001b[39m, p, training) \u001b[39mif\u001b[39;00m inplace \u001b[39melse\u001b[39;00m _VF\u001b[39m.\u001b[39;49mdropout(\u001b[39minput\u001b[39;49m, p, training)\n",
      "\u001b[1;31mKeyboardInterrupt\u001b[0m: "
     ]
    }
   ],
   "source": [
    "mask15_input = getData(modelType = modelType, datapath = datapath, maskPercent = 15, nspTask = \"NSP\")\n",
    "mask15 = trainModel(modelType = modelType, inputs = mask15_input.returnInput(), batch_size = batch_size, epoch = epoch, maskPercent = 15, saveModelName = \"saved_model_mask15\")\n",
    "mask15_input = None\n",
    "mask15 = None"
   ]
  },
  {
   "cell_type": "code",
   "execution_count": null,
   "metadata": {},
   "outputs": [
    {
     "name": "stderr",
     "output_type": "stream",
     "text": [
      "Some weights of MyBertForPreTraining were not initialized from the model checkpoint at bert-base-cased and are newly initialized: ['cls.predictions.decoder.bias']\n",
      "You should probably TRAIN this model on a down-stream task to be able to use it for predictions and inference.\n",
      "c:\\Users\\pauls\\anaconda3\\envs\\BERT_Practice\\lib\\site-packages\\transformers\\optimization.py:306: FutureWarning: This implementation of AdamW is deprecated and will be removed in a future version. Use the PyTorch implementation torch.optim.AdamW instead, or set `no_deprecation_warning=True` to disable this warning\n",
      "  warnings.warn(\n",
      "  0%|          | 0/371 [00:00<?, ?it/s]C:\\Users\\pauls\\AppData\\Local\\Temp\\ipykernel_24964\\541448751.py:5: UserWarning: To copy construct from a tensor, it is recommended to use sourceTensor.clone().detach() or sourceTensor.clone().detach().requires_grad_(True), rather than torch.tensor(sourceTensor).\n",
      "  return {key: torch.tensor(val[idx]) for key, val in self.encodings.items()}\n",
      "Epoch 0: 100%|██████████| 371/371 [02:09<00:00,  2.87it/s, MLM_Accuracy=0.3276, MLM_loss=0.0983, NSP_Accuracy=0.8229, NSP_loss=0.3248, Total_loss=0.4231]\n",
      "Epoch 1: 100%|██████████| 371/371 [02:09<00:00,  2.86it/s, MLM_Accuracy=0.4053, MLM_loss=0.0726, NSP_Accuracy=0.9438, NSP_loss=0.5938, Total_loss=0.6664]\n",
      "Epoch 2: 100%|██████████| 371/371 [02:09<00:00,  2.86it/s, MLM_Accuracy=0.4306, MLM_loss=0.0600, NSP_Accuracy=0.9771, NSP_loss=0.2103, Total_loss=0.2703]\n",
      "Epoch 3: 100%|██████████| 371/371 [02:09<00:00,  2.86it/s, MLM_Accuracy=0.4400, MLM_loss=0.0559, NSP_Accuracy=0.9766, NSP_loss=0.0365, Total_loss=0.0925]\n",
      "Epoch 4: 100%|██████████| 371/371 [02:09<00:00,  2.87it/s, MLM_Accuracy=0.4516, MLM_loss=0.0513, NSP_Accuracy=0.9784, NSP_loss=0.0688, Total_loss=0.1201]\n",
      "Epoch 5: 100%|██████████| 371/371 [02:09<00:00,  2.88it/s, MLM_Accuracy=0.4688, MLM_loss=0.0407, NSP_Accuracy=0.9919, NSP_loss=0.0001, Total_loss=0.0408]\n",
      "Epoch 6: 100%|██████████| 371/371 [02:08<00:00,  2.88it/s, MLM_Accuracy=0.4830, MLM_loss=0.0419, NSP_Accuracy=0.9870, NSP_loss=0.0131, Total_loss=0.0550]\n",
      "Epoch 7: 100%|██████████| 371/371 [02:08<00:00,  2.88it/s, MLM_Accuracy=0.5131, MLM_loss=0.0373, NSP_Accuracy=0.9951, NSP_loss=0.0139, Total_loss=0.0511]\n",
      "Epoch 8: 100%|██████████| 371/371 [02:08<00:00,  2.88it/s, MLM_Accuracy=0.5295, MLM_loss=0.0422, NSP_Accuracy=0.9892, NSP_loss=0.0062, Total_loss=0.0483]\n",
      "Epoch 9: 100%|██████████| 371/371 [02:09<00:00,  2.88it/s, MLM_Accuracy=0.5227, MLM_loss=0.0477, NSP_Accuracy=0.9820, NSP_loss=0.0001, Total_loss=0.0479]\n",
      "C:\\Users\\pauls\\AppData\\Local\\Temp\\ipykernel_24964\\833165237.py:89: FutureWarning: The frame.append method is deprecated and will be removed from pandas in a future version. Use pandas.concat instead.\n",
      "  new_rec = self.rec.append(self.record, ignore_index=True)\n"
     ]
    }
   ],
   "source": [
    "mask14_input = getData(modelType = modelType, datapath = datapath, maskPercent = 14, nspTask = \"NSP\")\n",
    "mask14 = trainModel(modelType = modelType, inputs = mask14_input.returnInput(), batch_size = batch_size, epoch = epoch, maskPercent = 14, saveModelName = \"saved_model_mask14\")\n",
    "mask14_input = None\n",
    "mask14 = None"
   ]
  },
  {
   "cell_type": "code",
   "execution_count": null,
   "metadata": {},
   "outputs": [
    {
     "name": "stderr",
     "output_type": "stream",
     "text": [
      "Some weights of MyBertForPreTraining were not initialized from the model checkpoint at bert-base-cased and are newly initialized: ['cls.predictions.decoder.bias']\n",
      "You should probably TRAIN this model on a down-stream task to be able to use it for predictions and inference.\n",
      "c:\\Users\\pauls\\anaconda3\\envs\\BERT_Practice\\lib\\site-packages\\transformers\\optimization.py:306: FutureWarning: This implementation of AdamW is deprecated and will be removed in a future version. Use the PyTorch implementation torch.optim.AdamW instead, or set `no_deprecation_warning=True` to disable this warning\n",
      "  warnings.warn(\n",
      "  0%|          | 0/371 [00:00<?, ?it/s]C:\\Users\\pauls\\AppData\\Local\\Temp\\ipykernel_24964\\541448751.py:5: UserWarning: To copy construct from a tensor, it is recommended to use sourceTensor.clone().detach() or sourceTensor.clone().detach().requires_grad_(True), rather than torch.tensor(sourceTensor).\n",
      "  return {key: torch.tensor(val[idx]) for key, val in self.encodings.items()}\n",
      "Epoch 0: 100%|██████████| 371/371 [02:08<00:00,  2.89it/s, MLM_Accuracy=0.3269, MLM_loss=0.0424, NSP_Accuracy=0.8148, NSP_loss=0.1226, Total_loss=0.1650]\n",
      "Epoch 1: 100%|██████████| 371/371 [02:08<00:00,  2.88it/s, MLM_Accuracy=0.4107, MLM_loss=0.0831, NSP_Accuracy=0.9479, NSP_loss=0.2894, Total_loss=0.3725]\n",
      "Epoch 2: 100%|██████████| 371/371 [02:08<00:00,  2.88it/s, MLM_Accuracy=0.4261, MLM_loss=0.0506, NSP_Accuracy=0.9766, NSP_loss=0.0469, Total_loss=0.0975]\n",
      "Epoch 3: 100%|██████████| 371/371 [02:08<00:00,  2.88it/s, MLM_Accuracy=0.4341, MLM_loss=0.0467, NSP_Accuracy=0.9784, NSP_loss=0.0005, Total_loss=0.0472]\n",
      "Epoch 4: 100%|██████████| 371/371 [02:08<00:00,  2.88it/s, MLM_Accuracy=0.4658, MLM_loss=0.0523, NSP_Accuracy=0.9915, NSP_loss=0.0044, Total_loss=0.0567]\n",
      "Epoch 5: 100%|██████████| 371/371 [02:08<00:00,  2.88it/s, MLM_Accuracy=0.4710, MLM_loss=0.0467, NSP_Accuracy=0.9856, NSP_loss=0.0104, Total_loss=0.0571]\n",
      "Epoch 6: 100%|██████████| 371/371 [02:09<00:00,  2.88it/s, MLM_Accuracy=0.4765, MLM_loss=0.0640, NSP_Accuracy=0.9825, NSP_loss=0.0007, Total_loss=0.0648]\n",
      "Epoch 7: 100%|██████████| 371/371 [02:09<00:00,  2.87it/s, MLM_Accuracy=0.4915, MLM_loss=0.0355, NSP_Accuracy=0.9820, NSP_loss=0.0007, Total_loss=0.0362]\n",
      "Epoch 8: 100%|██████████| 371/371 [02:09<00:00,  2.87it/s, MLM_Accuracy=0.5191, MLM_loss=0.0275, NSP_Accuracy=0.9928, NSP_loss=0.0030, Total_loss=0.0305]\n",
      "Epoch 9: 100%|██████████| 371/371 [02:09<00:00,  2.87it/s, MLM_Accuracy=0.5491, MLM_loss=0.0363, NSP_Accuracy=0.9919, NSP_loss=0.0008, Total_loss=0.0371]\n",
      "C:\\Users\\pauls\\AppData\\Local\\Temp\\ipykernel_24964\\833165237.py:89: FutureWarning: The frame.append method is deprecated and will be removed from pandas in a future version. Use pandas.concat instead.\n",
      "  new_rec = self.rec.append(self.record, ignore_index=True)\n"
     ]
    }
   ],
   "source": [
    "mask13_input = getData(modelType = modelType, datapath = datapath, maskPercent = 13, nspTask = \"NSP\")\n",
    "mask13 = trainModel(modelType = modelType, inputs = mask13_input.returnInput(), batch_size = batch_size, epoch = epoch, maskPercent = 13, saveModelName = \"saved_model_mask13\")\n",
    "mask13_input = None\n",
    "mask13 = None"
   ]
  },
  {
   "cell_type": "code",
   "execution_count": null,
   "metadata": {},
   "outputs": [
    {
     "name": "stderr",
     "output_type": "stream",
     "text": [
      "Some weights of MyBertForPreTraining were not initialized from the model checkpoint at bert-base-cased and are newly initialized: ['cls.predictions.decoder.bias']\n",
      "You should probably TRAIN this model on a down-stream task to be able to use it for predictions and inference.\n",
      "c:\\Users\\pauls\\anaconda3\\envs\\BERT_Practice\\lib\\site-packages\\transformers\\optimization.py:306: FutureWarning: This implementation of AdamW is deprecated and will be removed in a future version. Use the PyTorch implementation torch.optim.AdamW instead, or set `no_deprecation_warning=True` to disable this warning\n",
      "  warnings.warn(\n",
      "  0%|          | 0/371 [00:00<?, ?it/s]C:\\Users\\pauls\\AppData\\Local\\Temp\\ipykernel_24964\\541448751.py:5: UserWarning: To copy construct from a tensor, it is recommended to use sourceTensor.clone().detach() or sourceTensor.clone().detach().requires_grad_(True), rather than torch.tensor(sourceTensor).\n",
      "  return {key: torch.tensor(val[idx]) for key, val in self.encodings.items()}\n",
      "Epoch 0: 100%|██████████| 371/371 [02:09<00:00,  2.87it/s, MLM_Accuracy=0.3265, MLM_loss=0.0704, NSP_Accuracy=0.8184, NSP_loss=0.7203, Total_loss=0.7907]\n",
      "Epoch 1: 100%|██████████| 371/371 [02:09<00:00,  2.87it/s, MLM_Accuracy=0.4049, MLM_loss=0.0178, NSP_Accuracy=0.9551, NSP_loss=0.0061, Total_loss=0.0239]\n",
      "Epoch 2: 100%|██████████| 371/371 [02:10<00:00,  2.84it/s, MLM_Accuracy=0.4284, MLM_loss=0.0592, NSP_Accuracy=0.9811, NSP_loss=0.0772, Total_loss=0.1364]\n",
      "Epoch 3: 100%|██████████| 371/371 [02:08<00:00,  2.88it/s, MLM_Accuracy=0.4509, MLM_loss=0.0307, NSP_Accuracy=0.9798, NSP_loss=0.6087, Total_loss=0.6394]\n",
      "Epoch 4: 100%|██████████| 371/371 [02:08<00:00,  2.89it/s, MLM_Accuracy=0.4733, MLM_loss=0.0244, NSP_Accuracy=0.9928, NSP_loss=0.0021, Total_loss=0.0265]\n",
      "Epoch 5: 100%|██████████| 371/371 [02:08<00:00,  2.89it/s, MLM_Accuracy=0.4840, MLM_loss=0.0491, NSP_Accuracy=0.9865, NSP_loss=0.0025, Total_loss=0.0516]\n",
      "Epoch 6: 100%|██████████| 371/371 [02:08<00:00,  2.89it/s, MLM_Accuracy=0.4927, MLM_loss=0.0431, NSP_Accuracy=0.9865, NSP_loss=0.0039, Total_loss=0.0469]\n",
      "Epoch 7: 100%|██████████| 371/371 [02:07<00:00,  2.90it/s, MLM_Accuracy=0.5092, MLM_loss=0.0374, NSP_Accuracy=0.9811, NSP_loss=0.0044, Total_loss=0.0418]\n",
      "Epoch 8: 100%|██████████| 371/371 [02:07<00:00,  2.90it/s, MLM_Accuracy=0.5256, MLM_loss=0.0371, NSP_Accuracy=0.9924, NSP_loss=0.0774, Total_loss=0.1145]\n",
      "Epoch 9: 100%|██████████| 371/371 [02:08<00:00,  2.90it/s, MLM_Accuracy=0.5263, MLM_loss=0.0173, NSP_Accuracy=0.9847, NSP_loss=0.0004, Total_loss=0.0176]\n",
      "C:\\Users\\pauls\\AppData\\Local\\Temp\\ipykernel_24964\\833165237.py:89: FutureWarning: The frame.append method is deprecated and will be removed from pandas in a future version. Use pandas.concat instead.\n",
      "  new_rec = self.rec.append(self.record, ignore_index=True)\n"
     ]
    }
   ],
   "source": [
    "mask12_input = getData(modelType = modelType, datapath = datapath, maskPercent = 12, nspTask = \"NSP\")\n",
    "mask12 = trainModel(modelType = modelType, inputs = mask12_input.returnInput(), batch_size = batch_size, epoch = epoch, maskPercent = 12, saveModelName = \"saved_model_mask12\")\n",
    "mask12_input = None\n",
    "mask12 = None"
   ]
  },
  {
   "cell_type": "code",
   "execution_count": null,
   "metadata": {},
   "outputs": [
    {
     "name": "stderr",
     "output_type": "stream",
     "text": [
      "Some weights of MyBertForPreTraining were not initialized from the model checkpoint at bert-base-cased and are newly initialized: ['cls.predictions.decoder.bias']\n",
      "You should probably TRAIN this model on a down-stream task to be able to use it for predictions and inference.\n",
      "c:\\Users\\pauls\\anaconda3\\envs\\BERT_Practice\\lib\\site-packages\\transformers\\optimization.py:306: FutureWarning: This implementation of AdamW is deprecated and will be removed in a future version. Use the PyTorch implementation torch.optim.AdamW instead, or set `no_deprecation_warning=True` to disable this warning\n",
      "  warnings.warn(\n",
      "  0%|          | 0/371 [00:00<?, ?it/s]C:\\Users\\pauls\\AppData\\Local\\Temp\\ipykernel_24964\\541448751.py:5: UserWarning: To copy construct from a tensor, it is recommended to use sourceTensor.clone().detach() or sourceTensor.clone().detach().requires_grad_(True), rather than torch.tensor(sourceTensor).\n",
      "  return {key: torch.tensor(val[idx]) for key, val in self.encodings.items()}\n",
      "Epoch 0: 100%|██████████| 371/371 [02:09<00:00,  2.86it/s, MLM_Accuracy=0.3213, MLM_loss=0.0812, NSP_Accuracy=0.8049, NSP_loss=0.6368, Total_loss=0.7180]\n",
      "Epoch 1: 100%|██████████| 371/371 [02:10<00:00,  2.85it/s, MLM_Accuracy=0.4139, MLM_loss=0.0418, NSP_Accuracy=0.9348, NSP_loss=0.0392, Total_loss=0.0810]\n",
      "Epoch 2: 100%|██████████| 371/371 [02:08<00:00,  2.88it/s, MLM_Accuracy=0.4416, MLM_loss=0.0511, NSP_Accuracy=0.9726, NSP_loss=0.1400, Total_loss=0.1911]\n",
      "Epoch 3: 100%|██████████| 371/371 [02:08<00:00,  2.89it/s, MLM_Accuracy=0.4436, MLM_loss=0.0380, NSP_Accuracy=0.9793, NSP_loss=0.0338, Total_loss=0.0718]\n",
      "Epoch 4: 100%|██████████| 371/371 [02:07<00:00,  2.90it/s, MLM_Accuracy=0.4647, MLM_loss=0.0413, NSP_Accuracy=0.9856, NSP_loss=0.0121, Total_loss=0.0535]\n",
      "Epoch 5: 100%|██████████| 371/371 [02:08<00:00,  2.89it/s, MLM_Accuracy=0.4939, MLM_loss=0.0130, NSP_Accuracy=0.9942, NSP_loss=0.0060, Total_loss=0.0190]\n",
      "Epoch 6: 100%|██████████| 371/371 [02:08<00:00,  2.89it/s, MLM_Accuracy=0.5339, MLM_loss=0.0250, NSP_Accuracy=0.9996, NSP_loss=0.0001, Total_loss=0.0251]\n",
      "Epoch 7: 100%|██████████| 371/371 [02:08<00:00,  2.88it/s, MLM_Accuracy=0.5297, MLM_loss=0.0420, NSP_Accuracy=0.9870, NSP_loss=0.0243, Total_loss=0.0663]\n",
      "Epoch 8: 100%|██████████| 371/371 [02:08<00:00,  2.88it/s, MLM_Accuracy=0.5080, MLM_loss=0.0289, NSP_Accuracy=0.9807, NSP_loss=0.0017, Total_loss=0.0306]\n",
      "Epoch 9: 100%|██████████| 371/371 [02:08<00:00,  2.89it/s, MLM_Accuracy=0.5491, MLM_loss=0.0184, NSP_Accuracy=0.9870, NSP_loss=0.0027, Total_loss=0.0211]\n",
      "C:\\Users\\pauls\\AppData\\Local\\Temp\\ipykernel_24964\\833165237.py:89: FutureWarning: The frame.append method is deprecated and will be removed from pandas in a future version. Use pandas.concat instead.\n",
      "  new_rec = self.rec.append(self.record, ignore_index=True)\n"
     ]
    }
   ],
   "source": [
    "mask11_input = getData(modelType = modelType, datapath = datapath, maskPercent = 11, nspTask = \"NSP\")\n",
    "mask11 = trainModel(modelType = modelType, inputs = mask11_input.returnInput(), batch_size = batch_size, epoch = epoch, maskPercent = 11, saveModelName = \"saved_model_mask11\")\n",
    "mask11_input = None\n",
    "mask11 = None"
   ]
  },
  {
   "cell_type": "code",
   "execution_count": null,
   "metadata": {},
   "outputs": [
    {
     "name": "stderr",
     "output_type": "stream",
     "text": [
      "Some weights of MyBertForPreTraining were not initialized from the model checkpoint at bert-base-cased and are newly initialized: ['cls.predictions.decoder.bias']\n",
      "You should probably TRAIN this model on a down-stream task to be able to use it for predictions and inference.\n",
      "c:\\Users\\pauls\\anaconda3\\envs\\BERT_Practice\\lib\\site-packages\\transformers\\optimization.py:306: FutureWarning: This implementation of AdamW is deprecated and will be removed in a future version. Use the PyTorch implementation torch.optim.AdamW instead, or set `no_deprecation_warning=True` to disable this warning\n",
      "  warnings.warn(\n",
      "  0%|          | 0/371 [00:00<?, ?it/s]C:\\Users\\pauls\\AppData\\Local\\Temp\\ipykernel_24964\\541448751.py:5: UserWarning: To copy construct from a tensor, it is recommended to use sourceTensor.clone().detach() or sourceTensor.clone().detach().requires_grad_(True), rather than torch.tensor(sourceTensor).\n",
      "  return {key: torch.tensor(val[idx]) for key, val in self.encodings.items()}\n",
      "Epoch 0: 100%|██████████| 371/371 [02:08<00:00,  2.89it/s, MLM_Accuracy=0.3281, MLM_loss=0.0911, NSP_Accuracy=0.8166, NSP_loss=0.1744, Total_loss=0.2656]\n",
      "Epoch 1: 100%|██████████| 371/371 [02:08<00:00,  2.88it/s, MLM_Accuracy=0.4101, MLM_loss=0.0404, NSP_Accuracy=0.9537, NSP_loss=0.0722, Total_loss=0.1126]\n",
      "Epoch 2: 100%|██████████| 371/371 [02:08<00:00,  2.88it/s, MLM_Accuracy=0.4389, MLM_loss=0.0307, NSP_Accuracy=0.9721, NSP_loss=1.5358, Total_loss=1.5666]\n",
      "Epoch 3: 100%|██████████| 371/371 [02:08<00:00,  2.88it/s, MLM_Accuracy=0.4611, MLM_loss=0.0351, NSP_Accuracy=0.9834, NSP_loss=0.0032, Total_loss=0.0383]\n",
      "Epoch 4: 100%|██████████| 371/371 [02:08<00:00,  2.88it/s, MLM_Accuracy=0.4834, MLM_loss=0.0225, NSP_Accuracy=0.9937, NSP_loss=0.0001, Total_loss=0.0226]\n",
      "Epoch 5: 100%|██████████| 371/371 [02:10<00:00,  2.85it/s, MLM_Accuracy=0.4786, MLM_loss=0.0207, NSP_Accuracy=0.9856, NSP_loss=0.1016, Total_loss=0.1222]\n",
      "Epoch 6: 100%|██████████| 371/371 [02:09<00:00,  2.88it/s, MLM_Accuracy=0.4823, MLM_loss=0.0114, NSP_Accuracy=0.9793, NSP_loss=0.0016, Total_loss=0.0129]\n",
      "Epoch 7: 100%|██████████| 371/371 [02:09<00:00,  2.86it/s, MLM_Accuracy=0.5150, MLM_loss=0.0282, NSP_Accuracy=0.9870, NSP_loss=0.0006, Total_loss=0.0288]\n",
      "Epoch 8: 100%|██████████| 371/371 [02:09<00:00,  2.87it/s, MLM_Accuracy=0.5396, MLM_loss=0.0196, NSP_Accuracy=0.9928, NSP_loss=0.0003, Total_loss=0.0199]\n",
      "Epoch 9: 100%|██████████| 371/371 [02:09<00:00,  2.87it/s, MLM_Accuracy=0.5460, MLM_loss=0.0191, NSP_Accuracy=0.9798, NSP_loss=0.0448, Total_loss=0.0639]\n",
      "C:\\Users\\pauls\\AppData\\Local\\Temp\\ipykernel_24964\\833165237.py:89: FutureWarning: The frame.append method is deprecated and will be removed from pandas in a future version. Use pandas.concat instead.\n",
      "  new_rec = self.rec.append(self.record, ignore_index=True)\n"
     ]
    }
   ],
   "source": [
    "mask10_input = getData(modelType = modelType, datapath = datapath, maskPercent = 10, nspTask = \"NSP\")\n",
    "mask10 = trainModel(modelType = modelType, inputs = mask10_input.returnInput(), batch_size = batch_size, epoch = epoch, maskPercent = 10, saveModelName = \"saved_model_mask10\")\n",
    "mask10_input = None\n",
    "mask10 = None"
   ]
  },
  {
   "cell_type": "code",
   "execution_count": null,
   "metadata": {},
   "outputs": [
    {
     "name": "stderr",
     "output_type": "stream",
     "text": [
      "Some weights of MyBertForPreTraining were not initialized from the model checkpoint at bert-base-cased and are newly initialized: ['cls.predictions.decoder.bias']\n",
      "You should probably TRAIN this model on a down-stream task to be able to use it for predictions and inference.\n",
      "c:\\Users\\pauls\\anaconda3\\envs\\BERT_Practice\\lib\\site-packages\\transformers\\optimization.py:306: FutureWarning: This implementation of AdamW is deprecated and will be removed in a future version. Use the PyTorch implementation torch.optim.AdamW instead, or set `no_deprecation_warning=True` to disable this warning\n",
      "  warnings.warn(\n",
      "  0%|          | 0/371 [00:00<?, ?it/s]C:\\Users\\pauls\\AppData\\Local\\Temp\\ipykernel_24964\\541448751.py:5: UserWarning: To copy construct from a tensor, it is recommended to use sourceTensor.clone().detach() or sourceTensor.clone().detach().requires_grad_(True), rather than torch.tensor(sourceTensor).\n",
      "  return {key: torch.tensor(val[idx]) for key, val in self.encodings.items()}\n",
      "Epoch 0: 100%|██████████| 371/371 [02:09<00:00,  2.86it/s, MLM_Accuracy=0.3287, MLM_loss=0.0684, NSP_Accuracy=0.8351, NSP_loss=0.2094, Total_loss=0.2778]\n",
      "Epoch 1: 100%|██████████| 371/371 [02:09<00:00,  2.87it/s, MLM_Accuracy=0.4267, MLM_loss=0.0281, NSP_Accuracy=0.9533, NSP_loss=0.0046, Total_loss=0.0327]\n",
      "Epoch 2: 100%|██████████| 371/371 [02:08<00:00,  2.89it/s, MLM_Accuracy=0.4524, MLM_loss=0.0299, NSP_Accuracy=0.9753, NSP_loss=0.0031, Total_loss=0.0330]\n",
      "Epoch 3: 100%|██████████| 371/371 [02:08<00:00,  2.88it/s, MLM_Accuracy=0.4663, MLM_loss=0.0385, NSP_Accuracy=0.9816, NSP_loss=0.0003, Total_loss=0.0388]\n",
      "Epoch 4: 100%|██████████| 371/371 [02:08<00:00,  2.89it/s, MLM_Accuracy=0.4788, MLM_loss=0.0323, NSP_Accuracy=0.9816, NSP_loss=0.0163, Total_loss=0.0486]\n",
      "Epoch 5: 100%|██████████| 371/371 [02:08<00:00,  2.88it/s, MLM_Accuracy=0.4922, MLM_loss=0.0207, NSP_Accuracy=0.9906, NSP_loss=0.0007, Total_loss=0.0214]\n",
      "Epoch 6: 100%|██████████| 371/371 [02:09<00:00,  2.87it/s, MLM_Accuracy=0.5058, MLM_loss=0.0256, NSP_Accuracy=0.9852, NSP_loss=0.1059, Total_loss=0.1315]\n",
      "Epoch 7: 100%|██████████| 371/371 [02:09<00:00,  2.86it/s, MLM_Accuracy=0.5131, MLM_loss=0.0169, NSP_Accuracy=0.9739, NSP_loss=0.0035, Total_loss=0.0204]\n",
      "Epoch 8: 100%|██████████| 371/371 [02:10<00:00,  2.83it/s, MLM_Accuracy=0.5278, MLM_loss=0.0308, NSP_Accuracy=0.9825, NSP_loss=0.0007, Total_loss=0.0315]\n",
      "Epoch 9: 100%|██████████| 371/371 [02:10<00:00,  2.85it/s, MLM_Accuracy=0.5652, MLM_loss=0.0245, NSP_Accuracy=0.9951, NSP_loss=0.0081, Total_loss=0.0325]\n",
      "C:\\Users\\pauls\\AppData\\Local\\Temp\\ipykernel_24964\\833165237.py:89: FutureWarning: The frame.append method is deprecated and will be removed from pandas in a future version. Use pandas.concat instead.\n",
      "  new_rec = self.rec.append(self.record, ignore_index=True)\n"
     ]
    }
   ],
   "source": [
    "mask9_input = getData(modelType = modelType, datapath = datapath, maskPercent = 9, nspTask = \"NSP\")\n",
    "mask9 = trainModel(modelType = modelType, inputs = mask9_input.returnInput(), batch_size = batch_size, epoch = epoch, maskPercent = 9, saveModelName = \"saved_model_mask9\")\n",
    "mask9_input = None\n",
    "mask9 = None"
   ]
  },
  {
   "cell_type": "code",
   "execution_count": null,
   "metadata": {},
   "outputs": [
    {
     "name": "stderr",
     "output_type": "stream",
     "text": [
      "Some weights of MyBertForPreTraining were not initialized from the model checkpoint at bert-base-cased and are newly initialized: ['cls.predictions.decoder.bias']\n",
      "You should probably TRAIN this model on a down-stream task to be able to use it for predictions and inference.\n",
      "c:\\Users\\pauls\\anaconda3\\envs\\BERT_Practice\\lib\\site-packages\\transformers\\optimization.py:306: FutureWarning: This implementation of AdamW is deprecated and will be removed in a future version. Use the PyTorch implementation torch.optim.AdamW instead, or set `no_deprecation_warning=True` to disable this warning\n",
      "  warnings.warn(\n",
      "  0%|          | 0/371 [00:00<?, ?it/s]C:\\Users\\pauls\\AppData\\Local\\Temp\\ipykernel_24964\\541448751.py:5: UserWarning: To copy construct from a tensor, it is recommended to use sourceTensor.clone().detach() or sourceTensor.clone().detach().requires_grad_(True), rather than torch.tensor(sourceTensor).\n",
      "  return {key: torch.tensor(val[idx]) for key, val in self.encodings.items()}\n",
      "Epoch 0: 100%|██████████| 371/371 [02:08<00:00,  2.88it/s, MLM_Accuracy=0.3471, MLM_loss=0.0492, NSP_Accuracy=0.8184, NSP_loss=0.4481, Total_loss=0.4974]\n",
      "Epoch 1: 100%|██████████| 371/371 [02:08<00:00,  2.88it/s, MLM_Accuracy=0.4223, MLM_loss=0.0179, NSP_Accuracy=0.9474, NSP_loss=0.4023, Total_loss=0.4202]\n",
      "Epoch 2: 100%|██████████| 371/371 [02:09<00:00,  2.87it/s, MLM_Accuracy=0.4496, MLM_loss=0.0227, NSP_Accuracy=0.9807, NSP_loss=0.1301, Total_loss=0.1528]\n",
      "Epoch 3: 100%|██████████| 371/371 [02:08<00:00,  2.88it/s, MLM_Accuracy=0.4702, MLM_loss=0.0191, NSP_Accuracy=0.9834, NSP_loss=0.1133, Total_loss=0.1325]\n",
      "Epoch 4: 100%|██████████| 371/371 [02:08<00:00,  2.88it/s, MLM_Accuracy=0.4886, MLM_loss=0.0365, NSP_Accuracy=0.9802, NSP_loss=0.0003, Total_loss=0.0368]\n",
      "Epoch 5: 100%|██████████| 371/371 [02:08<00:00,  2.88it/s, MLM_Accuracy=0.4985, MLM_loss=0.0211, NSP_Accuracy=0.9843, NSP_loss=0.0036, Total_loss=0.0247]\n",
      "Epoch 6: 100%|██████████| 371/371 [02:09<00:00,  2.88it/s, MLM_Accuracy=0.5073, MLM_loss=0.0175, NSP_Accuracy=0.9856, NSP_loss=0.0004, Total_loss=0.0179]\n",
      "Epoch 7: 100%|██████████| 371/371 [02:08<00:00,  2.88it/s, MLM_Accuracy=0.5130, MLM_loss=0.0410, NSP_Accuracy=0.9793, NSP_loss=0.0003, Total_loss=0.0413]\n",
      "Epoch 8: 100%|██████████| 371/371 [02:08<00:00,  2.88it/s, MLM_Accuracy=0.5286, MLM_loss=0.0323, NSP_Accuracy=0.9892, NSP_loss=0.0017, Total_loss=0.0340]\n",
      "Epoch 9: 100%|██████████| 371/371 [02:08<00:00,  2.88it/s, MLM_Accuracy=0.5580, MLM_loss=0.0175, NSP_Accuracy=0.9892, NSP_loss=0.0191, Total_loss=0.0366]\n",
      "C:\\Users\\pauls\\AppData\\Local\\Temp\\ipykernel_24964\\833165237.py:89: FutureWarning: The frame.append method is deprecated and will be removed from pandas in a future version. Use pandas.concat instead.\n",
      "  new_rec = self.rec.append(self.record, ignore_index=True)\n"
     ]
    }
   ],
   "source": [
    "mask8_input = getData(modelType = modelType, datapath = datapath, maskPercent = 8, nspTask = \"NSP\")\n",
    "mask8 = trainModel(modelType = modelType, inputs = mask8_input.returnInput(), batch_size = batch_size, epoch = epoch, maskPercent = 8, saveModelName = \"saved_model_mask8\")\n",
    "mask8_input = None\n",
    "mask8 = None"
   ]
  },
  {
   "cell_type": "code",
   "execution_count": null,
   "metadata": {},
   "outputs": [
    {
     "name": "stderr",
     "output_type": "stream",
     "text": [
      "Some weights of MyBertForPreTraining were not initialized from the model checkpoint at bert-base-cased and are newly initialized: ['cls.predictions.decoder.bias']\n",
      "You should probably TRAIN this model on a down-stream task to be able to use it for predictions and inference.\n",
      "c:\\Users\\pauls\\anaconda3\\envs\\BERT_Practice\\lib\\site-packages\\transformers\\optimization.py:306: FutureWarning: This implementation of AdamW is deprecated and will be removed in a future version. Use the PyTorch implementation torch.optim.AdamW instead, or set `no_deprecation_warning=True` to disable this warning\n",
      "  warnings.warn(\n",
      "  0%|          | 0/371 [00:00<?, ?it/s]C:\\Users\\pauls\\AppData\\Local\\Temp\\ipykernel_24964\\541448751.py:5: UserWarning: To copy construct from a tensor, it is recommended to use sourceTensor.clone().detach() or sourceTensor.clone().detach().requires_grad_(True), rather than torch.tensor(sourceTensor).\n",
      "  return {key: torch.tensor(val[idx]) for key, val in self.encodings.items()}\n",
      "Epoch 0: 100%|██████████| 371/371 [02:08<00:00,  2.88it/s, MLM_Accuracy=0.3453, MLM_loss=0.0405, NSP_Accuracy=0.8198, NSP_loss=0.1654, Total_loss=0.2059]\n",
      "Epoch 1: 100%|██████████| 371/371 [02:09<00:00,  2.88it/s, MLM_Accuracy=0.4155, MLM_loss=0.0394, NSP_Accuracy=0.9506, NSP_loss=0.0598, Total_loss=0.0992]\n",
      "Epoch 2: 100%|██████████| 371/371 [02:09<00:00,  2.87it/s, MLM_Accuracy=0.4430, MLM_loss=0.0326, NSP_Accuracy=0.9636, NSP_loss=0.0132, Total_loss=0.0458]\n",
      "Epoch 3: 100%|██████████| 371/371 [02:09<00:00,  2.87it/s, MLM_Accuracy=0.4723, MLM_loss=0.0192, NSP_Accuracy=0.9834, NSP_loss=0.0002, Total_loss=0.0194]\n",
      "Epoch 4: 100%|██████████| 371/371 [02:09<00:00,  2.87it/s, MLM_Accuracy=0.4809, MLM_loss=0.0125, NSP_Accuracy=0.9883, NSP_loss=1.9433, Total_loss=1.9558]\n",
      "Epoch 5: 100%|██████████| 371/371 [02:08<00:00,  2.88it/s, MLM_Accuracy=0.4846, MLM_loss=0.0238, NSP_Accuracy=0.9780, NSP_loss=0.0002, Total_loss=0.0240]\n",
      "Epoch 6: 100%|██████████| 371/371 [02:09<00:00,  2.87it/s, MLM_Accuracy=0.4998, MLM_loss=0.0309, NSP_Accuracy=0.9883, NSP_loss=0.5115, Total_loss=0.5423]\n",
      "Epoch 7: 100%|██████████| 371/371 [02:09<00:00,  2.88it/s, MLM_Accuracy=0.5235, MLM_loss=0.0144, NSP_Accuracy=0.9739, NSP_loss=0.0021, Total_loss=0.0166]\n",
      "Epoch 8: 100%|██████████| 371/371 [02:09<00:00,  2.87it/s, MLM_Accuracy=0.5460, MLM_loss=0.0223, NSP_Accuracy=0.9874, NSP_loss=0.0002, Total_loss=0.0226]\n",
      "Epoch 9: 100%|██████████| 371/371 [02:09<00:00,  2.88it/s, MLM_Accuracy=0.5483, MLM_loss=0.0202, NSP_Accuracy=0.9879, NSP_loss=0.0179, Total_loss=0.0381]\n",
      "C:\\Users\\pauls\\AppData\\Local\\Temp\\ipykernel_24964\\833165237.py:89: FutureWarning: The frame.append method is deprecated and will be removed from pandas in a future version. Use pandas.concat instead.\n",
      "  new_rec = self.rec.append(self.record, ignore_index=True)\n"
     ]
    }
   ],
   "source": [
    "mask7_input = getData(modelType = modelType, datapath = datapath, maskPercent = 7, nspTask = \"NSP\")\n",
    "mask7 = trainModel(modelType = modelType, inputs = mask7_input.returnInput(), batch_size = batch_size, epoch = epoch, maskPercent = 7, saveModelName = \"saved_model_mask7\")\n",
    "mask7_input = None\n",
    "mask7 = None"
   ]
  },
  {
   "cell_type": "code",
   "execution_count": null,
   "metadata": {},
   "outputs": [
    {
     "name": "stderr",
     "output_type": "stream",
     "text": [
      "Some weights of MyBertForPreTraining were not initialized from the model checkpoint at bert-base-cased and are newly initialized: ['cls.predictions.decoder.bias']\n",
      "You should probably TRAIN this model on a down-stream task to be able to use it for predictions and inference.\n",
      "c:\\Users\\pauls\\anaconda3\\envs\\BERT_Practice\\lib\\site-packages\\transformers\\optimization.py:306: FutureWarning: This implementation of AdamW is deprecated and will be removed in a future version. Use the PyTorch implementation torch.optim.AdamW instead, or set `no_deprecation_warning=True` to disable this warning\n",
      "  warnings.warn(\n",
      "  0%|          | 0/371 [00:00<?, ?it/s]C:\\Users\\pauls\\AppData\\Local\\Temp\\ipykernel_24964\\541448751.py:5: UserWarning: To copy construct from a tensor, it is recommended to use sourceTensor.clone().detach() or sourceTensor.clone().detach().requires_grad_(True), rather than torch.tensor(sourceTensor).\n",
      "  return {key: torch.tensor(val[idx]) for key, val in self.encodings.items()}\n",
      "Epoch 0: 100%|██████████| 371/371 [02:08<00:00,  2.89it/s, MLM_Accuracy=0.3298, MLM_loss=0.0459, NSP_Accuracy=0.8153, NSP_loss=0.6059, Total_loss=0.6518]\n",
      "Epoch 1: 100%|██████████| 371/371 [02:08<00:00,  2.88it/s, MLM_Accuracy=0.4078, MLM_loss=0.0220, NSP_Accuracy=0.9447, NSP_loss=0.3889, Total_loss=0.4109]\n",
      "Epoch 2: 100%|██████████| 371/371 [02:09<00:00,  2.88it/s, MLM_Accuracy=0.4456, MLM_loss=0.0166, NSP_Accuracy=0.9757, NSP_loss=0.0062, Total_loss=0.0228]\n",
      "Epoch 3: 100%|██████████| 371/371 [02:08<00:00,  2.89it/s, MLM_Accuracy=0.4688, MLM_loss=0.0221, NSP_Accuracy=0.9865, NSP_loss=0.0012, Total_loss=0.0233]\n",
      "Epoch 4: 100%|██████████| 371/371 [02:08<00:00,  2.90it/s, MLM_Accuracy=0.4843, MLM_loss=0.0133, NSP_Accuracy=0.9829, NSP_loss=0.0118, Total_loss=0.0251]\n",
      "Epoch 5: 100%|██████████| 371/371 [02:07<00:00,  2.90it/s, MLM_Accuracy=0.4869, MLM_loss=0.0290, NSP_Accuracy=0.9775, NSP_loss=0.0116, Total_loss=0.0406]\n",
      "Epoch 6: 100%|██████████| 371/371 [02:07<00:00,  2.90it/s, MLM_Accuracy=0.5188, MLM_loss=0.0239, NSP_Accuracy=0.9901, NSP_loss=0.0801, Total_loss=0.1040]\n",
      "Epoch 7: 100%|██████████| 371/371 [02:07<00:00,  2.90it/s, MLM_Accuracy=0.5498, MLM_loss=0.0197, NSP_Accuracy=0.9919, NSP_loss=0.0055, Total_loss=0.0252]\n",
      "Epoch 8: 100%|██████████| 371/371 [02:07<00:00,  2.90it/s, MLM_Accuracy=0.5697, MLM_loss=0.0059, NSP_Accuracy=0.9951, NSP_loss=0.0003, Total_loss=0.0063]\n",
      "Epoch 9: 100%|██████████| 371/371 [02:07<00:00,  2.90it/s, MLM_Accuracy=0.5725, MLM_loss=0.0114, NSP_Accuracy=0.9874, NSP_loss=0.0065, Total_loss=0.0180]\n",
      "C:\\Users\\pauls\\AppData\\Local\\Temp\\ipykernel_24964\\833165237.py:89: FutureWarning: The frame.append method is deprecated and will be removed from pandas in a future version. Use pandas.concat instead.\n",
      "  new_rec = self.rec.append(self.record, ignore_index=True)\n"
     ]
    }
   ],
   "source": [
    "mask6_input = getData(modelType = modelType, datapath = datapath, maskPercent = 6, nspTask = \"NSP\")\n",
    "mask6 = trainModel(modelType = modelType, inputs = mask6_input.returnInput(), batch_size = batch_size, epoch = epoch, maskPercent = 6, saveModelName = \"saved_model_mask6\")\n",
    "mask6_input = None\n",
    "mask6 = None"
   ]
  },
  {
   "cell_type": "code",
   "execution_count": null,
   "metadata": {},
   "outputs": [
    {
     "name": "stderr",
     "output_type": "stream",
     "text": [
      "Some weights of MyBertForPreTraining were not initialized from the model checkpoint at bert-base-cased and are newly initialized: ['cls.predictions.decoder.bias']\n",
      "You should probably TRAIN this model on a down-stream task to be able to use it for predictions and inference.\n",
      "c:\\Users\\pauls\\anaconda3\\envs\\BERT_Practice\\lib\\site-packages\\transformers\\optimization.py:306: FutureWarning: This implementation of AdamW is deprecated and will be removed in a future version. Use the PyTorch implementation torch.optim.AdamW instead, or set `no_deprecation_warning=True` to disable this warning\n",
      "  warnings.warn(\n",
      "  0%|          | 0/371 [00:00<?, ?it/s]C:\\Users\\pauls\\AppData\\Local\\Temp\\ipykernel_24964\\541448751.py:5: UserWarning: To copy construct from a tensor, it is recommended to use sourceTensor.clone().detach() or sourceTensor.clone().detach().requires_grad_(True), rather than torch.tensor(sourceTensor).\n",
      "  return {key: torch.tensor(val[idx]) for key, val in self.encodings.items()}\n",
      "Epoch 0: 100%|██████████| 371/371 [02:07<00:00,  2.91it/s, MLM_Accuracy=0.3133, MLM_loss=0.0908, NSP_Accuracy=0.5155, NSP_loss=0.6474, Total_loss=0.7381]\n",
      "Epoch 1: 100%|██████████| 371/371 [02:07<00:00,  2.90it/s, MLM_Accuracy=0.4202, MLM_loss=0.0477, NSP_Accuracy=0.6040, NSP_loss=0.6784, Total_loss=0.7261]\n",
      "Epoch 2: 100%|██████████| 371/371 [02:07<00:00,  2.90it/s, MLM_Accuracy=0.4268, MLM_loss=0.0510, NSP_Accuracy=0.7825, NSP_loss=0.1503, Total_loss=0.2013]\n",
      "Epoch 3: 100%|██████████| 371/371 [02:08<00:00,  2.90it/s, MLM_Accuracy=0.4298, MLM_loss=0.0748, NSP_Accuracy=0.9294, NSP_loss=0.0292, Total_loss=0.1040]\n",
      "Epoch 4:  30%|██▉       | 110/371 [00:38<01:31,  2.85it/s, MLM_Accuracy=0.4360, MLM_loss=0.0522, NSP_Accuracy=0.9788, NSP_loss=0.0040, Total_loss=0.0562]\n"
     ]
    },
    {
     "ename": "KeyboardInterrupt",
     "evalue": "",
     "output_type": "error",
     "traceback": [
      "\u001b[1;31m---------------------------------------------------------------------------\u001b[0m",
      "\u001b[1;31mKeyboardInterrupt\u001b[0m                         Traceback (most recent call last)",
      "\u001b[1;32md:\\NCHU\\Group Meeting\\我啦\\畢業論文相關\\BERT_Practice\\實做\\論文\\BERT_Pretrain copy.ipynb Cell 22\u001b[0m in \u001b[0;36m2\n\u001b[0;32m      <a href='vscode-notebook-cell:/d%3A/NCHU/Group%20Meeting/%E6%88%91%E5%95%A6/%E7%95%A2%E6%A5%AD%E8%AB%96%E6%96%87%E7%9B%B8%E9%97%9C/BERT_Practice/%E5%AF%A6%E5%81%9A/%E8%AB%96%E6%96%87/BERT_Pretrain%20copy.ipynb#X30sZmlsZQ%3D%3D?line=0'>1</a>\u001b[0m mask15_input_sop \u001b[39m=\u001b[39m getData(modelType \u001b[39m=\u001b[39m modelType, datapath \u001b[39m=\u001b[39m datapath, maskPercent \u001b[39m=\u001b[39m \u001b[39m15\u001b[39m, nspTask \u001b[39m=\u001b[39m \u001b[39m\"\u001b[39m\u001b[39mSOP\u001b[39m\u001b[39m\"\u001b[39m)\n\u001b[1;32m----> <a href='vscode-notebook-cell:/d%3A/NCHU/Group%20Meeting/%E6%88%91%E5%95%A6/%E7%95%A2%E6%A5%AD%E8%AB%96%E6%96%87%E7%9B%B8%E9%97%9C/BERT_Practice/%E5%AF%A6%E5%81%9A/%E8%AB%96%E6%96%87/BERT_Pretrain%20copy.ipynb#X30sZmlsZQ%3D%3D?line=1'>2</a>\u001b[0m mask15_sop \u001b[39m=\u001b[39m trainModel(modelType \u001b[39m=\u001b[39;49m modelType, inputs \u001b[39m=\u001b[39;49m mask15_input_sop\u001b[39m.\u001b[39;49mreturnInput(), batch_size \u001b[39m=\u001b[39;49m \u001b[39m6\u001b[39;49m, epoch \u001b[39m=\u001b[39;49m epoch, maskPercent \u001b[39m=\u001b[39;49m \u001b[39m15\u001b[39;49m, saveModelName \u001b[39m=\u001b[39;49m \u001b[39m\"\u001b[39;49m\u001b[39msaved_model_mask15_sop\u001b[39;49m\u001b[39m\"\u001b[39;49m, saveCSV \u001b[39m=\u001b[39;49m \u001b[39mFalse\u001b[39;49;00m, nspTask \u001b[39m=\u001b[39;49m \u001b[39m\"\u001b[39;49m\u001b[39mSOP\u001b[39;49m\u001b[39m\"\u001b[39;49m)\n",
      "\u001b[1;32md:\\NCHU\\Group Meeting\\我啦\\畢業論文相關\\BERT_Practice\\實做\\論文\\BERT_Pretrain copy.ipynb Cell 22\u001b[0m in \u001b[0;36m2\n\u001b[0;32m     <a href='vscode-notebook-cell:/d%3A/NCHU/Group%20Meeting/%E6%88%91%E5%95%A6/%E7%95%A2%E6%A5%AD%E8%AB%96%E6%96%87%E7%9B%B8%E9%97%9C/BERT_Practice/%E5%AF%A6%E5%81%9A/%E8%AB%96%E6%96%87/BERT_Pretrain%20copy.ipynb#X30sZmlsZQ%3D%3D?line=23'>24</a>\u001b[0m \u001b[39melse\u001b[39;00m:\n\u001b[0;32m     <a href='vscode-notebook-cell:/d%3A/NCHU/Group%20Meeting/%E6%88%91%E5%95%A6/%E7%95%A2%E6%A5%AD%E8%AB%96%E6%96%87%E7%9B%B8%E9%97%9C/BERT_Practice/%E5%AF%A6%E5%81%9A/%E8%AB%96%E6%96%87/BERT_Pretrain%20copy.ipynb#X30sZmlsZQ%3D%3D?line=24'>25</a>\u001b[0m     \u001b[39mself\u001b[39m\u001b[39m.\u001b[39mrec \u001b[39m=\u001b[39m pd\u001b[39m.\u001b[39mDataFrame()\n\u001b[1;32m---> <a href='vscode-notebook-cell:/d%3A/NCHU/Group%20Meeting/%E6%88%91%E5%95%A6/%E7%95%A2%E6%A5%AD%E8%AB%96%E6%96%87%E7%9B%B8%E9%97%9C/BERT_Practice/%E5%AF%A6%E5%81%9A/%E8%AB%96%E6%96%87/BERT_Pretrain%20copy.ipynb#X30sZmlsZQ%3D%3D?line=26'>27</a>\u001b[0m \u001b[39mself\u001b[39;49m\u001b[39m.\u001b[39;49mtraining()\n\u001b[0;32m     <a href='vscode-notebook-cell:/d%3A/NCHU/Group%20Meeting/%E6%88%91%E5%95%A6/%E7%95%A2%E6%A5%AD%E8%AB%96%E6%96%87%E7%9B%B8%E9%97%9C/BERT_Practice/%E5%AF%A6%E5%81%9A/%E8%AB%96%E6%96%87/BERT_Pretrain%20copy.ipynb#X30sZmlsZQ%3D%3D?line=27'>28</a>\u001b[0m \u001b[39mself\u001b[39m\u001b[39m.\u001b[39msave_model(\u001b[39mself\u001b[39m\u001b[39m.\u001b[39msaveModelName)\n",
      "\u001b[1;32md:\\NCHU\\Group Meeting\\我啦\\畢業論文相關\\BERT_Practice\\實做\\論文\\BERT_Pretrain copy.ipynb Cell 22\u001b[0m in \u001b[0;36m7\n\u001b[0;32m     <a href='vscode-notebook-cell:/d%3A/NCHU/Group%20Meeting/%E6%88%91%E5%95%A6/%E7%95%A2%E6%A5%AD%E8%AB%96%E6%96%87%E7%9B%B8%E9%97%9C/BERT_Practice/%E5%AF%A6%E5%81%9A/%E8%AB%96%E6%96%87/BERT_Pretrain%20copy.ipynb#X30sZmlsZQ%3D%3D?line=74'>75</a>\u001b[0m loss\u001b[39m.\u001b[39mbackward()\n\u001b[0;32m     <a href='vscode-notebook-cell:/d%3A/NCHU/Group%20Meeting/%E6%88%91%E5%95%A6/%E7%95%A2%E6%A5%AD%E8%AB%96%E6%96%87%E7%9B%B8%E9%97%9C/BERT_Practice/%E5%AF%A6%E5%81%9A/%E8%AB%96%E6%96%87/BERT_Pretrain%20copy.ipynb#X30sZmlsZQ%3D%3D?line=75'>76</a>\u001b[0m \u001b[39m# update parameters\u001b[39;00m\n\u001b[1;32m---> <a href='vscode-notebook-cell:/d%3A/NCHU/Group%20Meeting/%E6%88%91%E5%95%A6/%E7%95%A2%E6%A5%AD%E8%AB%96%E6%96%87%E7%9B%B8%E9%97%9C/BERT_Practice/%E5%AF%A6%E5%81%9A/%E8%AB%96%E6%96%87/BERT_Pretrain%20copy.ipynb#X30sZmlsZQ%3D%3D?line=76'>77</a>\u001b[0m \u001b[39mself\u001b[39;49m\u001b[39m.\u001b[39;49moptim\u001b[39m.\u001b[39;49mstep()\n\u001b[0;32m     <a href='vscode-notebook-cell:/d%3A/NCHU/Group%20Meeting/%E6%88%91%E5%95%A6/%E7%95%A2%E6%A5%AD%E8%AB%96%E6%96%87%E7%9B%B8%E9%97%9C/BERT_Practice/%E5%AF%A6%E5%81%9A/%E8%AB%96%E6%96%87/BERT_Pretrain%20copy.ipynb#X30sZmlsZQ%3D%3D?line=77'>78</a>\u001b[0m \u001b[39m# print relevant info to progress bar\u001b[39;00m\n\u001b[0;32m     <a href='vscode-notebook-cell:/d%3A/NCHU/Group%20Meeting/%E6%88%91%E5%95%A6/%E7%95%A2%E6%A5%AD%E8%AB%96%E6%96%87%E7%9B%B8%E9%97%9C/BERT_Practice/%E5%AF%A6%E5%81%9A/%E8%AB%96%E6%96%87/BERT_Pretrain%20copy.ipynb#X30sZmlsZQ%3D%3D?line=78'>79</a>\u001b[0m loop\u001b[39m.\u001b[39mset_description(\u001b[39mf\u001b[39m\u001b[39m'\u001b[39m\u001b[39mEpoch \u001b[39m\u001b[39m{\u001b[39;00mepoch\u001b[39m}\u001b[39;00m\u001b[39m'\u001b[39m)\n",
      "File \u001b[1;32mc:\\Users\\pauls\\anaconda3\\envs\\BERT_Practice\\lib\\site-packages\\torch\\optim\\optimizer.py:140\u001b[0m, in \u001b[0;36mOptimizer._hook_for_profile.<locals>.profile_hook_step.<locals>.wrapper\u001b[1;34m(*args, **kwargs)\u001b[0m\n\u001b[0;32m    138\u001b[0m profile_name \u001b[39m=\u001b[39m \u001b[39m\"\u001b[39m\u001b[39mOptimizer.step#\u001b[39m\u001b[39m{}\u001b[39;00m\u001b[39m.step\u001b[39m\u001b[39m\"\u001b[39m\u001b[39m.\u001b[39mformat(obj\u001b[39m.\u001b[39m\u001b[39m__class__\u001b[39m\u001b[39m.\u001b[39m\u001b[39m__name__\u001b[39m)\n\u001b[0;32m    139\u001b[0m \u001b[39mwith\u001b[39;00m torch\u001b[39m.\u001b[39mautograd\u001b[39m.\u001b[39mprofiler\u001b[39m.\u001b[39mrecord_function(profile_name):\n\u001b[1;32m--> 140\u001b[0m     out \u001b[39m=\u001b[39m func(\u001b[39m*\u001b[39;49margs, \u001b[39m*\u001b[39;49m\u001b[39m*\u001b[39;49mkwargs)\n\u001b[0;32m    141\u001b[0m     obj\u001b[39m.\u001b[39m_optimizer_step_code()\n\u001b[0;32m    142\u001b[0m     \u001b[39mreturn\u001b[39;00m out\n",
      "File \u001b[1;32mc:\\Users\\pauls\\anaconda3\\envs\\BERT_Practice\\lib\\site-packages\\transformers\\optimization.py:361\u001b[0m, in \u001b[0;36mAdamW.step\u001b[1;34m(self, closure)\u001b[0m\n\u001b[0;32m    358\u001b[0m \u001b[39m# Decay the first and second moment running average coefficient\u001b[39;00m\n\u001b[0;32m    359\u001b[0m \u001b[39m# In-place operations to update the averages at the same time\u001b[39;00m\n\u001b[0;32m    360\u001b[0m exp_avg\u001b[39m.\u001b[39mmul_(beta1)\u001b[39m.\u001b[39madd_(grad, alpha\u001b[39m=\u001b[39m(\u001b[39m1.0\u001b[39m \u001b[39m-\u001b[39m beta1))\n\u001b[1;32m--> 361\u001b[0m exp_avg_sq\u001b[39m.\u001b[39;49mmul_(beta2)\u001b[39m.\u001b[39;49maddcmul_(grad, grad, value\u001b[39m=\u001b[39;49m\u001b[39m1.0\u001b[39;49m \u001b[39m-\u001b[39;49m beta2)\n\u001b[0;32m    362\u001b[0m denom \u001b[39m=\u001b[39m exp_avg_sq\u001b[39m.\u001b[39msqrt()\u001b[39m.\u001b[39madd_(group[\u001b[39m\"\u001b[39m\u001b[39meps\u001b[39m\u001b[39m\"\u001b[39m])\n\u001b[0;32m    364\u001b[0m step_size \u001b[39m=\u001b[39m group[\u001b[39m\"\u001b[39m\u001b[39mlr\u001b[39m\u001b[39m\"\u001b[39m]\n",
      "\u001b[1;31mKeyboardInterrupt\u001b[0m: "
     ]
    }
   ],
   "source": [
    "# mask15_input_sop = getData(modelType = modelType, datapath = datapath, maskPercent = 15, nspTask = \"SOP\")\n",
    "# mask15_sop = trainModel(modelType = modelType, inputs = mask15_input_sop.returnInput(), batch_size = 6, epoch = epoch, maskPercent = 15, saveModelName = \"saved_model_mask15_sop\", saveCSV = False, nspTask = \"SOP\")"
   ]
  }
 ],
 "metadata": {
  "kernelspec": {
   "display_name": "BERT_Practice",
   "language": "python",
   "name": "python3"
  },
  "language_info": {
   "codemirror_mode": {
    "name": "ipython",
    "version": 3
   },
   "file_extension": ".py",
   "mimetype": "text/x-python",
   "name": "python",
   "nbconvert_exporter": "python",
   "pygments_lexer": "ipython3",
   "version": "3.8.5"
  },
  "orig_nbformat": 4,
  "vscode": {
   "interpreter": {
    "hash": "684b83e2f83316061361748e41b2620a10a3e9a8f2545480c20c18cf426689ab"
   }
  }
 },
 "nbformat": 4,
 "nbformat_minor": 2
}

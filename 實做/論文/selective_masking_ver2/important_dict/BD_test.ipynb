{
 "cells": [
  {
   "cell_type": "code",
   "execution_count": 1,
   "metadata": {},
   "outputs": [],
   "source": [
    "import requests\n",
    "import pandas as pd\n",
    "from bs4 import BeautifulSoup"
   ]
  },
  {
   "cell_type": "code",
   "execution_count": 42,
   "metadata": {},
   "outputs": [],
   "source": [
    "# df = pd.DataFrame({\"word\": [], \"business\": [], \"entertainment\": [], \"sport\": [], \"tech\": [], \"politics\": []})\n",
    "# df['business'] = df['business'].astype(int)\n",
    "# df['entertainment'] = df['entertainment'].astype(int)\n",
    "# df['sport'] = df['sport'].astype(int)\n",
    "# df['tech'] = df['tech'].astype(int)\n",
    "# df['politics'] = df['politics'].astype(int)"
   ]
  },
  {
   "cell_type": "code",
   "execution_count": 2,
   "metadata": {},
   "outputs": [
    {
     "data": {
      "text/html": [
       "<div>\n",
       "<style scoped>\n",
       "    .dataframe tbody tr th:only-of-type {\n",
       "        vertical-align: middle;\n",
       "    }\n",
       "\n",
       "    .dataframe tbody tr th {\n",
       "        vertical-align: top;\n",
       "    }\n",
       "\n",
       "    .dataframe thead th {\n",
       "        text-align: right;\n",
       "    }\n",
       "</style>\n",
       "<table border=\"1\" class=\"dataframe\">\n",
       "  <thead>\n",
       "    <tr style=\"text-align: right;\">\n",
       "      <th></th>\n",
       "      <th>word</th>\n",
       "      <th>business</th>\n",
       "      <th>entertainment</th>\n",
       "      <th>sport</th>\n",
       "      <th>tech</th>\n",
       "      <th>politics</th>\n",
       "    </tr>\n",
       "  </thead>\n",
       "  <tbody>\n",
       "    <tr>\n",
       "      <th>0</th>\n",
       "      <td>3-d</td>\n",
       "      <td>0</td>\n",
       "      <td>1</td>\n",
       "      <td>0</td>\n",
       "      <td>0</td>\n",
       "      <td>0</td>\n",
       "    </tr>\n",
       "    <tr>\n",
       "      <th>1</th>\n",
       "      <td>3d</td>\n",
       "      <td>0</td>\n",
       "      <td>1</td>\n",
       "      <td>0</td>\n",
       "      <td>0</td>\n",
       "      <td>0</td>\n",
       "    </tr>\n",
       "    <tr>\n",
       "      <th>2</th>\n",
       "      <td>access to the internet</td>\n",
       "      <td>0</td>\n",
       "      <td>0</td>\n",
       "      <td>0</td>\n",
       "      <td>1</td>\n",
       "      <td>0</td>\n",
       "    </tr>\n",
       "    <tr>\n",
       "      <th>3</th>\n",
       "      <td>accoun</td>\n",
       "      <td>1</td>\n",
       "      <td>0</td>\n",
       "      <td>0</td>\n",
       "      <td>0</td>\n",
       "      <td>0</td>\n",
       "    </tr>\n",
       "    <tr>\n",
       "      <th>4</th>\n",
       "      <td>account number</td>\n",
       "      <td>1</td>\n",
       "      <td>0</td>\n",
       "      <td>0</td>\n",
       "      <td>0</td>\n",
       "      <td>0</td>\n",
       "    </tr>\n",
       "    <tr>\n",
       "      <th>...</th>\n",
       "      <td>...</td>\n",
       "      <td>...</td>\n",
       "      <td>...</td>\n",
       "      <td>...</td>\n",
       "      <td>...</td>\n",
       "      <td>...</td>\n",
       "    </tr>\n",
       "    <tr>\n",
       "      <th>1448</th>\n",
       "      <td>zarzuela</td>\n",
       "      <td>0</td>\n",
       "      <td>1</td>\n",
       "      <td>0</td>\n",
       "      <td>0</td>\n",
       "      <td>0</td>\n",
       "    </tr>\n",
       "    <tr>\n",
       "      <th>1449</th>\n",
       "      <td>zero interest rates</td>\n",
       "      <td>1</td>\n",
       "      <td>0</td>\n",
       "      <td>0</td>\n",
       "      <td>0</td>\n",
       "      <td>0</td>\n",
       "    </tr>\n",
       "    <tr>\n",
       "      <th>1450</th>\n",
       "      <td>zombie funds</td>\n",
       "      <td>1</td>\n",
       "      <td>0</td>\n",
       "      <td>0</td>\n",
       "      <td>0</td>\n",
       "      <td>0</td>\n",
       "    </tr>\n",
       "    <tr>\n",
       "      <th>1451</th>\n",
       "      <td>zoo</td>\n",
       "      <td>0</td>\n",
       "      <td>1</td>\n",
       "      <td>0</td>\n",
       "      <td>0</td>\n",
       "      <td>0</td>\n",
       "    </tr>\n",
       "    <tr>\n",
       "      <th>1452</th>\n",
       "      <td>épée</td>\n",
       "      <td>0</td>\n",
       "      <td>0</td>\n",
       "      <td>1</td>\n",
       "      <td>0</td>\n",
       "      <td>0</td>\n",
       "    </tr>\n",
       "  </tbody>\n",
       "</table>\n",
       "<p>1453 rows × 6 columns</p>\n",
       "</div>"
      ],
      "text/plain": [
       "                        word  business  entertainment  sport  tech  politics\n",
       "0                        3-d         0              1      0     0         0\n",
       "1                         3d         0              1      0     0         0\n",
       "2     access to the internet         0              0      0     1         0\n",
       "3                     accoun         1              0      0     0         0\n",
       "4             account number         1              0      0     0         0\n",
       "...                      ...       ...            ...    ...   ...       ...\n",
       "1448                zarzuela         0              1      0     0         0\n",
       "1449     zero interest rates         1              0      0     0         0\n",
       "1450            zombie funds         1              0      0     0         0\n",
       "1451                     zoo         0              1      0     0         0\n",
       "1452                    épée         0              0      1     0         0\n",
       "\n",
       "[1453 rows x 6 columns]"
      ]
     },
     "execution_count": 2,
     "metadata": {},
     "output_type": "execute_result"
    }
   ],
   "source": [
    "df = pd.read_csv(\"important_words.csv\")\n",
    "df"
   ]
  },
  {
   "attachments": {},
   "cell_type": "markdown",
   "metadata": {},
   "source": [
    "# Business"
   ]
  },
  {
   "attachments": {},
   "cell_type": "markdown",
   "metadata": {},
   "source": [
    "https://www.enchantedlearning.com/wordlist/office.shtml"
   ]
  },
  {
   "cell_type": "code",
   "execution_count": 44,
   "metadata": {},
   "outputs": [],
   "source": [
    "r = requests.get(\"https://www.enchantedlearning.com/wordlist/office.shtml\") #將此頁面的HTML GET下來\n",
    "soup = BeautifulSoup(r.text,\"html.parser\") #將網頁資料以html.parser\n",
    "sel = soup.select(\"div.wordlist-item\") #取HTML標中的 <div class=\"title\"></div> 中的<a>標籤存入sel\n",
    "for s in sel:\n",
    "    text = s.text.lower()\n",
    "    if any(df[\"word\"] == text):\n",
    "        df.loc[df[\"word\"] == text, 'business'] = 1\n",
    "    else:\n",
    "        new_word = pd.DataFrame({\"word\": [text], \"business\": [1], \"entertainment\": [0], \"sport\": [0], \"tech\": [0], \"politics\": [0]})\n",
    "        df = pd.concat([df, new_word], ignore_index=True)"
   ]
  },
  {
   "attachments": {},
   "cell_type": "markdown",
   "metadata": {},
   "source": [
    "https://www.theguardian.com/business/glossary-business-terms-a-z-jargon"
   ]
  },
  {
   "cell_type": "code",
   "execution_count": 45,
   "metadata": {},
   "outputs": [],
   "source": [
    "r = requests.get(\"https://www.theguardian.com/business/glossary-business-terms-a-z-jargon\") #將此頁面的HTML GET下來\n",
    "soup = BeautifulSoup(r.text,\"html.parser\") #將網頁資料以html.parser\n",
    "sel = soup.select(\"p.dcr-n6w1lc a\") #取HTML標中的 <div class=\"title\"></div> 中的<a>標籤存入sel\n",
    "for s in sel:\n",
    "    text = s.text.lower()\n",
    "    if any(df[\"word\"] == text):\n",
    "        df.loc[df[\"word\"] == text, 'business'] = 1\n",
    "    else:\n",
    "        new_word = pd.DataFrame({\"word\": [text], \"business\": [1], \"entertainment\": [0], \"sport\": [0], \"tech\": [0], \"politics\": [0]})\n",
    "        df = pd.concat([df, new_word], ignore_index=True)"
   ]
  },
  {
   "attachments": {},
   "cell_type": "markdown",
   "metadata": {},
   "source": [
    "https://www.excellentesl4u.com/esl-banking-vocabulary.html"
   ]
  },
  {
   "cell_type": "code",
   "execution_count": 46,
   "metadata": {},
   "outputs": [],
   "source": [
    "r = requests.get(\"https://www.excellentesl4u.com/esl-banking-vocabulary.html\") #將此頁面的HTML GET下來\n",
    "soup = BeautifulSoup(r.text,\"html.parser\") #將網頁資料以html.parser\n",
    "sel = soup.select(\"div.Liner ul li b\") #取HTML標中的 <div class=\"title\"></div> 中的<a>標籤存入sel\n",
    "for s in sel:\n",
    "    text = s.text.lower()\n",
    "    if any(df[\"word\"] == text):\n",
    "        df.loc[df[\"word\"] == text, 'business'] = 1\n",
    "    else:\n",
    "        new_word = pd.DataFrame({\"word\": [text], \"business\": [1], \"entertainment\": [0], \"sport\": [0], \"tech\": [0], \"politics\": [0]})\n",
    "        df = pd.concat([df, new_word], ignore_index=True)"
   ]
  },
  {
   "attachments": {},
   "cell_type": "markdown",
   "metadata": {},
   "source": [
    "# Entertainment"
   ]
  },
  {
   "attachments": {},
   "cell_type": "markdown",
   "metadata": {},
   "source": [
    "https://www.vocabulary.com/lists/28741"
   ]
  },
  {
   "cell_type": "code",
   "execution_count": 47,
   "metadata": {},
   "outputs": [],
   "source": [
    "r = requests.get(\"https://www.vocabulary.com/lists/28741\") #將此頁面的HTML GET下來\n",
    "soup = BeautifulSoup(r.text,\"html.parser\") #將網頁資料以html.parser\n",
    "sel = soup.select(\"a.word\") #取HTML標中的 <div class=\"title\"></div> 中的<a>標籤存入sel\n",
    "for s in sel:\n",
    "    text = s.text[1:].lower()\n",
    "    if any(df[\"word\"] == text):\n",
    "        df.loc[df[\"word\"] == text, 'entertainment'] = 1\n",
    "    else:\n",
    "        new_word = pd.DataFrame({\"word\": [text], \"business\": [0], \"entertainment\": [1], \"sport\": [0], \"tech\": [0], \"politics\": [0]})\n",
    "        df = pd.concat([df, new_word], ignore_index=True)"
   ]
  },
  {
   "attachments": {},
   "cell_type": "markdown",
   "metadata": {},
   "source": [
    "https://www.myenglishpages.com/english/vocabulary-lesson-entertainment.php"
   ]
  },
  {
   "attachments": {},
   "cell_type": "markdown",
   "metadata": {},
   "source": [
    "https://www.collinsdictionary.com/word-lists/entertainment-types-of-entertainment"
   ]
  },
  {
   "attachments": {},
   "cell_type": "markdown",
   "metadata": {},
   "source": [
    "https://www.myenglishlanguage.com/essential-vocabulary/entertainment/"
   ]
  },
  {
   "attachments": {},
   "cell_type": "markdown",
   "metadata": {},
   "source": [
    "# Sports"
   ]
  },
  {
   "attachments": {},
   "cell_type": "markdown",
   "metadata": {},
   "source": [
    "https://www.keysearch.co/top-keywords/sports-keywords"
   ]
  },
  {
   "attachments": {},
   "cell_type": "markdown",
   "metadata": {},
   "source": [
    "https://www.englishclub.com/vocabulary/sports-vocab.php"
   ]
  },
  {
   "cell_type": "code",
   "execution_count": 49,
   "metadata": {},
   "outputs": [],
   "source": [
    "r = requests.get(\"https://www.englishclub.com/vocabulary/sports-vocab.php\") #將此頁面的HTML GET下來\n",
    "soup = BeautifulSoup(r.text,\"html.parser\") #將網頁資料以html.parser\n",
    "sel = soup.select(\"div p strong\") #取HTML標中的 <div class=\"title\"></div> 中的<a>標籤存入sel\n",
    "for s in sel:\n",
    "    text = s.text.lower()\n",
    "    if any(df[\"word\"] == text):\n",
    "        df.loc[df[\"word\"] == text, 'sport'] = 1\n",
    "    else:\n",
    "        new_word = pd.DataFrame({\"word\": [text], \"business\": [0], \"entertainment\": [0], \"sport\": [1], \"tech\": [0], \"politics\": [0]})\n",
    "        df = pd.concat([df, new_word], ignore_index=True)"
   ]
  },
  {
   "attachments": {},
   "cell_type": "markdown",
   "metadata": {},
   "source": [
    "https://www.enchantedlearning.com/wordlist/sports.shtml"
   ]
  },
  {
   "cell_type": "code",
   "execution_count": 50,
   "metadata": {},
   "outputs": [],
   "source": [
    "r = requests.get(\"https://www.enchantedlearning.com/wordlist/sports.shtml\") #將此頁面的HTML GET下來\n",
    "soup = BeautifulSoup(r.text,\"html.parser\") #將網頁資料以html.parser\n",
    "sel = soup.select(\"div.wordlist-item\") #取HTML標中的 <div class=\"title\"></div> 中的<a>標籤存入sel\n",
    "for s in sel:\n",
    "    text = s.text.lower()\n",
    "    if any(df[\"word\"] == text):\n",
    "        df.loc[df[\"word\"] == text, 'sport'] = 1\n",
    "    else:\n",
    "        new_word = pd.DataFrame({\"word\": [text], \"business\": [0], \"entertainment\": [0], \"sport\": [1], \"tech\": [0], \"politics\": [0]})\n",
    "        df = pd.concat([df, new_word], ignore_index=True)"
   ]
  },
  {
   "attachments": {},
   "cell_type": "markdown",
   "metadata": {},
   "source": [
    "https://www.excellentesl4u.com/esl-sport-vocabulary.html"
   ]
  },
  {
   "cell_type": "code",
   "execution_count": 51,
   "metadata": {},
   "outputs": [],
   "source": [
    "r = requests.get(\"https://www.excellentesl4u.com/esl-sport-vocabulary.html\") #將此頁面的HTML GET下來\n",
    "soup = BeautifulSoup(r.text,\"html.parser\") #將網頁資料以html.parser\n",
    "sel = soup.select(\"div.Liner p b\") #取HTML標中的 <div class=\"title\"></div> 中的<a>標籤存入sel\n",
    "for s in sel:\n",
    "    text = s.text.lower()\n",
    "    if any(df[\"word\"] == text):\n",
    "        df.loc[df[\"word\"] == text, 'sport'] = 1\n",
    "    else:\n",
    "        new_word = pd.DataFrame({\"word\": [text], \"business\": [0], \"entertainment\": [0], \"sport\": [1], \"tech\": [0], \"politics\": [0]})\n",
    "        df = pd.concat([df, new_word], ignore_index=True)"
   ]
  },
  {
   "attachments": {},
   "cell_type": "markdown",
   "metadata": {},
   "source": [
    "# Tech"
   ]
  },
  {
   "attachments": {},
   "cell_type": "markdown",
   "metadata": {},
   "source": [
    "https://www.ieltsjacky.com/technology-vocabulary.html"
   ]
  },
  {
   "attachments": {},
   "cell_type": "markdown",
   "metadata": {},
   "source": [
    "https://skillcrush.com/blog/99-tech-terms/"
   ]
  },
  {
   "attachments": {},
   "cell_type": "markdown",
   "metadata": {},
   "source": [
    "https://www.ieltspodcast.com/ielts-speaking/modern-technology/"
   ]
  },
  {
   "cell_type": "code",
   "execution_count": 52,
   "metadata": {},
   "outputs": [],
   "source": [
    "r = requests.get(\"https://www.ieltspodcast.com/ielts-speaking/modern-technology/\") #將此頁面的HTML GET下來\n",
    "soup = BeautifulSoup(r.text,\"html.parser\") #將網頁資料以html.parser\n",
    "sel = soup.select(\"div.col-12 ol li strong\") #取HTML標中的 <div class=\"title\"></div> 中的<a>標籤存入sel\n",
    "for s in sel:\n",
    "    text = s.text.lower()\n",
    "    if any(df[\"word\"] == text):\n",
    "        df.loc[df[\"word\"] == text, 'tech'] = 1\n",
    "    else:\n",
    "        new_word = pd.DataFrame({\"word\": [text], \"business\": [0], \"entertainment\": [0], \"sport\": [0], \"tech\": [1], \"politics\": [0]})\n",
    "        df = pd.concat([df, new_word], ignore_index=True)"
   ]
  },
  {
   "attachments": {},
   "cell_type": "markdown",
   "metadata": {},
   "source": [
    "https://ieltspracticeonline.com/top-30-vocabulary-topics-technology/?amp"
   ]
  },
  {
   "cell_type": "code",
   "execution_count": 53,
   "metadata": {},
   "outputs": [],
   "source": [
    "r = requests.get(\"https://ieltspracticeonline.com/top-30-vocabulary-topics-technology/?amp\") #將此頁面的HTML GET下來\n",
    "soup = BeautifulSoup(r.text,\"html.parser\") #將網頁資料以html.parser\n",
    "sel = soup.select(\"div.td-post-content p strong\") #取HTML標中的 <div class=\"title\"></div> 中的<a>標籤存入sel\n",
    "for s in sel:\n",
    "    text = s.text.split('.')[1]\n",
    "    if text[0] == ' ':\n",
    "        text = text[1:].lower()\n",
    "        \n",
    "    if any(df[\"word\"] == text):\n",
    "        df.loc[df[\"word\"] == text, 'tech'] = 1\n",
    "    else:\n",
    "        new_word = pd.DataFrame({\"word\": [text], \"business\": [0], \"entertainment\": [0], \"sport\": [0], \"tech\": [1], \"politics\": [0]})\n",
    "        df = pd.concat([df, new_word], ignore_index=True)"
   ]
  },
  {
   "attachments": {},
   "cell_type": "markdown",
   "metadata": {},
   "source": [
    "# Politics"
   ]
  },
  {
   "attachments": {},
   "cell_type": "markdown",
   "metadata": {},
   "source": [
    "https://www.vocabulary.com/lists/16842"
   ]
  },
  {
   "cell_type": "code",
   "execution_count": 54,
   "metadata": {},
   "outputs": [],
   "source": [
    "r = requests.get(\"https://www.vocabulary.com/lists/16842\") #將此頁面的HTML GET下來\n",
    "soup = BeautifulSoup(r.text,\"html.parser\") #將網頁資料以html.parser\n",
    "sel = soup.select(\"a.word\") #取HTML標中的 <div class=\"title\"></div> 中的<a>標籤存入sel\n",
    "for s in sel:\n",
    "    text = s.text[1:].lower()\n",
    "    if any(df[\"word\"] == text):\n",
    "        df.loc[df[\"word\"] == text, 'politics'] = 1\n",
    "    else:\n",
    "        new_word = pd.DataFrame({\"word\": [text], \"business\": [0], \"entertainment\": [0], \"sport\": [0], \"tech\": [0], \"politics\": [1]})\n",
    "        df = pd.concat([df, new_word], ignore_index=True)"
   ]
  },
  {
   "attachments": {},
   "cell_type": "markdown",
   "metadata": {},
   "source": [
    "https://www.vocabulary.com/lists/183710"
   ]
  },
  {
   "cell_type": "code",
   "execution_count": 55,
   "metadata": {},
   "outputs": [],
   "source": [
    "r = requests.get(\"https://www.vocabulary.com/lists/183710\") #將此頁面的HTML GET下來\n",
    "soup = BeautifulSoup(r.text,\"html.parser\") #將網頁資料以html.parser\n",
    "sel = soup.select(\"a.word\") #取HTML標中的 <div class=\"title\"></div> 中的<a>標籤存入sel\n",
    "for s in sel:\n",
    "    if s.text[0] == ' ':\n",
    "        text = s.text[1:].lower()\n",
    "        \n",
    "    if any(df[\"word\"] == text):\n",
    "        df.loc[df[\"word\"] == text, 'politics'] = 1\n",
    "    else:\n",
    "        new_word = pd.DataFrame({\"word\": [text], \"business\": [0], \"entertainment\": [0], \"sport\": [0], \"tech\": [0], \"politics\": [1]})\n",
    "        df = pd.concat([df, new_word], ignore_index=True)"
   ]
  },
  {
   "attachments": {},
   "cell_type": "markdown",
   "metadata": {},
   "source": [
    "https://www.ecenglish.com/learnenglish/lessons/in-news-poltics-vocabulary"
   ]
  },
  {
   "cell_type": "code",
   "execution_count": 56,
   "metadata": {},
   "outputs": [],
   "source": [
    "r = requests.get(\"https://www.ecenglish.com/learnenglish/lessons/in-news-poltics-vocabulary\") #將此頁面的HTML GET下來\n",
    "soup = BeautifulSoup(r.text,\"html.parser\") #將網頁資料以html.parser\n",
    "sel = soup.select(\"div.content h2\") #取HTML標中的 <div class=\"title\"></div> 中的<a>標籤存入sel\n",
    "for s in sel[:-1]:\n",
    "    text = s.text.split(\" / \")\n",
    "    for t in text:\n",
    "        t = t.lower()\n",
    "        if any(df[\"word\"] == t):\n",
    "            df.loc[df[\"word\"] == t, 'politics'] = 1\n",
    "        else:\n",
    "            new_word = pd.DataFrame({\"word\": [t], \"business\": [0], \"entertainment\": [0], \"sport\": [0], \"tech\": [0], \"politics\": [1]})\n",
    "            df = pd.concat([df, new_word], ignore_index=True)"
   ]
  },
  {
   "attachments": {},
   "cell_type": "markdown",
   "metadata": {},
   "source": [
    "https://www.excellentesl4u.com/esl-politics-vocabulary.html"
   ]
  },
  {
   "cell_type": "code",
   "execution_count": 57,
   "metadata": {},
   "outputs": [],
   "source": [
    "r = requests.get(\"https://www.excellentesl4u.com/esl-politics-vocabulary.html\") #將此頁面的HTML GET下來\n",
    "soup = BeautifulSoup(r.text,\"html.parser\") #將網頁資料以html.parser\n",
    "sel = soup.select(\"div.Liner p b\") #取HTML標中的 <div class=\"title\"></div> 中的<a>標籤存入sel\n",
    "for s in sel:\n",
    "    text = s.text.split(':')[0].lower()\n",
    "    if any(df[\"word\"] == text):\n",
    "        df.loc[df[\"word\"] == text, 'politics'] = 1\n",
    "    else:\n",
    "        new_word = pd.DataFrame({\"word\": [text], \"business\": [0], \"entertainment\": [0], \"sport\": [0], \"tech\": [0], \"politics\": [1]})\n",
    "        df = pd.concat([df, new_word], ignore_index=True)"
   ]
  },
  {
   "attachments": {},
   "cell_type": "markdown",
   "metadata": {},
   "source": [
    "https://www.englishclub.com/glossaries/politics.php"
   ]
  },
  {
   "cell_type": "code",
   "execution_count": 288,
   "metadata": {},
   "outputs": [],
   "source": [
    "r = requests.get(\"https://www.englishclub.com/glossaries/politics.php\") #將此頁面的HTML GET下來\n",
    "soup = BeautifulSoup(r.text,\"html.parser\") #將網頁資料以html.parser\n",
    "sel = soup.select(\"p strong\") #取HTML標中的 <div class=\"title\"></div> 中的<a>標籤存入sel\n",
    "for s in sel:\n",
    "    text = s.text.lower()\n",
    "    if any(df[\"word\"] == text):\n",
    "        df.loc[df[\"word\"] == text, 'politics'] = 1\n",
    "    else:\n",
    "        new_word = pd.DataFrame({\"word\": [text], \"business\": [0], \"entertainment\": [0], \"sport\": [0], \"tech\": [0], \"politics\": [1]})\n",
    "        df = pd.concat([df, new_word], ignore_index=True)"
   ]
  },
  {
   "cell_type": "code",
   "execution_count": 1028,
   "metadata": {},
   "outputs": [],
   "source": [
    "df = pd.read_csv(\"important_words.csv\")\n",
    "text = \"perform\".lower()\n",
    "if any(df[\"word\"] == text):\n",
    "    df.loc[df[\"word\"] == text, 'entertainment'] = 1\n",
    "else:\n",
    "    new_word = pd.DataFrame({\"word\": [text], \"business\": [0], \"entertainment\": [1], \"sport\": [0], \"tech\": [0], \"politics\": [0]})\n",
    "    df = pd.concat([df, new_word], ignore_index=True)"
   ]
  },
  {
   "cell_type": "code",
   "execution_count": 1029,
   "metadata": {},
   "outputs": [],
   "source": [
    "df = df.sort_values(by='word')\n",
    "df.to_csv(\"important_words.csv\", index=False)"
   ]
  },
  {
   "cell_type": "code",
   "execution_count": 1030,
   "metadata": {},
   "outputs": [
    {
     "data": {
      "text/html": [
       "<div>\n",
       "<style scoped>\n",
       "    .dataframe tbody tr th:only-of-type {\n",
       "        vertical-align: middle;\n",
       "    }\n",
       "\n",
       "    .dataframe tbody tr th {\n",
       "        vertical-align: top;\n",
       "    }\n",
       "\n",
       "    .dataframe thead th {\n",
       "        text-align: right;\n",
       "    }\n",
       "</style>\n",
       "<table border=\"1\" class=\"dataframe\">\n",
       "  <thead>\n",
       "    <tr style=\"text-align: right;\">\n",
       "      <th></th>\n",
       "      <th>word</th>\n",
       "      <th>business</th>\n",
       "      <th>entertainment</th>\n",
       "      <th>sport</th>\n",
       "      <th>tech</th>\n",
       "      <th>politics</th>\n",
       "    </tr>\n",
       "  </thead>\n",
       "  <tbody>\n",
       "    <tr>\n",
       "      <th>0</th>\n",
       "      <td>3-d</td>\n",
       "      <td>0</td>\n",
       "      <td>1</td>\n",
       "      <td>0</td>\n",
       "      <td>0</td>\n",
       "      <td>0</td>\n",
       "    </tr>\n",
       "    <tr>\n",
       "      <th>1</th>\n",
       "      <td>3d</td>\n",
       "      <td>0</td>\n",
       "      <td>1</td>\n",
       "      <td>0</td>\n",
       "      <td>0</td>\n",
       "      <td>0</td>\n",
       "    </tr>\n",
       "    <tr>\n",
       "      <th>2</th>\n",
       "      <td>access</td>\n",
       "      <td>0</td>\n",
       "      <td>0</td>\n",
       "      <td>0</td>\n",
       "      <td>1</td>\n",
       "      <td>0</td>\n",
       "    </tr>\n",
       "    <tr>\n",
       "      <th>3</th>\n",
       "      <td>access to the internet</td>\n",
       "      <td>0</td>\n",
       "      <td>0</td>\n",
       "      <td>0</td>\n",
       "      <td>1</td>\n",
       "      <td>0</td>\n",
       "    </tr>\n",
       "    <tr>\n",
       "      <th>4</th>\n",
       "      <td>accoun</td>\n",
       "      <td>1</td>\n",
       "      <td>0</td>\n",
       "      <td>0</td>\n",
       "      <td>0</td>\n",
       "      <td>0</td>\n",
       "    </tr>\n",
       "    <tr>\n",
       "      <th>...</th>\n",
       "      <td>...</td>\n",
       "      <td>...</td>\n",
       "      <td>...</td>\n",
       "      <td>...</td>\n",
       "      <td>...</td>\n",
       "      <td>...</td>\n",
       "    </tr>\n",
       "    <tr>\n",
       "      <th>1786</th>\n",
       "      <td>zarzuela</td>\n",
       "      <td>0</td>\n",
       "      <td>1</td>\n",
       "      <td>0</td>\n",
       "      <td>0</td>\n",
       "      <td>0</td>\n",
       "    </tr>\n",
       "    <tr>\n",
       "      <th>1787</th>\n",
       "      <td>zero interest rates</td>\n",
       "      <td>1</td>\n",
       "      <td>0</td>\n",
       "      <td>0</td>\n",
       "      <td>0</td>\n",
       "      <td>0</td>\n",
       "    </tr>\n",
       "    <tr>\n",
       "      <th>1788</th>\n",
       "      <td>zombie funds</td>\n",
       "      <td>1</td>\n",
       "      <td>0</td>\n",
       "      <td>0</td>\n",
       "      <td>0</td>\n",
       "      <td>0</td>\n",
       "    </tr>\n",
       "    <tr>\n",
       "      <th>1789</th>\n",
       "      <td>zoo</td>\n",
       "      <td>0</td>\n",
       "      <td>1</td>\n",
       "      <td>0</td>\n",
       "      <td>0</td>\n",
       "      <td>0</td>\n",
       "    </tr>\n",
       "    <tr>\n",
       "      <th>1790</th>\n",
       "      <td>épée</td>\n",
       "      <td>0</td>\n",
       "      <td>0</td>\n",
       "      <td>1</td>\n",
       "      <td>0</td>\n",
       "      <td>0</td>\n",
       "    </tr>\n",
       "  </tbody>\n",
       "</table>\n",
       "<p>1791 rows × 6 columns</p>\n",
       "</div>"
      ],
      "text/plain": [
       "                        word  business  entertainment  sport  tech  politics\n",
       "0                        3-d         0              1      0     0         0\n",
       "1                         3d         0              1      0     0         0\n",
       "2                     access         0              0      0     1         0\n",
       "3     access to the internet         0              0      0     1         0\n",
       "4                     accoun         1              0      0     0         0\n",
       "...                      ...       ...            ...    ...   ...       ...\n",
       "1786                zarzuela         0              1      0     0         0\n",
       "1787     zero interest rates         1              0      0     0         0\n",
       "1788            zombie funds         1              0      0     0         0\n",
       "1789                     zoo         0              1      0     0         0\n",
       "1790                    épée         0              0      1     0         0\n",
       "\n",
       "[1791 rows x 6 columns]"
      ]
     },
     "execution_count": 1030,
     "metadata": {},
     "output_type": "execute_result"
    }
   ],
   "source": [
    "df"
   ]
  },
  {
   "cell_type": "code",
   "execution_count": 1031,
   "metadata": {},
   "outputs": [
    {
     "name": "stdout",
     "output_type": "stream",
     "text": [
      "241\n"
     ]
    }
   ],
   "source": [
    "business_imp = df[df[\"entertainment\"] == 1]\n",
    "print(len(business_imp))"
   ]
  },
  {
   "attachments": {},
   "cell_type": "markdown",
   "metadata": {},
   "source": [
    "# -----------"
   ]
  },
  {
   "cell_type": "code",
   "execution_count": 418,
   "metadata": {},
   "outputs": [],
   "source": [
    "from transformers import BertTokenizer\n",
    "import torch\n",
    "import numpy as np\n",
    "\n",
    "tokenizer = BertTokenizer.from_pretrained('bert-base-cased')\n",
    "df = pd.read_csv(\"important_words.csv\")"
   ]
  },
  {
   "cell_type": "code",
   "execution_count": 419,
   "metadata": {},
   "outputs": [],
   "source": [
    "df[\"tokens\"] = [[] for _ in range(len(df.index))]"
   ]
  },
  {
   "cell_type": "code",
   "execution_count": 420,
   "metadata": {},
   "outputs": [
    {
     "data": {
      "text/html": [
       "<div>\n",
       "<style scoped>\n",
       "    .dataframe tbody tr th:only-of-type {\n",
       "        vertical-align: middle;\n",
       "    }\n",
       "\n",
       "    .dataframe tbody tr th {\n",
       "        vertical-align: top;\n",
       "    }\n",
       "\n",
       "    .dataframe thead th {\n",
       "        text-align: right;\n",
       "    }\n",
       "</style>\n",
       "<table border=\"1\" class=\"dataframe\">\n",
       "  <thead>\n",
       "    <tr style=\"text-align: right;\">\n",
       "      <th></th>\n",
       "      <th>word</th>\n",
       "      <th>business</th>\n",
       "      <th>entertainment</th>\n",
       "      <th>sport</th>\n",
       "      <th>tech</th>\n",
       "      <th>politics</th>\n",
       "      <th>tokens</th>\n",
       "    </tr>\n",
       "  </thead>\n",
       "  <tbody>\n",
       "    <tr>\n",
       "      <th>0</th>\n",
       "      <td>3-d</td>\n",
       "      <td>0</td>\n",
       "      <td>1</td>\n",
       "      <td>0</td>\n",
       "      <td>0</td>\n",
       "      <td>0</td>\n",
       "      <td>[]</td>\n",
       "    </tr>\n",
       "    <tr>\n",
       "      <th>1</th>\n",
       "      <td>3d</td>\n",
       "      <td>0</td>\n",
       "      <td>1</td>\n",
       "      <td>0</td>\n",
       "      <td>0</td>\n",
       "      <td>0</td>\n",
       "      <td>[]</td>\n",
       "    </tr>\n",
       "    <tr>\n",
       "      <th>2</th>\n",
       "      <td>access to the internet</td>\n",
       "      <td>0</td>\n",
       "      <td>0</td>\n",
       "      <td>0</td>\n",
       "      <td>1</td>\n",
       "      <td>0</td>\n",
       "      <td>[]</td>\n",
       "    </tr>\n",
       "    <tr>\n",
       "      <th>3</th>\n",
       "      <td>accoun</td>\n",
       "      <td>1</td>\n",
       "      <td>0</td>\n",
       "      <td>0</td>\n",
       "      <td>0</td>\n",
       "      <td>0</td>\n",
       "      <td>[]</td>\n",
       "    </tr>\n",
       "    <tr>\n",
       "      <th>4</th>\n",
       "      <td>account number</td>\n",
       "      <td>1</td>\n",
       "      <td>0</td>\n",
       "      <td>0</td>\n",
       "      <td>0</td>\n",
       "      <td>0</td>\n",
       "      <td>[]</td>\n",
       "    </tr>\n",
       "    <tr>\n",
       "      <th>...</th>\n",
       "      <td>...</td>\n",
       "      <td>...</td>\n",
       "      <td>...</td>\n",
       "      <td>...</td>\n",
       "      <td>...</td>\n",
       "      <td>...</td>\n",
       "      <td>...</td>\n",
       "    </tr>\n",
       "    <tr>\n",
       "      <th>1448</th>\n",
       "      <td>zarzuela</td>\n",
       "      <td>0</td>\n",
       "      <td>1</td>\n",
       "      <td>0</td>\n",
       "      <td>0</td>\n",
       "      <td>0</td>\n",
       "      <td>[]</td>\n",
       "    </tr>\n",
       "    <tr>\n",
       "      <th>1449</th>\n",
       "      <td>zero interest rates</td>\n",
       "      <td>1</td>\n",
       "      <td>0</td>\n",
       "      <td>0</td>\n",
       "      <td>0</td>\n",
       "      <td>0</td>\n",
       "      <td>[]</td>\n",
       "    </tr>\n",
       "    <tr>\n",
       "      <th>1450</th>\n",
       "      <td>zombie funds</td>\n",
       "      <td>1</td>\n",
       "      <td>0</td>\n",
       "      <td>0</td>\n",
       "      <td>0</td>\n",
       "      <td>0</td>\n",
       "      <td>[]</td>\n",
       "    </tr>\n",
       "    <tr>\n",
       "      <th>1451</th>\n",
       "      <td>zoo</td>\n",
       "      <td>0</td>\n",
       "      <td>1</td>\n",
       "      <td>0</td>\n",
       "      <td>0</td>\n",
       "      <td>0</td>\n",
       "      <td>[]</td>\n",
       "    </tr>\n",
       "    <tr>\n",
       "      <th>1452</th>\n",
       "      <td>épée</td>\n",
       "      <td>0</td>\n",
       "      <td>0</td>\n",
       "      <td>1</td>\n",
       "      <td>0</td>\n",
       "      <td>0</td>\n",
       "      <td>[]</td>\n",
       "    </tr>\n",
       "  </tbody>\n",
       "</table>\n",
       "<p>1453 rows × 7 columns</p>\n",
       "</div>"
      ],
      "text/plain": [
       "                        word  business  entertainment  sport  tech  politics  \\\n",
       "0                        3-d         0              1      0     0         0   \n",
       "1                         3d         0              1      0     0         0   \n",
       "2     access to the internet         0              0      0     1         0   \n",
       "3                     accoun         1              0      0     0         0   \n",
       "4             account number         1              0      0     0         0   \n",
       "...                      ...       ...            ...    ...   ...       ...   \n",
       "1448                zarzuela         0              1      0     0         0   \n",
       "1449     zero interest rates         1              0      0     0         0   \n",
       "1450            zombie funds         1              0      0     0         0   \n",
       "1451                     zoo         0              1      0     0         0   \n",
       "1452                    épée         0              0      1     0         0   \n",
       "\n",
       "     tokens  \n",
       "0        []  \n",
       "1        []  \n",
       "2        []  \n",
       "3        []  \n",
       "4        []  \n",
       "...     ...  \n",
       "1448     []  \n",
       "1449     []  \n",
       "1450     []  \n",
       "1451     []  \n",
       "1452     []  \n",
       "\n",
       "[1453 rows x 7 columns]"
      ]
     },
     "execution_count": 420,
     "metadata": {},
     "output_type": "execute_result"
    }
   ],
   "source": [
    "df"
   ]
  },
  {
   "cell_type": "code",
   "execution_count": 421,
   "metadata": {},
   "outputs": [
    {
     "data": {
      "text/html": [
       "<div>\n",
       "<style scoped>\n",
       "    .dataframe tbody tr th:only-of-type {\n",
       "        vertical-align: middle;\n",
       "    }\n",
       "\n",
       "    .dataframe tbody tr th {\n",
       "        vertical-align: top;\n",
       "    }\n",
       "\n",
       "    .dataframe thead th {\n",
       "        text-align: right;\n",
       "    }\n",
       "</style>\n",
       "<table border=\"1\" class=\"dataframe\">\n",
       "  <thead>\n",
       "    <tr style=\"text-align: right;\">\n",
       "      <th></th>\n",
       "      <th>word</th>\n",
       "      <th>business</th>\n",
       "      <th>entertainment</th>\n",
       "      <th>sport</th>\n",
       "      <th>tech</th>\n",
       "      <th>politics</th>\n",
       "      <th>tokens</th>\n",
       "    </tr>\n",
       "  </thead>\n",
       "  <tbody>\n",
       "    <tr>\n",
       "      <th>0</th>\n",
       "      <td>3-d</td>\n",
       "      <td>0</td>\n",
       "      <td>1</td>\n",
       "      <td>0</td>\n",
       "      <td>0</td>\n",
       "      <td>0</td>\n",
       "      <td>[124, 118, 173]</td>\n",
       "    </tr>\n",
       "    <tr>\n",
       "      <th>1</th>\n",
       "      <td>3d</td>\n",
       "      <td>0</td>\n",
       "      <td>1</td>\n",
       "      <td>0</td>\n",
       "      <td>0</td>\n",
       "      <td>0</td>\n",
       "      <td>[124, 1181]</td>\n",
       "    </tr>\n",
       "    <tr>\n",
       "      <th>2</th>\n",
       "      <td>access to the internet</td>\n",
       "      <td>0</td>\n",
       "      <td>0</td>\n",
       "      <td>0</td>\n",
       "      <td>1</td>\n",
       "      <td>0</td>\n",
       "      <td>[2469, 1106, 1103, 7210]</td>\n",
       "    </tr>\n",
       "    <tr>\n",
       "      <th>3</th>\n",
       "      <td>accoun</td>\n",
       "      <td>1</td>\n",
       "      <td>0</td>\n",
       "      <td>0</td>\n",
       "      <td>0</td>\n",
       "      <td>0</td>\n",
       "      <td>[170, 14566, 3488]</td>\n",
       "    </tr>\n",
       "    <tr>\n",
       "      <th>4</th>\n",
       "      <td>account number</td>\n",
       "      <td>1</td>\n",
       "      <td>0</td>\n",
       "      <td>0</td>\n",
       "      <td>0</td>\n",
       "      <td>0</td>\n",
       "      <td>[3300, 1295]</td>\n",
       "    </tr>\n",
       "    <tr>\n",
       "      <th>...</th>\n",
       "      <td>...</td>\n",
       "      <td>...</td>\n",
       "      <td>...</td>\n",
       "      <td>...</td>\n",
       "      <td>...</td>\n",
       "      <td>...</td>\n",
       "      <td>...</td>\n",
       "    </tr>\n",
       "    <tr>\n",
       "      <th>1448</th>\n",
       "      <td>zarzuela</td>\n",
       "      <td>0</td>\n",
       "      <td>1</td>\n",
       "      <td>0</td>\n",
       "      <td>0</td>\n",
       "      <td>0</td>\n",
       "      <td>[195, 1813, 10337, 9945]</td>\n",
       "    </tr>\n",
       "    <tr>\n",
       "      <th>1449</th>\n",
       "      <td>zero interest rates</td>\n",
       "      <td>1</td>\n",
       "      <td>0</td>\n",
       "      <td>0</td>\n",
       "      <td>0</td>\n",
       "      <td>0</td>\n",
       "      <td>[6756, 2199, 5600]</td>\n",
       "    </tr>\n",
       "    <tr>\n",
       "      <th>1450</th>\n",
       "      <td>zombie funds</td>\n",
       "      <td>1</td>\n",
       "      <td>0</td>\n",
       "      <td>0</td>\n",
       "      <td>0</td>\n",
       "      <td>0</td>\n",
       "      <td>[16192, 4381]</td>\n",
       "    </tr>\n",
       "    <tr>\n",
       "      <th>1451</th>\n",
       "      <td>zoo</td>\n",
       "      <td>0</td>\n",
       "      <td>1</td>\n",
       "      <td>0</td>\n",
       "      <td>0</td>\n",
       "      <td>0</td>\n",
       "      <td>[15003]</td>\n",
       "    </tr>\n",
       "    <tr>\n",
       "      <th>1452</th>\n",
       "      <td>épée</td>\n",
       "      <td>0</td>\n",
       "      <td>0</td>\n",
       "      <td>1</td>\n",
       "      <td>0</td>\n",
       "      <td>0</td>\n",
       "      <td>[255, 1643, 8533]</td>\n",
       "    </tr>\n",
       "  </tbody>\n",
       "</table>\n",
       "<p>1453 rows × 7 columns</p>\n",
       "</div>"
      ],
      "text/plain": [
       "                        word  business  entertainment  sport  tech  politics  \\\n",
       "0                        3-d         0              1      0     0         0   \n",
       "1                         3d         0              1      0     0         0   \n",
       "2     access to the internet         0              0      0     1         0   \n",
       "3                     accoun         1              0      0     0         0   \n",
       "4             account number         1              0      0     0         0   \n",
       "...                      ...       ...            ...    ...   ...       ...   \n",
       "1448                zarzuela         0              1      0     0         0   \n",
       "1449     zero interest rates         1              0      0     0         0   \n",
       "1450            zombie funds         1              0      0     0         0   \n",
       "1451                     zoo         0              1      0     0         0   \n",
       "1452                    épée         0              0      1     0         0   \n",
       "\n",
       "                        tokens  \n",
       "0              [124, 118, 173]  \n",
       "1                  [124, 1181]  \n",
       "2     [2469, 1106, 1103, 7210]  \n",
       "3           [170, 14566, 3488]  \n",
       "4                 [3300, 1295]  \n",
       "...                        ...  \n",
       "1448  [195, 1813, 10337, 9945]  \n",
       "1449        [6756, 2199, 5600]  \n",
       "1450             [16192, 4381]  \n",
       "1451                   [15003]  \n",
       "1452         [255, 1643, 8533]  \n",
       "\n",
       "[1453 rows x 7 columns]"
      ]
     },
     "execution_count": 421,
     "metadata": {},
     "output_type": "execute_result"
    }
   ],
   "source": [
    "for i in range(len(df)):\n",
    "    out = tokenizer(df.iloc[i, 0], padding='do_not_pad', \\\n",
    "                    max_length = 512, truncation=True, return_tensors=\"pt\")\n",
    "    \n",
    "    for j in range(1, len(out[\"input_ids\"][0]) - 1):\n",
    "        df.iloc[i, 6].append(out[\"input_ids\"][0][j].item())\n",
    "df"
   ]
  }
 ],
 "metadata": {
  "kernelspec": {
   "display_name": "BERT_Practice",
   "language": "python",
   "name": "python3"
  },
  "language_info": {
   "codemirror_mode": {
    "name": "ipython",
    "version": 3
   },
   "file_extension": ".py",
   "mimetype": "text/x-python",
   "name": "python",
   "nbconvert_exporter": "python",
   "pygments_lexer": "ipython3",
   "version": "3.8.5"
  },
  "orig_nbformat": 4
 },
 "nbformat": 4,
 "nbformat_minor": 2
}
